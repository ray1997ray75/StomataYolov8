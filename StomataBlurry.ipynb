{
 "cells": [
  {
   "cell_type": "markdown",
   "metadata": {},
   "source": [
    "## The pipeline of only use the blurry Stomata to train the Yolov8\n",
    "\n",
    "Only use classes Stomata.blurry and Stomata complete and blurry complete .\n",
    "\n",
    "Degin a dataaugment to let the model work better."
   ]
  },
  {
   "cell_type": "code",
   "execution_count": null,
   "metadata": {},
   "outputs": [],
   "source": [
    "from ultralytics import YOLO\n",
    "import torch\n",
    "import cv2\n",
    "\n"
   ]
  },
  {
   "cell_type": "code",
   "execution_count": null,
   "metadata": {},
   "outputs": [],
   "source": [
    "\n",
    "class_name_to_id_mapping = {\n",
    "    \"complete\": 0,\n",
    "    \"blurry.complete\": 2, \n",
    "            } # leaves hair\n",
    "\n",
    "class_id_to_name_mapping = dict(zip(class_name_to_id_mapping.values(), class_name_to_id_mapping.keys()))\n",
    "\n",
    "\n",
    "\n",
    "\n",
    "\n",
    "\n",
    "model = YOLO(\"yolov8m.pt\")\n",
    "\n",
    "\n"
   ]
  }
 ],
 "metadata": {
  "kernelspec": {
   "display_name": "Yolov8Stomata",
   "language": "python",
   "name": "python3"
  },
  "language_info": {
   "name": "python",
   "version": "3.10.13"
  }
 },
 "nbformat": 4,
 "nbformat_minor": 2
}
