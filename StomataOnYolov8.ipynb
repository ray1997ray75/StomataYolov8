{
 "cells": [
  {
   "cell_type": "markdown",
   "metadata": {},
   "source": [
    "# Install Essential Package"
   ]
  },
  {
   "cell_type": "code",
   "execution_count": 2,
   "metadata": {},
   "outputs": [
    {
     "name": "stdout",
     "output_type": "stream",
     "text": [
      "Requirement already satisfied: tqdm in /home/ray/.local/lib/python3.10/site-packages (4.66.1)\n",
      "Requirement already satisfied: ultralytics in /home/ray/anaconda3/envs/Yolov8Stomata/lib/python3.10/site-packages (8.1.0)\n",
      "Requirement already satisfied: matplotlib>=3.3.0 in /home/ray/.local/lib/python3.10/site-packages (from ultralytics) (3.8.0)\n",
      "Requirement already satisfied: numpy>=1.22.2 in /home/ray/.local/lib/python3.10/site-packages (from ultralytics) (1.26.1)\n",
      "Requirement already satisfied: opencv-python>=4.6.0 in /home/ray/.local/lib/python3.10/site-packages (from ultralytics) (4.8.1.78)\n",
      "Requirement already satisfied: pillow>=7.1.2 in /home/ray/anaconda3/envs/Yolov8Stomata/lib/python3.10/site-packages (from ultralytics) (10.2.0)\n",
      "Requirement already satisfied: pyyaml>=5.3.1 in /home/ray/anaconda3/envs/Yolov8Stomata/lib/python3.10/site-packages (from ultralytics) (6.0.1)\n",
      "Requirement already satisfied: requests>=2.23.0 in /home/ray/.local/lib/python3.10/site-packages (from ultralytics) (2.31.0)\n",
      "Requirement already satisfied: scipy>=1.4.1 in /home/ray/.local/lib/python3.10/site-packages (from ultralytics) (1.11.3)\n",
      "Requirement already satisfied: torch>=1.8.0 in /home/ray/.local/lib/python3.10/site-packages (from ultralytics) (2.1.0)\n",
      "Requirement already satisfied: torchvision>=0.9.0 in /home/ray/.local/lib/python3.10/site-packages (from ultralytics) (0.16.0)\n",
      "Requirement already satisfied: tqdm>=4.64.0 in /home/ray/.local/lib/python3.10/site-packages (from ultralytics) (4.66.1)\n",
      "Requirement already satisfied: psutil in /home/ray/anaconda3/envs/Yolov8Stomata/lib/python3.10/site-packages (from ultralytics) (5.9.7)\n",
      "Requirement already satisfied: py-cpuinfo in /home/ray/.local/lib/python3.10/site-packages (from ultralytics) (9.0.0)\n",
      "Requirement already satisfied: thop>=0.1.1 in /home/ray/.local/lib/python3.10/site-packages (from ultralytics) (0.1.1.post2209072238)\n",
      "Requirement already satisfied: pandas>=1.1.4 in /home/ray/.local/lib/python3.10/site-packages (from ultralytics) (2.1.1)\n",
      "Requirement already satisfied: seaborn>=0.11.0 in /home/ray/.local/lib/python3.10/site-packages (from ultralytics) (0.13.0)\n",
      "Requirement already satisfied: hub-sdk>=0.0.2 in /home/ray/anaconda3/envs/Yolov8Stomata/lib/python3.10/site-packages (from ultralytics) (0.0.2)\n",
      "Requirement already satisfied: contourpy>=1.0.1 in /home/ray/.local/lib/python3.10/site-packages (from matplotlib>=3.3.0->ultralytics) (1.1.1)\n",
      "Requirement already satisfied: cycler>=0.10 in /home/ray/.local/lib/python3.10/site-packages (from matplotlib>=3.3.0->ultralytics) (0.12.1)\n",
      "Requirement already satisfied: fonttools>=4.22.0 in /home/ray/.local/lib/python3.10/site-packages (from matplotlib>=3.3.0->ultralytics) (4.43.1)\n",
      "Requirement already satisfied: kiwisolver>=1.0.1 in /home/ray/.local/lib/python3.10/site-packages (from matplotlib>=3.3.0->ultralytics) (1.4.5)\n",
      "Requirement already satisfied: packaging>=20.0 in /home/ray/.local/lib/python3.10/site-packages (from matplotlib>=3.3.0->ultralytics) (23.2)\n",
      "Requirement already satisfied: pyparsing>=2.3.1 in /home/ray/anaconda3/envs/Yolov8Stomata/lib/python3.10/site-packages (from matplotlib>=3.3.0->ultralytics) (3.1.1)\n",
      "Requirement already satisfied: python-dateutil>=2.7 in /home/ray/.local/lib/python3.10/site-packages (from matplotlib>=3.3.0->ultralytics) (2.8.2)\n",
      "Requirement already satisfied: pytz>=2020.1 in /home/ray/anaconda3/envs/Yolov8Stomata/lib/python3.10/site-packages (from pandas>=1.1.4->ultralytics) (2023.3.post1)\n",
      "Requirement already satisfied: tzdata>=2022.1 in /home/ray/.local/lib/python3.10/site-packages (from pandas>=1.1.4->ultralytics) (2023.3)\n",
      "Requirement already satisfied: charset-normalizer<4,>=2 in /home/ray/.local/lib/python3.10/site-packages (from requests>=2.23.0->ultralytics) (3.3.0)\n",
      "Requirement already satisfied: idna<4,>=2.5 in /home/ray/anaconda3/envs/Yolov8Stomata/lib/python3.10/site-packages (from requests>=2.23.0->ultralytics) (3.6)\n",
      "Requirement already satisfied: urllib3<3,>=1.21.1 in /home/ray/anaconda3/envs/Yolov8Stomata/lib/python3.10/site-packages (from requests>=2.23.0->ultralytics) (2.1.0)\n",
      "Requirement already satisfied: certifi>=2017.4.17 in /home/ray/anaconda3/envs/Yolov8Stomata/lib/python3.10/site-packages (from requests>=2.23.0->ultralytics) (2023.11.17)\n",
      "Requirement already satisfied: filelock in /home/ray/.local/lib/python3.10/site-packages (from torch>=1.8.0->ultralytics) (3.12.4)\n",
      "Requirement already satisfied: typing-extensions in /home/ray/.local/lib/python3.10/site-packages (from torch>=1.8.0->ultralytics) (4.8.0)\n",
      "Requirement already satisfied: sympy in /home/ray/.local/lib/python3.10/site-packages (from torch>=1.8.0->ultralytics) (1.12)\n",
      "Requirement already satisfied: networkx in /home/ray/.local/lib/python3.10/site-packages (from torch>=1.8.0->ultralytics) (3.1)\n",
      "Requirement already satisfied: jinja2 in /home/ray/.local/lib/python3.10/site-packages (from torch>=1.8.0->ultralytics) (3.1.2)\n",
      "Requirement already satisfied: fsspec in /home/ray/.local/lib/python3.10/site-packages (from torch>=1.8.0->ultralytics) (2023.9.2)\n",
      "Requirement already satisfied: nvidia-cuda-nvrtc-cu12==12.1.105 in /home/ray/.local/lib/python3.10/site-packages (from torch>=1.8.0->ultralytics) (12.1.105)\n",
      "Requirement already satisfied: nvidia-cuda-runtime-cu12==12.1.105 in /home/ray/.local/lib/python3.10/site-packages (from torch>=1.8.0->ultralytics) (12.1.105)\n",
      "Requirement already satisfied: nvidia-cuda-cupti-cu12==12.1.105 in /home/ray/.local/lib/python3.10/site-packages (from torch>=1.8.0->ultralytics) (12.1.105)\n",
      "Requirement already satisfied: nvidia-cudnn-cu12==8.9.2.26 in /home/ray/.local/lib/python3.10/site-packages (from torch>=1.8.0->ultralytics) (8.9.2.26)\n",
      "Requirement already satisfied: nvidia-cublas-cu12==12.1.3.1 in /home/ray/.local/lib/python3.10/site-packages (from torch>=1.8.0->ultralytics) (12.1.3.1)\n",
      "Requirement already satisfied: nvidia-cufft-cu12==11.0.2.54 in /home/ray/.local/lib/python3.10/site-packages (from torch>=1.8.0->ultralytics) (11.0.2.54)\n",
      "Requirement already satisfied: nvidia-curand-cu12==10.3.2.106 in /home/ray/.local/lib/python3.10/site-packages (from torch>=1.8.0->ultralytics) (10.3.2.106)\n",
      "Requirement already satisfied: nvidia-cusolver-cu12==11.4.5.107 in /home/ray/.local/lib/python3.10/site-packages (from torch>=1.8.0->ultralytics) (11.4.5.107)\n",
      "Requirement already satisfied: nvidia-cusparse-cu12==12.1.0.106 in /home/ray/.local/lib/python3.10/site-packages (from torch>=1.8.0->ultralytics) (12.1.0.106)\n",
      "Requirement already satisfied: nvidia-nccl-cu12==2.18.1 in /home/ray/.local/lib/python3.10/site-packages (from torch>=1.8.0->ultralytics) (2.18.1)\n",
      "Requirement already satisfied: nvidia-nvtx-cu12==12.1.105 in /home/ray/.local/lib/python3.10/site-packages (from torch>=1.8.0->ultralytics) (12.1.105)\n",
      "Requirement already satisfied: triton==2.1.0 in /home/ray/.local/lib/python3.10/site-packages (from torch>=1.8.0->ultralytics) (2.1.0)\n",
      "Requirement already satisfied: nvidia-nvjitlink-cu12 in /home/ray/.local/lib/python3.10/site-packages (from nvidia-cusolver-cu12==11.4.5.107->torch>=1.8.0->ultralytics) (12.2.140)\n",
      "Requirement already satisfied: six>=1.5 in /home/ray/anaconda3/envs/Yolov8Stomata/lib/python3.10/site-packages (from python-dateutil>=2.7->matplotlib>=3.3.0->ultralytics) (1.16.0)\n",
      "Requirement already satisfied: MarkupSafe>=2.0 in /home/ray/anaconda3/envs/Yolov8Stomata/lib/python3.10/site-packages (from jinja2->torch>=1.8.0->ultralytics) (2.1.3)\n",
      "Requirement already satisfied: mpmath>=0.19 in /home/ray/.local/lib/python3.10/site-packages (from sympy->torch>=1.8.0->ultralytics) (1.3.0)\n",
      "Requirement already satisfied: torch in /home/ray/.local/lib/python3.10/site-packages (2.1.0)\n",
      "Requirement already satisfied: torchvision in /home/ray/.local/lib/python3.10/site-packages (0.16.0)\n",
      "Requirement already satisfied: torchaudio in /home/ray/.local/lib/python3.10/site-packages (2.1.0)\n",
      "Requirement already satisfied: filelock in /home/ray/.local/lib/python3.10/site-packages (from torch) (3.12.4)\n",
      "Requirement already satisfied: typing-extensions in /home/ray/.local/lib/python3.10/site-packages (from torch) (4.8.0)\n",
      "Requirement already satisfied: sympy in /home/ray/.local/lib/python3.10/site-packages (from torch) (1.12)\n",
      "Requirement already satisfied: networkx in /home/ray/.local/lib/python3.10/site-packages (from torch) (3.1)\n",
      "Requirement already satisfied: jinja2 in /home/ray/.local/lib/python3.10/site-packages (from torch) (3.1.2)\n",
      "Requirement already satisfied: fsspec in /home/ray/.local/lib/python3.10/site-packages (from torch) (2023.9.2)\n",
      "Requirement already satisfied: nvidia-cuda-nvrtc-cu12==12.1.105 in /home/ray/.local/lib/python3.10/site-packages (from torch) (12.1.105)\n",
      "Requirement already satisfied: nvidia-cuda-runtime-cu12==12.1.105 in /home/ray/.local/lib/python3.10/site-packages (from torch) (12.1.105)\n",
      "Requirement already satisfied: nvidia-cuda-cupti-cu12==12.1.105 in /home/ray/.local/lib/python3.10/site-packages (from torch) (12.1.105)\n",
      "Requirement already satisfied: nvidia-cudnn-cu12==8.9.2.26 in /home/ray/.local/lib/python3.10/site-packages (from torch) (8.9.2.26)\n",
      "Requirement already satisfied: nvidia-cublas-cu12==12.1.3.1 in /home/ray/.local/lib/python3.10/site-packages (from torch) (12.1.3.1)\n",
      "Requirement already satisfied: nvidia-cufft-cu12==11.0.2.54 in /home/ray/.local/lib/python3.10/site-packages (from torch) (11.0.2.54)\n",
      "Requirement already satisfied: nvidia-curand-cu12==10.3.2.106 in /home/ray/.local/lib/python3.10/site-packages (from torch) (10.3.2.106)\n",
      "Requirement already satisfied: nvidia-cusolver-cu12==11.4.5.107 in /home/ray/.local/lib/python3.10/site-packages (from torch) (11.4.5.107)\n",
      "Requirement already satisfied: nvidia-cusparse-cu12==12.1.0.106 in /home/ray/.local/lib/python3.10/site-packages (from torch) (12.1.0.106)\n",
      "Requirement already satisfied: nvidia-nccl-cu12==2.18.1 in /home/ray/.local/lib/python3.10/site-packages (from torch) (2.18.1)\n",
      "Requirement already satisfied: nvidia-nvtx-cu12==12.1.105 in /home/ray/.local/lib/python3.10/site-packages (from torch) (12.1.105)\n",
      "Requirement already satisfied: triton==2.1.0 in /home/ray/.local/lib/python3.10/site-packages (from torch) (2.1.0)\n",
      "Requirement already satisfied: nvidia-nvjitlink-cu12 in /home/ray/.local/lib/python3.10/site-packages (from nvidia-cusolver-cu12==11.4.5.107->torch) (12.2.140)\n",
      "Requirement already satisfied: numpy in /home/ray/.local/lib/python3.10/site-packages (from torchvision) (1.26.1)\n",
      "Requirement already satisfied: requests in /home/ray/.local/lib/python3.10/site-packages (from torchvision) (2.31.0)\n",
      "Requirement already satisfied: pillow!=8.3.*,>=5.3.0 in /home/ray/anaconda3/envs/Yolov8Stomata/lib/python3.10/site-packages (from torchvision) (10.2.0)\n",
      "Requirement already satisfied: MarkupSafe>=2.0 in /home/ray/anaconda3/envs/Yolov8Stomata/lib/python3.10/site-packages (from jinja2->torch) (2.1.3)\n",
      "Requirement already satisfied: charset-normalizer<4,>=2 in /home/ray/.local/lib/python3.10/site-packages (from requests->torchvision) (3.3.0)\n",
      "Requirement already satisfied: idna<4,>=2.5 in /home/ray/anaconda3/envs/Yolov8Stomata/lib/python3.10/site-packages (from requests->torchvision) (3.6)\n",
      "Requirement already satisfied: urllib3<3,>=1.21.1 in /home/ray/anaconda3/envs/Yolov8Stomata/lib/python3.10/site-packages (from requests->torchvision) (2.1.0)\n",
      "Requirement already satisfied: certifi>=2017.4.17 in /home/ray/anaconda3/envs/Yolov8Stomata/lib/python3.10/site-packages (from requests->torchvision) (2023.11.17)\n",
      "Requirement already satisfied: mpmath>=0.19 in /home/ray/.local/lib/python3.10/site-packages (from sympy->torch) (1.3.0)\n",
      "Requirement already satisfied: utils in /home/ray/anaconda3/envs/Yolov8Stomata/lib/python3.10/site-packages (1.0.1)\n"
     ]
    }
   ],
   "source": [
    "\n",
    "\n",
    "!pip install  tqdm\n",
    "!pip install -U ultralytics\n",
    "!pip install torch torchvision torchaudio\n",
    "!pip install utils\n",
    "\n",
    "import torch\n",
    "import utils\n",
    "from IPython.display import Image  # for displaying images\n",
    "import os\n",
    "import random\n",
    "import shutil\n",
    "from sklearn.model_selection import train_test_split\n",
    "import xml.etree.ElementTree as ET\n",
    "from xml.dom import minidom\n",
    "from tqdm import tqdm\n",
    "from PIL import Image, ImageDraw ,ImageFont\n",
    "import numpy as np\n",
    "import matplotlib.pyplot as plt\n",
    "import cv2\n",
    "\n",
    "\n",
    "font_path = os.path.join(cv2.__path__[0],'qt','fonts','DejaVuSans.ttf')\n",
    "random.seed(108)\n"
   ]
  },
  {
   "cell_type": "code",
   "execution_count": 1,
   "metadata": {},
   "outputs": [
    {
     "ename": "NameError",
     "evalue": "name 'ultralytics' is not defined",
     "output_type": "error",
     "traceback": [
      "\u001b[0;31m---------------------------------------------------------------------------\u001b[0m",
      "\u001b[0;31mNameError\u001b[0m                                 Traceback (most recent call last)",
      "\u001b[1;32m/home/ray/StomataYolov8/StomataOnYolov8.ipynb Cell 3\u001b[0m line \u001b[0;36m1\n\u001b[0;32m----> <a href='vscode-notebook-cell:/home/ray/StomataYolov8/StomataOnYolov8.ipynb#X42sZmlsZQ%3D%3D?line=0'>1</a>\u001b[0m ultralytics\u001b[39m.\u001b[39mchecks()\n",
      "\u001b[0;31mNameError\u001b[0m: name 'ultralytics' is not defined"
     ]
    }
   ],
   "source": [
    "ultralytics.checks()"
   ]
  },
  {
   "cell_type": "markdown",
   "metadata": {},
   "source": [
    "# Show Label On Image\n",
    "## Extract Info From Xml\n",
    "## change PASCAL VOC .xml to yolov5 .txt"
   ]
  },
  {
   "cell_type": "code",
   "execution_count": 12,
   "metadata": {},
   "outputs": [
    {
     "name": "stdout",
     "output_type": "stream",
     "text": [
      "/home/ray/StomataYolov8\n"
     ]
    }
   ],
   "source": [
    "!pwd"
   ]
  },
  {
   "cell_type": "code",
   "execution_count": 13,
   "metadata": {},
   "outputs": [],
   "source": [
    "\n",
    "\n",
    "dir_name = \"AllData\"\n",
    "\n",
    "\n",
    "\n",
    "# Function to get the data from XML Annotation\n",
    "def extract_info_from_xml(xml_file):\n",
    "    root = ET.parse(xml_file).getroot()\n",
    "\n",
    "    # Initialise the info dict\n",
    "    info_dict = {}\n",
    "    info_dict['bboxes'] = []\n",
    "    \n",
    "    for elem in root:\n",
    "        # Get the file name\n",
    "        if elem.tag == \"filename\":\n",
    "            info_dict['filename'] = elem.text\n",
    "\n",
    "        # Get the image size\n",
    "        elif elem.tag == \"size\":\n",
    "            image_size = []\n",
    "            for subelem in elem:\n",
    "                image_size.append(int(subelem.text))\n",
    "\n",
    "            info_dict['image_size'] = tuple(image_size)\n",
    "\n",
    "        # Get details of the bounding box\n",
    "        elif elem.tag == \"object\":\n",
    "            bbox = {}\n",
    "            for subelem in elem:\n",
    "                if subelem.tag == \"name\":\n",
    "                    bbox[\"class\"] = subelem.text\n",
    "\n",
    "                elif subelem.tag == \"robndbox\":\n",
    "                    for subsubelem in subelem:\n",
    "                        bbox[subsubelem.tag] = int(float(subsubelem.text))\n",
    "            info_dict['bboxes'].append(bbox)\n",
    "\n",
    "    return info_dict\n",
    "\n",
    "\n",
    "#xml choose complete\n",
    "\n",
    "class_name_to_id_mapping = {\"complete\": 0,\n",
    "                \"incomplete\": 1,\n",
    "                           \"blurry.complete\": 2,\n",
    "                           \"blurry.incomplete\" :3 , #\n",
    "                           \"hair\":4} # human hair\n",
    "\n",
    "# change robndbox to yolov5 format\n",
    "def convert_to_yolov8(info_dict) :\n",
    "    print_buffer = []\n",
    "\n",
    "    # For each bounding box\n",
    "    for b in info_dict[\"bboxes\"]:\n",
    "        try:\n",
    "            class_id = class_name_to_id_mapping[b[\"class\"]]\n",
    "        except KeyError:\n",
    "            print(\"Invalid Class. Must be one from \", class_name_to_id_mapping.keys())\n",
    "\n",
    "        # robndbox format\n",
    "        # Transform the bbox co-ordinates as per the format required by YOLO v5\n",
    "        b_center_x = int(b[\"cx\"])\n",
    "        b_center_y = int(b[\"cy\"])\n",
    "        b_width = int(b[\"w\"])\n",
    "        b_height = int(b[\"h\"])\n",
    "\n",
    "        # Normalise the co-ordinates by the dimensions of the image\n",
    "        image_w, image_h, image_c = info_dict[\"image_size\"]\n",
    "        b_center_x /= image_w\n",
    "        b_center_y /= image_h\n",
    "        b_width    /= image_w\n",
    "        b_height   /= image_h\n",
    "\n",
    "        #Write the bbox details to the file\n",
    "        print_buffer.append(\"{} {:.3f} {:.3f} {:.3f} {:.3f}\".format(class_id, b_center_x, b_center_y, b_width, b_height))\n",
    "\n",
    "    # Name of the file which we have to save\n",
    "    save_file_name = os.path.join('./' + dir_name, info_dict[\"filename\"] + '.txt' )\n",
    "\n",
    "    # Save the annotation to disk\n",
    "    print(\"\\n\".join(print_buffer), file= open(save_file_name, \"w\"))"
   ]
  },
  {
   "cell_type": "code",
   "execution_count": 14,
   "metadata": {},
   "outputs": [
    {
     "name": "stderr",
     "output_type": "stream",
     "text": [
      "100%|██████████| 466/466 [00:00<00:00, 2139.57it/s]"
     ]
    },
    {
     "name": "stdout",
     "output_type": "stream",
     "text": [
      "['./AllData/T22L600_W1_A4_R4_P242_g178_2.txt', './AllData/T22L600_W1_A4_R7_P405_g26_2.txt', './AllData/T22L600_W3_GC1_R1_P13_g126_5.txt', './AllData/T16L600_W1_GC2_R6_P342_g203_1.txt', './AllData/T22L600_W1_A4_R4_P258_g150_4.txt', './AllData/T16L600_W1_GC1_R2_P123_g35_7.txt', './AllData/32TL600_W1_GC1_R1_P69_G92_6.txt', './AllData/T16L600_W1_GC1_R2_P93_g49_7.txt', './AllData/T22L600_W1_GC1_R2_P112_g103_8.txt', './AllData/32TL600_W1_GC1_R2_P94_G176_2.txt', './AllData/T22L600_W1_GC1_R2_P102_g97_4.txt', './AllData/T16L600_W3_GC1_R2_P92_g12_6.txt', './AllData/T16L600_W3_GC1_R2_P74_g55_4.txt', './AllData/T22L600_W1_A4_R4_P224_g109_8.txt', './AllData/32TL600_W1_GC1_R1_P55_G55_4.txt', './AllData/T16L600_W3_GC1_R2_P92_g12_3.txt', './AllData/T16L600_W3_GC1_R2_P97_g47_1.txt', './AllData/T22L600_W1_GC1_R2_P122_g13_4.txt', './AllData/T16L600_W3_GC2_R6_P382_g190_6.txt', './AllData/T16L600_W1_GC2_R6_P352_g193_5.txt', './AllData/T22L600_W1_GC1_R2_P121_g29_7.txt', './AllData/T16L600_W3_GC2_R6_P338_g173_6.txt', './AllData/T16L600_W3_GC1_R2_P112_g83_6.txt', './AllData/32TL600_W1_GC1_R2_P102_G201_1.txt', './AllData/T22L600_W1_A4_R4_P217_g173_8.txt', './AllData/T22L600_W1_A4_R4_P211_g213_2.txt', './AllData/T16L600_W1_GC2_R6_P373_g194_2.txt', './AllData/T22L600_W1_GC1_R2_P108_g67_6.txt', './AllData/T16L600_W1_GC2_R6_P366_g212_4.txt', './AllData/T22L600_W1_GC1_R2_P99_g47_5.txt', './AllData/T22L600_W1_GC1_R2_P100_g60_4.txt', './AllData/T16L600_W1_GC1_R2_P118_g29_4.txt', './AllData/T22L600_W1_GC1_R2_P125_g83_2.txt', './AllData/T22L600_W1_A4_R4_P261_g193_7.txt', './AllData/T16L600_W3_GC2_R6_P373_g194_2.txt', './AllData/32TL600_W1_GC1_R1_P66_G97_5.txt', './AllData/T22L600_W1_GC1_R2_P129_g48_5.txt', './AllData/T16L600_W3_GC2_R6_P358_g150_5.txt', './AllData/T16L600_W1_GC2_R6_P333_g134_7.txt', './AllData/T16L600_W1_GC2_R6_P349_g225_5.txt', './AllData/T16L600_W1_GC2_R6_P346_g209_3.txt', './AllData/T16L600_W1_GC1_R2_P107_g54_4.txt', './AllData/T16L600_W1_GC1_R2_P106_g60_8.txt', './AllData/T16L600_W1_GC2_R6_P373_g194_8.txt', './AllData/32TL600_W1_GC1_R1_P38_G50_1.txt', './AllData/T16L600_W3_GC1_R2_P90_g67_8.txt', './AllData/32TL600_W1_GC1_R2_P91_G166_8.txt', './AllData/T16L600_W3_GC1_R2_P81_g99_8.txt', './AllData/T16L600_W3_GC1_R2_P113_g61_5.txt', './AllData/32TL600_W1_GC1_R2_P86_G190_5.txt', './AllData/T16L600_W3_GC2_R6_P327_g108_1.txt', './AllData/32TL600_W1_GC1_R2_P91_G166_1.txt', './AllData/T16L600_W1_GC1_R2_P77_g66_6.txt', './AllData/T16L600_W3_GC2_R6_P342_g203_1.txt', './AllData/T16L600_W3_GC2_R6_P378_g213_5.txt', './AllData/T16L600_W3_GC2_R6_P379_g171_6.txt', './AllData/T16L600_W1_GC2_R6_P378_g213_5.txt', './AllData/32TL600_W1_GC1_R1_P24_G44_2.txt', './AllData/32TL600_W1_GC1_R1_P35_G100_1.txt', './AllData/T16L600_W3_GC2_R6_P330_g161_3.txt', './AllData/T16L600_W1_GC2_R6_P337_g222_5.txt', './AllData/T22L600_W1_GC1_R2_P90_g26_7.txt', './AllData/T22L600_W1_GC1_R2_P77_g92_3.txt', './AllData/T16L600_W3_GC2_R6_P379_g171_1.txt', './AllData/T16L600_W3_GC2_R6_P333_g134_5.txt', './AllData/T22L600_W1_GC1_R2_P128_g88_3.txt', './AllData/T22L600_W3_GC1_R1_P13_g126_1.txt', './AllData/T22L600_W1_GC1_R2_P131_g100_1.txt', './AllData/32TL600_W1_GC1_R2_P115_G119_3.txt', './AllData/T16L600_W1_GC1_R2_P121_g105_4.txt', './AllData/T16L600_W3_GC2_R6_P358_g150_4.txt', './AllData/T16L600_W1_GC2_R6_P330_g161_5.txt', './AllData/T22L600_W1_A4_R4_P225_g221_5.txt', './AllData/32TL600_W1_GC1_R1_P54_G103_3.txt', './AllData/T16L600_W3_GC1_R2_P78_g80_8.txt', './AllData/T22L600_W1_A4_R4_P229_g161_6.txt', './AllData/T22L600_W1_GC1_R2_P92_g99_8.txt', './AllData/T22L600_W3_GC1_R1_P18_g194_2.txt', './AllData/T22L600_W1_A4_R4_P206_g225_2.txt', './AllData/32TL600_W1_GC1_R1_P50_G26_7.txt', './AllData/32TL600_W1_GC1_R2_P81_G108_4.txt', './AllData/T16L600_W3_GC2_R6_P365_g109_6.txt', './AllData/T16L600_W1_GC1_R2_P76_g13_4.txt', './AllData/32TL600_W1_GC1_R2_P95_G178_8.txt', './AllData/32TL600_W1_GC1_R2_P107_G118_8.txt', './AllData/32TL600_W1_GC1_R1_P56_G12_7.txt', './AllData/T16L600_W3_GC1_R2_P89_g92_1.txt', './AllData/T16L600_W1_GC1_R2_P127_g16_1.txt', './AllData/T16L600_W3_GC2_R6_P352_g193_8.txt', './AllData/T16L600_W3_GC2_R6_P349_g225_3.txt', './AllData/T16L600_W1_GC2_R6_P329_g199_4.txt', './AllData/T16L600_W1_GC2_R6_P369_g118_2.txt', './AllData/T16L600_W1_GC1_R2_P81_g99_3.txt', './AllData/T16L600_W3_GC1_R2_P123_g35_8.txt', './AllData/T16L600_W3_GC2_R6_P355_g111_1.txt', './AllData/T16L600_W3_GC2_R6_P337_g222_2.txt', './AllData/T22L600_W1_A4_R4_P221_g201_7.txt', './AllData/T16L600_W1_GC1_R2_P90_g67_7.txt', './AllData/T16L600_W3_GC1_R2_P86_g18_2.txt', './AllData/32TL600_W1_GC1_R2_P93_G213_2.txt', './AllData/32TL600_W1_GC1_R1_P48_G61_1.txt', './AllData/32TL600_W1_GC1_R2_P94_G176_8.txt', './AllData/T16L600_W3_GC1_R2_P90_g67_4.txt', './AllData/32TL600_W1_GC1_R1_P19_G49_3.txt', './AllData/32TL600_W1_GC1_R1_P37_G16_4.txt', './AllData/T16L600_W1_GC1_R2_P121_g105_7.txt', './AllData/T22L600_W1_A4_R4_P242_g178_6.txt', './AllData/T16L600_W3_GC2_R6_P340_g221_8.txt', './AllData/32TL600_W1_GC1_R2_P97_G203_6.txt', './AllData/T16L600_W1_GC1_R2_P127_g16_5.txt', './AllData/T16L600_W3_GC1_R2_P77_g66_8.txt', './AllData/T16L600_W3_GC2_R6_P326_g176_6.txt', './AllData/T16L600_W1_GC1_R2_P129_g90_5.txt', './AllData/32TL600_W1_GC1_R1_P51_G87_7.txt', './AllData/T16L600_W1_GC2_R6_P327_g108_2.txt', './AllData/T22L600_W1_A4_R4_P259_g212_5.txt', './AllData/32TL600_W1_GC1_R2_P101_G225_3.txt', './AllData/T16L600_W3_GC2_R6_P344_g126_1.txt', './AllData/T22L600_W1_A4_R4_P257_g171_3.txt', './AllData/32TL600_W1_GC1_R1_P18_G13_7.txt', './AllData/32TL600_W1_GC1_R1_P23_G29_7.txt', './AllData/T22L600_W1_GC1_R2_P115_g55_6.txt', './AllData/T16L600_W1_GC2_R6_P379_g171_7.txt', './AllData/T16L600_W3_GC1_R2_P129_g90_5.txt', './AllData/32TL600_W1_GC1_R2_P102_G201_7.txt', './AllData/T22L600_W1_A4_R4_P254_g108_3.txt', './AllData/T22L600_W1_A4_R4_P236_g222_4.txt', './AllData/T16L600_W1_GC2_R6_P344_g126_6.txt', './AllData/T16L600_W1_GC1_R2_P117_g97_8.txt', './AllData/T16L600_W3_GC1_R2_P112_g83_1.txt', './AllData/T16L600_W3_GC1_R2_P129_g90_2.txt', './AllData/32TL600_W1_GC1_R1_P69_G92_1.txt', './AllData/T16L600_W3_GC1_R2_P116_g44_2.txt', './AllData/T16L600_W1_GC2_R6_P329_g199_5.txt', './AllData/T16L600_W1_GC1_R2_P76_g13_6.txt', './AllData/T16L600_W3_GC1_R2_P93_g49_5.txt', './AllData/32TL600_W1_GC1_R2_P93_G213_7.txt', './AllData/T16L600_W3_GC1_R2_P113_g61_1.txt', './AllData/T16L600_W1_GC1_R2_P116_g44_6.txt', './AllData/T16L600_W3_GC2_R6_P370_g180_4.txt', './AllData/T16L600_W3_GC2_R6_P326_g176_1.txt', './AllData/T16L600_W3_GC2_R6_P329_g199_4.txt', './AllData/T16L600_W3_GC2_R6_P353_g136_2.txt', './AllData/T22L600_W1_GC1_R2_P95_g18_7.txt', './AllData/32TL600_W1_GC1_R2_P78_G173_4.txt', './AllData/T16L600_W1_GC2_R6_P339_g178_5.txt', './AllData/T16L600_W1_GC2_R6_P338_g173_1.txt', './AllData/T16L600_W3_GC2_R6_P353_g136_6.txt', './AllData/T16L600_W3_GC1_R2_P81_g99_2.txt', './AllData/T16L600_W3_GC2_R6_P341_g119_5.txt', './AllData/T16L600_W1_GC1_R2_P110_g88_4.txt', './AllData/T22L600_W1_GC1_R2_P130_g87_2.txt', './AllData/32TL600_W1_GC1_R1_P55_G55_5.txt', './AllData/T16L600_W1_GC1_R2_P100_g103_6.txt', './AllData/32TL600_W1_GC1_R2_P103_G212_1.txt', './AllData/T16L600_W1_GC2_R6_P355_g111_4.txt', './AllData/T16L600_W3_GC1_R2_P96_g50_5.txt', './AllData/T22L600_W1_GC1_R2_P126_g31_5.txt', './AllData/T16L600_W3_GC2_R6_P376_g201_6.txt', './AllData/T22L600_W1_GC1_R2_P102_g97_6.txt', './AllData/T16L600_W3_GC2_R6_P369_g118_7.txt', './AllData/32TL600_W1_GC1_R1_P44_G83_1.txt', './AllData/T22L600_W1_GC1_R2_P130_g87_5.txt', './AllData/T16L600_W3_GC1_R2_P77_g66_2.txt', './AllData/T16L600_W1_GC2_R6_P352_g193_4.txt', './AllData/32TL600_W1_GC1_R2_P86_G190_3.txt', './AllData/T22L600_W1_A4_R4_P230_g190_2.txt', './AllData/T16L600_W3_GC2_R6_P342_g203_7.txt', './AllData/T16L600_W3_GC2_R6_P339_g178_2.txt', './AllData/T16L600_W1_GC1_R2_P119_g26_2.txt', './AllData/T22L600_W3_GC1_R1_P19_g193_4.txt', './AllData/T22L600_W1_GC1_R2_P92_g99_2.txt', './AllData/T16L600_W1_GC2_R6_P340_g221_6.txt', './AllData/T22L600_W1_A4_R4_P218_g229_4.txt', './AllData/T16L600_W3_GC1_R2_P96_g50_2.txt', './AllData/T22L600_W1_GC1_R2_P75_g61_1.txt', './AllData/T16L600_W1_GC1_R2_P115_g48_3.txt', './AllData/T16L600_W1_GC1_R2_P100_g103_2.txt', './AllData/T22L600_W1_GC1_R2_P88_g90_2.txt', './AllData/32TL600_W1_GC1_R2_P101_G225_8.txt', './AllData/T16L600_W1_GC1_R2_P111_g31_2.txt', './AllData/32TL600_W1_GC1_R1_P66_G97_3.txt', './AllData/T22L600_W1_GC1_R2_P128_g88_5.txt', './AllData/32TL600_W1_GC1_R1_P14_G35_5.txt', './AllData/32TL600_W1_GC1_R1_P59_G47_3.txt', './AllData/32TL600_W1_GC1_R1_P35_G100_7.txt', './AllData/T16L600_W1_GC1_R2_P111_g31_6.txt', './AllData/T16L600_W3_GC1_R2_P100_g103_2.txt', './AllData/32TL600_W1_GC1_R1_P63_G18_6.txt', './AllData/T16L600_W3_GC2_R6_P370_g180_5.txt', './AllData/T16L600_W3_GC2_R6_P355_g111_8.txt', './AllData/T22L600_W3_GC1_R1_P19_g193_5.txt', './AllData/T16L600_W3_GC2_R6_P357_g166_2.txt', './AllData/T22L600_W1_GC1_R2_P77_g92_5.txt', './AllData/T22L600_W1_A4_R4_P263_g118_1.txt', './AllData/T16L600_W1_GC1_R2_P74_g55_6.txt', './AllData/T16L600_W3_GC1_R2_P97_g47_6.txt', './AllData/T16L600_W1_GC1_R2_P86_g18_1.txt', './AllData/32TL600_W1_GC1_R2_P79_G209_4.txt', './AllData/32TL600_W1_GC1_R1_P64_G31_6.txt', './AllData/32TL600_W1_GC1_R1_P21_G54_1.txt', './AllData/T16L600_W3_GC2_R6_P330_g161_5.txt', './AllData/T22L600_W1_A4_R4_P215_g199_4.txt', './AllData/T16L600_W1_GC2_R6_P346_g209_6.txt', './AllData/T22L600_W1_A4_R4_P224_g109_1.txt', './AllData/T22L600_W1_GC1_R2_P126_g31_1.txt', './AllData/T16L600_W1_GC1_R2_P97_g47_3.txt', './AllData/T22L600_W1_A4_R4_P251_g194_3.txt', './AllData/T16L600_W1_GC2_R6_P330_g161_4.txt', './AllData/T16L600_W1_GC1_R2_P81_g99_6.txt', './AllData/T16L600_W3_GC1_R2_P111_g31_4.txt', './AllData/T22L600_W1_A4_R4_P230_g190_7.txt', './AllData/T22L600_W1_GC1_R2_P95_g18_1.txt', './AllData/T16L600_W3_GC1_R2_P127_g16_7.txt', './AllData/T16L600_W1_GC1_R2_P78_g80_1.txt', './AllData/32TL600_W1_GC1_R1_P50_G26_4.txt', './AllData/T22L600_W1_A4_R4_P217_g173_4.txt', './AllData/T16L600_W1_GC2_R6_P335_g229_4.txt', './AllData/T16L600_W3_GC2_R6_P337_g222_8.txt', './AllData/T22L600_W1_A4_R4_P263_g118_5.txt', './AllData/T16L600_W3_GC1_R2_P119_g26_6.txt', './AllData/32TL600_W1_GC1_R1_P62_G66_4.txt', './AllData/32TL600_W1_GC1_R2_P108_G134_5.txt', './AllData/T22L600_W1_A4_R4_P225_g221_3.txt', './AllData/32TL600_W1_GC1_R1_P70_G90_2.txt', './AllData/T22L600_W1_GC1_R2_P125_g83_6.txt', './AllData/32TL600_W1_GC1_R2_P109_G161_6.txt', './AllData/T22L600_W1_GC1_R2_P106_g105_1.txt', './AllData/T16L600_W1_GC2_R6_P341_g119_2.txt', './AllData/32TL600_W1_GC1_R2_P103_G212_7.txt', './AllData/T16L600_W1_GC2_R6_P365_g109_4.txt', './AllData/32TL600_W1_GC1_R1_P18_G13_4.txt', './AllData/T22L600_W1_A4_R4_P222_g180_1.txt', './AllData/32TL600_W1_GC1_R1_P51_G87_2.txt', './AllData/T22L600_W1_A4_R4_P226_g130_4.txt', './AllData/T16L600_W3_GC1_R2_P132_g87_2.txt', './AllData/T16L600_W1_GC2_R6_P327_g108_5.txt', './AllData/T22L600_W1_GC1_R2_P101_g49_2.txt', './AllData/T16L600_W1_GC2_R6_P338_g173_7.txt', './AllData/T16L600_W1_GC1_R2_P129_g90_3.txt', './AllData/T22L600_W1_GC1_R2_P122_g13_5.txt', './AllData/T22L600_W1_A4_R4_P218_g229_6.txt', './AllData/T16L600_W3_GC2_R6_P335_g229_7.txt', './AllData/T16L600_W1_GC2_R6_P341_g119_8.txt', './AllData/32TL600_W1_GC1_R1_P21_G54_5.txt', './AllData/T16L600_W3_GC1_R2_P127_g16_3.txt', './AllData/T22L600_W1_A4_R4_P212_g166_8.txt', './AllData/T16L600_W1_GC1_R2_P113_g61_7.txt', './AllData/T22L600_W1_A4_R4_P239_g126_7.txt', './AllData/T16L600_W1_GC2_R6_P382_g190_4.txt', './AllData/T22L600_W1_A4_R4_P226_g130_6.txt', './AllData/32TL600_W1_GC1_R1_P65_G80_7.txt', './AllData/T16L600_W3_GC1_R2_P106_g60_2.txt', './AllData/T22L600_W1_GC1_R2_P132_g54_1.txt', './AllData/32TL600_W1_GC1_R1_P44_G83_7.txt', './AllData/T16L600_W1_GC2_R6_P358_g150_4.txt', './AllData/T22L600_W1_A4_R4_P222_g180_7.txt', './AllData/T22L600_W1_A4_R4_P215_g199_5.txt', './AllData/T16L600_W3_GC2_R6_P346_g209_8.txt', './AllData/32TL600_W1_GC1_R1_P27_G48_8.txt', './AllData/32TL600_W1_GC1_R1_P49_G105_3.txt', './AllData/32TL600_W1_GC1_R1_P54_G103_7.txt', './AllData/32TL600_W1_GC1_R2_P95_G178_1.txt', './AllData/T16L600_W3_GC2_R6_P340_g221_1.txt', './AllData/T22L600_W1_GC1_R2_P78_g12_3.txt', './AllData/T16L600_W1_GC2_R6_P365_g109_7.txt', './AllData/T22L600_W1_A4_R4_P214_g203_8.txt', './AllData/T16L600_W3_GC2_R6_P349_g225_8.txt', './AllData/32TL600_W1_GC1_R1_P38_G50_5.txt', './AllData/T22L600_W1_GC1_R2_P100_g60_5.txt', './AllData/T22L600_W1_A4_R4_P206_g225_6.txt', './AllData/32TL600_W1_GC1_R1_P28_G60_1.txt', './AllData/32TL600_W1_GC1_R2_P83_G199_6.txt', './AllData/T16L600_W1_GC2_R6_P376_g201_4.txt', './AllData/T22L600_W1_GC1_R2_P106_g105_6.txt', './AllData/32TL600_W1_GC1_R2_P79_G209_6.txt', './AllData/T16L600_W1_GC2_R6_P342_g203_6.txt', './AllData/T16L600_W3_GC2_R6_P365_g109_1.txt', './AllData/T16L600_W3_GC2_R6_P341_g119_3.txt', './AllData/T16L600_W1_GC2_R6_P335_g229_7.txt', './AllData/T16L600_W3_GC1_R2_P107_g54_3.txt', './AllData/T16L600_W1_GC1_R2_P96_g50_2.txt', './AllData/32TL600_W1_GC1_R1_P58_G88_3.txt', './AllData/32TL600_W1_GC1_R1_P31_G67_4.txt', './AllData/T22L600_W1_GC1_R2_P131_g100_7.txt', './AllData/T16L600_W3_GC2_R6_P357_g166_7.txt', './AllData/T16L600_W3_GC1_R2_P76_g13_1.txt', './AllData/T16L600_W3_GC2_R6_P369_g118_2.txt', './AllData/T16L600_W3_GC1_R2_P76_g13_7.txt', './AllData/T16L600_W1_GC1_R2_P92_g12_2.txt', './AllData/32TL600_W1_GC1_R1_P28_G60_8.txt', './AllData/T16L600_W1_GC1_R2_P86_g18_7.txt', './AllData/T16L600_W3_GC2_R6_P373_g194_5.txt', './AllData/T22L600_W1_GC1_R2_P74_g66_5.txt', './AllData/T22L600_W1_A4_R4_P257_g171_7.txt', './AllData/T22L600_W1_A4_R4_P231_g136_8.txt', './AllData/32TL600_W1_GC1_R1_P49_G105_7.txt', './AllData/T16L600_W1_GC1_R2_P93_g49_3.txt', './AllData/T22L600_W1_A4_R4_P256_g119_2.txt', './AllData/T16L600_W3_GC2_R6_P333_g134_1.txt', './AllData/T16L600_W1_GC1_R2_P89_g92_6.txt', './AllData/T16L600_W3_GC1_R2_P115_g48_2.txt', './AllData/T16L600_W1_GC1_R2_P90_g67_2.txt', './AllData/T16L600_W3_GC2_R6_P368_g130_7.txt', './AllData/T16L600_W1_GC1_R2_P132_g87_6.txt', './AllData/T16L600_W1_GC2_R6_P368_g130_7.txt', './AllData/32TL600_W1_GC1_R2_P108_G134_2.txt', './AllData/T22L600_W1_A4_R4_P239_g126_1.txt', './AllData/T16L600_W1_GC1_R2_P96_g50_7.txt', './AllData/T22L600_W1_GC1_R2_P88_g90_7.txt', './AllData/T16L600_W1_GC2_R6_P340_g221_2.txt', './AllData/T16L600_W1_GC2_R6_P358_g150_6.txt', './AllData/T16L600_W3_GC2_R6_P338_g173_1.txt', './AllData/32TL600_W1_GC1_R1_P19_G49_6.txt', './AllData/T16L600_W3_GC2_R6_P335_g229_1.txt', './AllData/T22L600_W1_A4_R4_P236_g222_5.txt', './AllData/T22L600_W1_A4_R4_P234_g176_5.txt', './AllData/T16L600_W1_GC2_R6_P357_g166_6.txt', './AllData/32TL600_W1_GC1_R2_P115_G119_7.txt', './AllData/T16L600_W3_GC2_R6_P346_g209_1.txt', './AllData/32TL600_W1_GC1_R1_P23_G29_4.txt', './AllData/T22L600_W1_A4_R4_P228_g209_4.txt', './AllData/32TL600_W1_GC1_R1_P37_G16_7.txt', './AllData/T16L600_W3_GC1_R2_P118_g29_1.txt', './AllData/T22L600_W1_A4_R7_P405_g26_7.txt', './AllData/T16L600_W1_GC2_R6_P326_g176_5.txt', './AllData/T16L600_W3_GC1_R2_P116_g44_5.txt', './AllData/T16L600_W3_GC1_R2_P111_g31_5.txt', './AllData/T22L600_W1_A4_R4_P254_g108_6.txt', './AllData/T22L600_W1_GC1_R2_P132_g54_8.txt', './AllData/T22L600_W3_GC1_R1_P18_g194_7.txt', './AllData/T16L600_W3_GC1_R2_P121_g105_5.txt', './AllData/T16L600_W3_GC1_R2_P100_g103_6.txt', './AllData/32TL600_W1_GC1_R2_P78_G173_8.txt', './AllData/T22L600_W1_GC1_R2_P79_g44_3.txt', './AllData/T16L600_W1_GC2_R6_P370_g180_5.txt', './AllData/T16L600_W3_GC1_R2_P86_g18_6.txt', './AllData/T22L600_W1_GC1_R2_P96_g80_5.txt', './AllData/T16L600_W1_GC1_R2_P123_g35_4.txt', './AllData/T22L600_W1_A4_R4_P214_g203_4.txt', './AllData/T22L600_W1_GC1_R2_P121_g29_1.txt', './AllData/T16L600_W3_GC1_R2_P106_g60_6.txt', './AllData/T16L600_W3_GC1_R2_P89_g92_8.txt', './AllData/T22L600_W1_GC1_R2_P98_g16_7.txt', './AllData/T16L600_W1_GC1_R2_P78_g80_7.txt', './AllData/T16L600_W3_GC2_R6_P352_g193_4.txt', './AllData/T22L600_W1_A4_R4_P234_g176_4.txt', './AllData/T22L600_W1_GC1_R2_P96_g80_1.txt', './AllData/T16L600_W3_GC2_R6_P329_g199_5.txt', './AllData/T22L600_W1_A4_R4_P207_g134_4.txt', './AllData/32TL600_W1_GC1_R1_P14_G35_4.txt', './AllData/T16L600_W1_GC2_R6_P326_g176_2.txt', './AllData/T22L600_W1_GC1_R2_P79_g44_5.txt', './AllData/32TL600_W1_GC1_R1_P64_G31_2.txt', './AllData/T16L600_W1_GC1_R2_P89_g92_2.txt', './AllData/T16L600_W1_GC1_R2_P74_g55_3.txt', './AllData/32TL600_W1_GC1_R1_P27_G48_2.txt', './AllData/32TL600_W1_GC1_R2_P83_G199_3.txt', './AllData/T22L600_W1_A4_R4_P211_g213_7.txt', './AllData/T16L600_W3_GC1_R2_P115_g48_7.txt', './AllData/T16L600_W1_GC1_R2_P117_g97_4.txt', './AllData/T16L600_W3_GC2_R6_P376_g201_2.txt', './AllData/T16L600_W3_GC1_R2_P78_g80_4.txt', './AllData/T16L600_W1_GC2_R6_P370_g180_1.txt', './AllData/T16L600_W3_GC1_R2_P118_g29_5.txt', './AllData/T22L600_W3_GC1_R1_P22_g173_4.txt', './AllData/T16L600_W1_GC1_R2_P112_g83_7.txt', './AllData/32TL600_W1_GC1_R1_P62_G66_6.txt', './AllData/T16L600_W3_GC1_R2_P80_g100_2.txt', './AllData/T22L600_W1_A4_R4_P240_g111_1.txt', './AllData/T22L600_W1_A4_R4_P231_g136_3.txt', './AllData/T16L600_W1_GC1_R2_P77_g66_2.txt', './AllData/T16L600_W1_GC1_R2_P107_g54_8.txt', './AllData/T16L600_W3_GC1_R2_P117_g97_3.txt', './AllData/T16L600_W3_GC1_R2_P132_g87_8.txt', './AllData/T16L600_W3_GC2_R6_P382_g190_1.txt', './AllData/T16L600_W1_GC1_R2_P113_g61_1.txt', './AllData/T16L600_W1_GC1_R2_P118_g29_7.txt', './AllData/T22L600_W1_A4_R4_P221_g201_4.txt', './AllData/T22L600_W1_GC1_R2_P109_g50_4.txt', './AllData/T16L600_W3_GC1_R2_P74_g55_5.txt', './AllData/32TL600_W1_GC1_R2_P107_G118_1.txt', './AllData/T16L600_W3_GC1_R2_P121_g105_2.txt', './AllData/32TL600_W1_GC1_R1_P56_G12_3.txt', './AllData/T22L600_W1_A4_R4_P240_g111_8.txt', './AllData/T16L600_W3_GC2_R6_P366_g212_4.txt', './AllData/T22L600_W1_A4_R4_P258_g150_5.txt', './AllData/T22L600_W1_A4_R4_P256_g119_5.txt', './AllData/T16L600_W3_GC1_R2_P117_g97_8.txt', './AllData/32TL600_W1_GC1_R2_P109_G161_3.txt', './AllData/T22L600_W1_GC1_R2_P101_g49_5.txt', './AllData/T16L600_W3_GC1_R2_P107_g54_6.txt', './AllData/T16L600_W3_GC2_R6_P344_g126_8.txt', './AllData/T22L600_W1_GC1_R2_P115_g55_3.txt', './AllData/T16L600_W1_GC2_R6_P357_g166_2.txt', './AllData/32TL600_W1_GC1_R1_P58_G88_5.txt', './AllData/32TL600_W1_GC1_R1_P63_G18_4.txt', './AllData/T16L600_W3_GC1_R2_P123_g35_4.txt', './AllData/32TL600_W1_GC1_R2_P97_G203_4.txt', './AllData/T16L600_W3_GC1_R2_P80_g100_7.txt', './AllData/T22L600_W1_GC1_R2_P98_g16_2.txt', './AllData/T16L600_W1_GC1_R2_P97_g47_6.txt', './AllData/T22L600_W1_GC1_R2_P129_g48_2.txt', './AllData/T16L600_W3_GC2_R6_P368_g130_1.txt', './AllData/T22L600_W1_GC1_R2_P99_g47_4.txt', './AllData/T22L600_W1_A4_R4_P251_g194_6.txt', './AllData/T16L600_W1_GC1_R2_P115_g48_5.txt', './AllData/T16L600_W1_GC1_R2_P112_g83_3.txt', './AllData/T16L600_W3_GC1_R2_P110_g88_7.txt', './AllData/T16L600_W1_GC1_R2_P119_g26_5.txt', './AllData/T16L600_W1_GC2_R6_P378_g213_2.txt', './AllData/T22L600_W1_GC1_R2_P108_g67_1.txt', './AllData/T16L600_W1_GC2_R6_P368_g130_1.txt', './AllData/32TL600_W1_GC1_R1_P39_G99_3.txt', './AllData/T16L600_W3_GC2_R6_P366_g212_5.txt', './AllData/T16L600_W1_GC1_R2_P110_g88_7.txt', './AllData/T16L600_W1_GC2_R6_P376_g201_8.txt', './AllData/T16L600_W3_GC1_R2_P119_g26_2.txt', './AllData/T16L600_W1_GC1_R2_P132_g87_2.txt', './AllData/32TL600_W1_GC1_R1_P24_G44_7.txt', './AllData/T16L600_W3_GC2_R6_P339_g178_5.txt', './AllData/T16L600_W1_GC2_R6_P353_g136_4.txt', './AllData/32TL600_W1_GC1_R1_P31_G67_6.txt', './AllData/T16L600_W1_GC1_R2_P116_g44_3.txt', './AllData/T22L600_W1_GC1_R2_P112_g103_2.txt', './AllData/T16L600_W1_GC2_R6_P344_g126_4.txt', './AllData/32TL600_W1_GC1_R1_P48_G61_5.txt', './AllData/T22L600_W1_GC1_R2_P109_g50_7.txt', './AllData/32TL600_W1_GC1_R1_P65_G80_1.txt', './AllData/T16L600_W1_GC2_R6_P366_g212_6.txt', './AllData/32TL600_W1_GC1_R2_P81_G108_6.txt', './AllData/T22L600_W1_GC1_R2_P127_g35_6.txt', './AllData/T22L600_W1_GC1_R2_P78_g12_6.txt', './AllData/T22L600_W1_GC1_R2_P127_g35_3.txt', './AllData/32TL600_W1_GC1_R2_P73_G171_1.txt', './AllData/32TL600_W1_GC1_R1_P39_G99_6.txt', './AllData/T16L600_W1_GC2_R6_P382_g190_5.txt', './AllData/T22L600_W1_A4_R4_P212_g166_2.txt', './AllData/T22L600_W1_GC1_R2_P74_g66_1.txt', './AllData/T22L600_W1_A4_R4_P259_g212_2.txt', './AllData/T22L600_W3_GC1_R1_P22_g173_7.txt', './AllData/T16L600_W1_GC2_R6_P379_g171_4.txt', './AllData/T16L600_W1_GC2_R6_P339_g178_1.txt', './AllData/T16L600_W3_GC1_R2_P93_g49_2.txt', './AllData/T16L600_W1_GC1_R2_P80_g100_2.txt', './AllData/T22L600_W1_A4_R4_P229_g161_2.txt', './AllData/32TL600_W1_GC1_R1_P70_G90_6.txt', './AllData/T16L600_W1_GC2_R6_P369_g118_6.txt', './AllData/T16L600_W1_GC1_R2_P92_g12_6.txt', './AllData/T16L600_W1_GC1_R2_P106_g60_2.txt', './AllData/T16L600_W3_GC2_R6_P327_g108_5.txt', './AllData/T16L600_W3_GC2_R6_P378_g213_1.txt', './AllData/T22L600_W1_A4_R4_P261_g193_3.txt', './AllData/T22L600_W1_GC1_R2_P75_g61_8.txt', './AllData/T16L600_W1_GC2_R6_P333_g134_3.txt', './AllData/T22L600_W1_A4_R4_P228_g209_5.txt', './AllData/T16L600_W1_GC2_R6_P337_g222_4.txt', './AllData/T16L600_W1_GC2_R6_P353_g136_5.txt', './AllData/T22L600_W1_A4_R4_P207_g134_6.txt', './AllData/T22L600_W1_GC1_R2_P90_g26_3.txt', './AllData/T16L600_W1_GC2_R6_P349_g225_2.txt', './AllData/T16L600_W1_GC1_R2_P80_g100_6.txt', './AllData/T16L600_W1_GC2_R6_P355_g111_6.txt', './AllData/T16L600_W3_GC1_R2_P110_g88_2.txt', './AllData/32TL600_W1_GC1_R2_P73_G171_8.txt', './AllData/32TL600_W1_GC1_R1_P59_G47_6.txt']\n"
     ]
    },
    {
     "name": "stderr",
     "output_type": "stream",
     "text": [
      "\n"
     ]
    }
   ],
   "source": [
    "# Get the annotationse\n",
    "annotations = [os.path.join('./' + dir_name, x) for x in os.listdir('./'+dir_name ) if x[-3:] == \"xml\"]\n",
    "\n",
    "\n",
    "annotations.sort()\n",
    "#print(annotations)\n",
    "# Convert and save the annotations\n",
    "for ann in tqdm(annotations):\n",
    "    info_dict = extract_info_from_xml(ann)\n",
    "    convert_to_yolov8(info_dict)\n",
    "    \n",
    "annotations = [os.path.join('./' + dir_name, x) for x in os.listdir('./' + dir_name) if x[-3:] == \"txt\"]\n",
    "\n",
    "print(annotations)"
   ]
  },
  {
   "cell_type": "markdown",
   "metadata": {},
   "source": [
    "# Testing the annotations\n",
    "\n",
    "## Label the class on the image\n",
    "Just for a sanity check, let us now test some of these transformed annotations. We randomly load one of the annotations and plot boxes using the transformed annotations, and visually inspect it to see whether our code has worked as intended.\n",
    "\n",
    "Run the next cell multiple times. Every time, a random annotation is sampled.\n",
    "\n",
    "Use command mv ./T22/*_label.jpg ./T22Label  \n",
    "move label image to folder"
   ]
  },
  {
   "cell_type": "code",
   "execution_count": 15,
   "metadata": {},
   "outputs": [
    {
     "name": "stdout",
     "output_type": "stream",
     "text": [
      "<class 'PIL.JpegImagePlugin.JpegImageFile'>\n",
      "<class 'PIL.JpegImagePlugin.JpegImageFile'>\n",
      "<class 'PIL.JpegImagePlugin.JpegImageFile'>\n",
      "<class 'PIL.JpegImagePlugin.JpegImageFile'>\n",
      "<class 'PIL.JpegImagePlugin.JpegImageFile'>\n",
      "<class 'PIL.JpegImagePlugin.JpegImageFile'>\n",
      "<class 'PIL.JpegImagePlugin.JpegImageFile'>\n",
      "<class 'PIL.JpegImagePlugin.JpegImageFile'>\n",
      "<class 'PIL.JpegImagePlugin.JpegImageFile'>\n",
      "<class 'PIL.JpegImagePlugin.JpegImageFile'>\n",
      "<class 'PIL.JpegImagePlugin.JpegImageFile'>\n",
      "<class 'PIL.JpegImagePlugin.JpegImageFile'>\n",
      "<class 'PIL.JpegImagePlugin.JpegImageFile'>\n",
      "<class 'PIL.JpegImagePlugin.JpegImageFile'>\n",
      "<class 'PIL.JpegImagePlugin.JpegImageFile'>\n",
      "<class 'PIL.JpegImagePlugin.JpegImageFile'>\n",
      "<class 'PIL.JpegImagePlugin.JpegImageFile'>\n",
      "<class 'PIL.JpegImagePlugin.JpegImageFile'>\n",
      "<class 'PIL.JpegImagePlugin.JpegImageFile'>\n",
      "<class 'PIL.JpegImagePlugin.JpegImageFile'>\n",
      "<class 'PIL.JpegImagePlugin.JpegImageFile'>\n",
      "<class 'PIL.JpegImagePlugin.JpegImageFile'>\n",
      "<class 'PIL.JpegImagePlugin.JpegImageFile'>\n",
      "<class 'PIL.JpegImagePlugin.JpegImageFile'>\n",
      "<class 'PIL.JpegImagePlugin.JpegImageFile'>\n",
      "<class 'PIL.JpegImagePlugin.JpegImageFile'>\n",
      "<class 'PIL.JpegImagePlugin.JpegImageFile'>\n",
      "<class 'PIL.JpegImagePlugin.JpegImageFile'>\n",
      "<class 'PIL.JpegImagePlugin.JpegImageFile'>\n",
      "<class 'PIL.JpegImagePlugin.JpegImageFile'>\n",
      "<class 'PIL.JpegImagePlugin.JpegImageFile'>\n",
      "<class 'PIL.JpegImagePlugin.JpegImageFile'>\n",
      "<class 'PIL.JpegImagePlugin.JpegImageFile'>\n",
      "<class 'PIL.JpegImagePlugin.JpegImageFile'>\n",
      "<class 'PIL.JpegImagePlugin.JpegImageFile'>\n",
      "<class 'PIL.JpegImagePlugin.JpegImageFile'>\n",
      "<class 'PIL.JpegImagePlugin.JpegImageFile'>\n",
      "<class 'PIL.JpegImagePlugin.JpegImageFile'>\n",
      "<class 'PIL.JpegImagePlugin.JpegImageFile'>\n",
      "<class 'PIL.JpegImagePlugin.JpegImageFile'>\n",
      "<class 'PIL.JpegImagePlugin.JpegImageFile'>\n",
      "<class 'PIL.JpegImagePlugin.JpegImageFile'>\n",
      "<class 'PIL.JpegImagePlugin.JpegImageFile'>\n",
      "<class 'PIL.JpegImagePlugin.JpegImageFile'>\n",
      "<class 'PIL.JpegImagePlugin.JpegImageFile'>\n",
      "<class 'PIL.JpegImagePlugin.JpegImageFile'>\n",
      "<class 'PIL.JpegImagePlugin.JpegImageFile'>\n",
      "<class 'PIL.JpegImagePlugin.JpegImageFile'>\n",
      "<class 'PIL.JpegImagePlugin.JpegImageFile'>\n",
      "<class 'PIL.JpegImagePlugin.JpegImageFile'>\n",
      "<class 'PIL.JpegImagePlugin.JpegImageFile'>\n",
      "<class 'PIL.JpegImagePlugin.JpegImageFile'>\n",
      "<class 'PIL.JpegImagePlugin.JpegImageFile'>\n",
      "<class 'PIL.JpegImagePlugin.JpegImageFile'>\n",
      "<class 'PIL.JpegImagePlugin.JpegImageFile'>\n",
      "<class 'PIL.JpegImagePlugin.JpegImageFile'>\n",
      "<class 'PIL.JpegImagePlugin.JpegImageFile'>\n",
      "<class 'PIL.JpegImagePlugin.JpegImageFile'>\n",
      "<class 'PIL.JpegImagePlugin.JpegImageFile'>\n",
      "<class 'PIL.JpegImagePlugin.JpegImageFile'>\n",
      "<class 'PIL.JpegImagePlugin.JpegImageFile'>\n",
      "<class 'PIL.JpegImagePlugin.JpegImageFile'>\n",
      "<class 'PIL.JpegImagePlugin.JpegImageFile'>\n",
      "<class 'PIL.JpegImagePlugin.JpegImageFile'>\n",
      "<class 'PIL.JpegImagePlugin.JpegImageFile'>\n",
      "<class 'PIL.JpegImagePlugin.JpegImageFile'>\n",
      "<class 'PIL.JpegImagePlugin.JpegImageFile'>\n",
      "<class 'PIL.JpegImagePlugin.JpegImageFile'>\n",
      "<class 'PIL.JpegImagePlugin.JpegImageFile'>\n",
      "<class 'PIL.JpegImagePlugin.JpegImageFile'>\n",
      "<class 'PIL.JpegImagePlugin.JpegImageFile'>\n",
      "<class 'PIL.JpegImagePlugin.JpegImageFile'>\n",
      "<class 'PIL.JpegImagePlugin.JpegImageFile'>\n",
      "<class 'PIL.JpegImagePlugin.JpegImageFile'>\n",
      "<class 'PIL.JpegImagePlugin.JpegImageFile'>\n",
      "<class 'PIL.JpegImagePlugin.JpegImageFile'>\n",
      "<class 'PIL.JpegImagePlugin.JpegImageFile'>\n",
      "<class 'PIL.JpegImagePlugin.JpegImageFile'>\n",
      "<class 'PIL.JpegImagePlugin.JpegImageFile'>\n",
      "<class 'PIL.JpegImagePlugin.JpegImageFile'>\n",
      "<class 'PIL.JpegImagePlugin.JpegImageFile'>\n",
      "<class 'PIL.JpegImagePlugin.JpegImageFile'>\n",
      "<class 'PIL.JpegImagePlugin.JpegImageFile'>\n",
      "<class 'PIL.JpegImagePlugin.JpegImageFile'>\n",
      "<class 'PIL.JpegImagePlugin.JpegImageFile'>\n",
      "<class 'PIL.JpegImagePlugin.JpegImageFile'>\n",
      "<class 'PIL.JpegImagePlugin.JpegImageFile'>\n",
      "<class 'PIL.JpegImagePlugin.JpegImageFile'>\n",
      "<class 'PIL.JpegImagePlugin.JpegImageFile'>\n",
      "<class 'PIL.JpegImagePlugin.JpegImageFile'>\n",
      "<class 'PIL.JpegImagePlugin.JpegImageFile'>\n",
      "<class 'PIL.JpegImagePlugin.JpegImageFile'>\n",
      "<class 'PIL.JpegImagePlugin.JpegImageFile'>\n",
      "<class 'PIL.JpegImagePlugin.JpegImageFile'>\n",
      "<class 'PIL.JpegImagePlugin.JpegImageFile'>\n",
      "<class 'PIL.JpegImagePlugin.JpegImageFile'>\n",
      "<class 'PIL.JpegImagePlugin.JpegImageFile'>\n",
      "<class 'PIL.JpegImagePlugin.JpegImageFile'>\n",
      "<class 'PIL.JpegImagePlugin.JpegImageFile'>\n",
      "<class 'PIL.JpegImagePlugin.JpegImageFile'>\n",
      "<class 'PIL.JpegImagePlugin.JpegImageFile'>\n",
      "<class 'PIL.JpegImagePlugin.JpegImageFile'>\n",
      "<class 'PIL.JpegImagePlugin.JpegImageFile'>\n",
      "<class 'PIL.JpegImagePlugin.JpegImageFile'>\n",
      "<class 'PIL.JpegImagePlugin.JpegImageFile'>\n",
      "<class 'PIL.JpegImagePlugin.JpegImageFile'>\n",
      "<class 'PIL.JpegImagePlugin.JpegImageFile'>\n",
      "<class 'PIL.JpegImagePlugin.JpegImageFile'>\n",
      "<class 'PIL.JpegImagePlugin.JpegImageFile'>\n",
      "<class 'PIL.JpegImagePlugin.JpegImageFile'>\n",
      "<class 'PIL.JpegImagePlugin.JpegImageFile'>\n",
      "<class 'PIL.JpegImagePlugin.JpegImageFile'>\n",
      "<class 'PIL.JpegImagePlugin.JpegImageFile'>\n",
      "<class 'PIL.JpegImagePlugin.JpegImageFile'>\n",
      "<class 'PIL.JpegImagePlugin.JpegImageFile'>\n",
      "<class 'PIL.JpegImagePlugin.JpegImageFile'>\n",
      "<class 'PIL.JpegImagePlugin.JpegImageFile'>\n",
      "<class 'PIL.JpegImagePlugin.JpegImageFile'>\n",
      "<class 'PIL.JpegImagePlugin.JpegImageFile'>\n",
      "<class 'PIL.JpegImagePlugin.JpegImageFile'>\n",
      "<class 'PIL.JpegImagePlugin.JpegImageFile'>\n",
      "<class 'PIL.JpegImagePlugin.JpegImageFile'>\n",
      "<class 'PIL.JpegImagePlugin.JpegImageFile'>\n",
      "<class 'PIL.JpegImagePlugin.JpegImageFile'>\n",
      "<class 'PIL.JpegImagePlugin.JpegImageFile'>\n",
      "<class 'PIL.JpegImagePlugin.JpegImageFile'>\n",
      "<class 'PIL.JpegImagePlugin.JpegImageFile'>\n",
      "<class 'PIL.JpegImagePlugin.JpegImageFile'>\n",
      "<class 'PIL.JpegImagePlugin.JpegImageFile'>\n",
      "<class 'PIL.JpegImagePlugin.JpegImageFile'>\n",
      "<class 'PIL.JpegImagePlugin.JpegImageFile'>\n",
      "<class 'PIL.JpegImagePlugin.JpegImageFile'>\n",
      "<class 'PIL.JpegImagePlugin.JpegImageFile'>\n",
      "<class 'PIL.JpegImagePlugin.JpegImageFile'>\n",
      "<class 'PIL.JpegImagePlugin.JpegImageFile'>\n",
      "<class 'PIL.JpegImagePlugin.JpegImageFile'>\n",
      "<class 'PIL.JpegImagePlugin.JpegImageFile'>\n",
      "<class 'PIL.JpegImagePlugin.JpegImageFile'>\n",
      "<class 'PIL.JpegImagePlugin.JpegImageFile'>\n",
      "<class 'PIL.JpegImagePlugin.JpegImageFile'>\n",
      "<class 'PIL.JpegImagePlugin.JpegImageFile'>\n",
      "<class 'PIL.JpegImagePlugin.JpegImageFile'>\n",
      "<class 'PIL.JpegImagePlugin.JpegImageFile'>\n",
      "<class 'PIL.JpegImagePlugin.JpegImageFile'>\n",
      "<class 'PIL.JpegImagePlugin.JpegImageFile'>\n",
      "<class 'PIL.JpegImagePlugin.JpegImageFile'>\n",
      "<class 'PIL.JpegImagePlugin.JpegImageFile'>\n",
      "<class 'PIL.JpegImagePlugin.JpegImageFile'>\n",
      "<class 'PIL.JpegImagePlugin.JpegImageFile'>\n",
      "<class 'PIL.JpegImagePlugin.JpegImageFile'>\n",
      "<class 'PIL.JpegImagePlugin.JpegImageFile'>\n",
      "<class 'PIL.JpegImagePlugin.JpegImageFile'>\n",
      "<class 'PIL.JpegImagePlugin.JpegImageFile'>\n",
      "<class 'PIL.JpegImagePlugin.JpegImageFile'>\n",
      "<class 'PIL.JpegImagePlugin.JpegImageFile'>\n",
      "<class 'PIL.JpegImagePlugin.JpegImageFile'>\n",
      "<class 'PIL.JpegImagePlugin.JpegImageFile'>\n",
      "<class 'PIL.JpegImagePlugin.JpegImageFile'>\n",
      "<class 'PIL.JpegImagePlugin.JpegImageFile'>\n",
      "<class 'PIL.JpegImagePlugin.JpegImageFile'>\n",
      "<class 'PIL.JpegImagePlugin.JpegImageFile'>\n",
      "<class 'PIL.JpegImagePlugin.JpegImageFile'>\n",
      "<class 'PIL.JpegImagePlugin.JpegImageFile'>\n",
      "<class 'PIL.JpegImagePlugin.JpegImageFile'>\n",
      "<class 'PIL.JpegImagePlugin.JpegImageFile'>\n",
      "<class 'PIL.JpegImagePlugin.JpegImageFile'>\n",
      "<class 'PIL.JpegImagePlugin.JpegImageFile'>\n",
      "<class 'PIL.JpegImagePlugin.JpegImageFile'>\n",
      "<class 'PIL.JpegImagePlugin.JpegImageFile'>\n",
      "<class 'PIL.JpegImagePlugin.JpegImageFile'>\n",
      "<class 'PIL.JpegImagePlugin.JpegImageFile'>\n",
      "<class 'PIL.JpegImagePlugin.JpegImageFile'>\n",
      "<class 'PIL.JpegImagePlugin.JpegImageFile'>\n",
      "<class 'PIL.JpegImagePlugin.JpegImageFile'>\n",
      "<class 'PIL.JpegImagePlugin.JpegImageFile'>\n",
      "<class 'PIL.JpegImagePlugin.JpegImageFile'>\n",
      "<class 'PIL.JpegImagePlugin.JpegImageFile'>\n",
      "<class 'PIL.JpegImagePlugin.JpegImageFile'>\n",
      "<class 'PIL.JpegImagePlugin.JpegImageFile'>\n",
      "<class 'PIL.JpegImagePlugin.JpegImageFile'>\n",
      "<class 'PIL.JpegImagePlugin.JpegImageFile'>\n",
      "<class 'PIL.JpegImagePlugin.JpegImageFile'>\n",
      "<class 'PIL.JpegImagePlugin.JpegImageFile'>\n",
      "<class 'PIL.JpegImagePlugin.JpegImageFile'>\n",
      "<class 'PIL.JpegImagePlugin.JpegImageFile'>\n",
      "<class 'PIL.JpegImagePlugin.JpegImageFile'>\n",
      "<class 'PIL.JpegImagePlugin.JpegImageFile'>\n",
      "<class 'PIL.JpegImagePlugin.JpegImageFile'>\n",
      "<class 'PIL.JpegImagePlugin.JpegImageFile'>\n",
      "<class 'PIL.JpegImagePlugin.JpegImageFile'>\n",
      "<class 'PIL.JpegImagePlugin.JpegImageFile'>\n",
      "<class 'PIL.JpegImagePlugin.JpegImageFile'>\n",
      "<class 'PIL.JpegImagePlugin.JpegImageFile'>\n",
      "<class 'PIL.JpegImagePlugin.JpegImageFile'>\n",
      "<class 'PIL.JpegImagePlugin.JpegImageFile'>\n",
      "<class 'PIL.JpegImagePlugin.JpegImageFile'>\n",
      "<class 'PIL.JpegImagePlugin.JpegImageFile'>\n",
      "<class 'PIL.JpegImagePlugin.JpegImageFile'>\n",
      "<class 'PIL.JpegImagePlugin.JpegImageFile'>\n",
      "<class 'PIL.JpegImagePlugin.JpegImageFile'>\n",
      "<class 'PIL.JpegImagePlugin.JpegImageFile'>\n",
      "<class 'PIL.JpegImagePlugin.JpegImageFile'>\n",
      "<class 'PIL.JpegImagePlugin.JpegImageFile'>\n",
      "<class 'PIL.JpegImagePlugin.JpegImageFile'>\n",
      "<class 'PIL.JpegImagePlugin.JpegImageFile'>\n",
      "<class 'PIL.JpegImagePlugin.JpegImageFile'>\n",
      "<class 'PIL.JpegImagePlugin.JpegImageFile'>\n",
      "<class 'PIL.JpegImagePlugin.JpegImageFile'>\n",
      "<class 'PIL.JpegImagePlugin.JpegImageFile'>\n",
      "<class 'PIL.JpegImagePlugin.JpegImageFile'>\n",
      "<class 'PIL.JpegImagePlugin.JpegImageFile'>\n",
      "<class 'PIL.JpegImagePlugin.JpegImageFile'>\n",
      "<class 'PIL.JpegImagePlugin.JpegImageFile'>\n",
      "<class 'PIL.JpegImagePlugin.JpegImageFile'>\n",
      "<class 'PIL.JpegImagePlugin.JpegImageFile'>\n",
      "<class 'PIL.JpegImagePlugin.JpegImageFile'>\n",
      "<class 'PIL.JpegImagePlugin.JpegImageFile'>\n",
      "<class 'PIL.JpegImagePlugin.JpegImageFile'>\n",
      "<class 'PIL.JpegImagePlugin.JpegImageFile'>\n",
      "<class 'PIL.JpegImagePlugin.JpegImageFile'>\n",
      "<class 'PIL.JpegImagePlugin.JpegImageFile'>\n",
      "<class 'PIL.JpegImagePlugin.JpegImageFile'>\n",
      "<class 'PIL.JpegImagePlugin.JpegImageFile'>\n",
      "<class 'PIL.JpegImagePlugin.JpegImageFile'>\n",
      "<class 'PIL.JpegImagePlugin.JpegImageFile'>\n",
      "<class 'PIL.JpegImagePlugin.JpegImageFile'>\n",
      "<class 'PIL.JpegImagePlugin.JpegImageFile'>\n",
      "<class 'PIL.JpegImagePlugin.JpegImageFile'>\n",
      "<class 'PIL.JpegImagePlugin.JpegImageFile'>\n",
      "<class 'PIL.JpegImagePlugin.JpegImageFile'>\n",
      "<class 'PIL.JpegImagePlugin.JpegImageFile'>\n",
      "<class 'PIL.JpegImagePlugin.JpegImageFile'>\n",
      "<class 'PIL.JpegImagePlugin.JpegImageFile'>\n",
      "<class 'PIL.JpegImagePlugin.JpegImageFile'>\n",
      "<class 'PIL.JpegImagePlugin.JpegImageFile'>\n",
      "<class 'PIL.JpegImagePlugin.JpegImageFile'>\n",
      "<class 'PIL.JpegImagePlugin.JpegImageFile'>\n",
      "<class 'PIL.JpegImagePlugin.JpegImageFile'>\n",
      "<class 'PIL.JpegImagePlugin.JpegImageFile'>\n",
      "<class 'PIL.JpegImagePlugin.JpegImageFile'>\n",
      "<class 'PIL.JpegImagePlugin.JpegImageFile'>\n",
      "<class 'PIL.JpegImagePlugin.JpegImageFile'>\n",
      "<class 'PIL.JpegImagePlugin.JpegImageFile'>\n",
      "<class 'PIL.JpegImagePlugin.JpegImageFile'>\n",
      "<class 'PIL.JpegImagePlugin.JpegImageFile'>\n",
      "<class 'PIL.JpegImagePlugin.JpegImageFile'>\n",
      "<class 'PIL.JpegImagePlugin.JpegImageFile'>\n",
      "<class 'PIL.JpegImagePlugin.JpegImageFile'>\n",
      "<class 'PIL.JpegImagePlugin.JpegImageFile'>\n",
      "<class 'PIL.JpegImagePlugin.JpegImageFile'>\n",
      "<class 'PIL.JpegImagePlugin.JpegImageFile'>\n",
      "<class 'PIL.JpegImagePlugin.JpegImageFile'>\n",
      "<class 'PIL.JpegImagePlugin.JpegImageFile'>\n",
      "<class 'PIL.JpegImagePlugin.JpegImageFile'>\n",
      "<class 'PIL.JpegImagePlugin.JpegImageFile'>\n",
      "<class 'PIL.JpegImagePlugin.JpegImageFile'>\n",
      "<class 'PIL.JpegImagePlugin.JpegImageFile'>\n",
      "<class 'PIL.JpegImagePlugin.JpegImageFile'>\n",
      "<class 'PIL.JpegImagePlugin.JpegImageFile'>\n",
      "<class 'PIL.JpegImagePlugin.JpegImageFile'>\n",
      "<class 'PIL.JpegImagePlugin.JpegImageFile'>\n",
      "<class 'PIL.JpegImagePlugin.JpegImageFile'>\n",
      "<class 'PIL.JpegImagePlugin.JpegImageFile'>\n",
      "<class 'PIL.JpegImagePlugin.JpegImageFile'>\n",
      "<class 'PIL.JpegImagePlugin.JpegImageFile'>\n",
      "<class 'PIL.JpegImagePlugin.JpegImageFile'>\n",
      "<class 'PIL.JpegImagePlugin.JpegImageFile'>\n",
      "<class 'PIL.JpegImagePlugin.JpegImageFile'>\n",
      "<class 'PIL.JpegImagePlugin.JpegImageFile'>\n",
      "<class 'PIL.JpegImagePlugin.JpegImageFile'>\n",
      "<class 'PIL.JpegImagePlugin.JpegImageFile'>\n",
      "<class 'PIL.JpegImagePlugin.JpegImageFile'>\n",
      "<class 'PIL.JpegImagePlugin.JpegImageFile'>\n",
      "<class 'PIL.JpegImagePlugin.JpegImageFile'>\n",
      "<class 'PIL.JpegImagePlugin.JpegImageFile'>\n",
      "<class 'PIL.JpegImagePlugin.JpegImageFile'>\n",
      "<class 'PIL.JpegImagePlugin.JpegImageFile'>\n",
      "<class 'PIL.JpegImagePlugin.JpegImageFile'>\n",
      "<class 'PIL.JpegImagePlugin.JpegImageFile'>\n",
      "<class 'PIL.JpegImagePlugin.JpegImageFile'>\n",
      "<class 'PIL.JpegImagePlugin.JpegImageFile'>\n",
      "<class 'PIL.JpegImagePlugin.JpegImageFile'>\n",
      "<class 'PIL.JpegImagePlugin.JpegImageFile'>\n",
      "<class 'PIL.JpegImagePlugin.JpegImageFile'>\n",
      "<class 'PIL.JpegImagePlugin.JpegImageFile'>\n",
      "<class 'PIL.JpegImagePlugin.JpegImageFile'>\n",
      "<class 'PIL.JpegImagePlugin.JpegImageFile'>\n",
      "<class 'PIL.JpegImagePlugin.JpegImageFile'>\n",
      "<class 'PIL.JpegImagePlugin.JpegImageFile'>\n",
      "<class 'PIL.JpegImagePlugin.JpegImageFile'>\n",
      "<class 'PIL.JpegImagePlugin.JpegImageFile'>\n",
      "<class 'PIL.JpegImagePlugin.JpegImageFile'>\n",
      "<class 'PIL.JpegImagePlugin.JpegImageFile'>\n",
      "<class 'PIL.JpegImagePlugin.JpegImageFile'>\n",
      "<class 'PIL.JpegImagePlugin.JpegImageFile'>\n",
      "<class 'PIL.JpegImagePlugin.JpegImageFile'>\n",
      "<class 'PIL.JpegImagePlugin.JpegImageFile'>\n",
      "<class 'PIL.JpegImagePlugin.JpegImageFile'>\n",
      "<class 'PIL.JpegImagePlugin.JpegImageFile'>\n",
      "<class 'PIL.JpegImagePlugin.JpegImageFile'>\n",
      "<class 'PIL.JpegImagePlugin.JpegImageFile'>\n",
      "<class 'PIL.JpegImagePlugin.JpegImageFile'>\n",
      "<class 'PIL.JpegImagePlugin.JpegImageFile'>\n",
      "<class 'PIL.JpegImagePlugin.JpegImageFile'>\n",
      "<class 'PIL.JpegImagePlugin.JpegImageFile'>\n",
      "<class 'PIL.JpegImagePlugin.JpegImageFile'>\n",
      "<class 'PIL.JpegImagePlugin.JpegImageFile'>\n",
      "<class 'PIL.JpegImagePlugin.JpegImageFile'>\n",
      "<class 'PIL.JpegImagePlugin.JpegImageFile'>\n",
      "<class 'PIL.JpegImagePlugin.JpegImageFile'>\n",
      "<class 'PIL.JpegImagePlugin.JpegImageFile'>\n",
      "<class 'PIL.JpegImagePlugin.JpegImageFile'>\n",
      "<class 'PIL.JpegImagePlugin.JpegImageFile'>\n",
      "<class 'PIL.JpegImagePlugin.JpegImageFile'>\n",
      "<class 'PIL.JpegImagePlugin.JpegImageFile'>\n",
      "<class 'PIL.JpegImagePlugin.JpegImageFile'>\n",
      "<class 'PIL.JpegImagePlugin.JpegImageFile'>\n",
      "<class 'PIL.JpegImagePlugin.JpegImageFile'>\n",
      "<class 'PIL.JpegImagePlugin.JpegImageFile'>\n",
      "<class 'PIL.JpegImagePlugin.JpegImageFile'>\n",
      "<class 'PIL.JpegImagePlugin.JpegImageFile'>\n",
      "<class 'PIL.JpegImagePlugin.JpegImageFile'>\n",
      "<class 'PIL.JpegImagePlugin.JpegImageFile'>\n",
      "<class 'PIL.JpegImagePlugin.JpegImageFile'>\n",
      "<class 'PIL.JpegImagePlugin.JpegImageFile'>\n",
      "<class 'PIL.JpegImagePlugin.JpegImageFile'>\n",
      "<class 'PIL.JpegImagePlugin.JpegImageFile'>\n",
      "<class 'PIL.JpegImagePlugin.JpegImageFile'>\n",
      "<class 'PIL.JpegImagePlugin.JpegImageFile'>\n",
      "<class 'PIL.JpegImagePlugin.JpegImageFile'>\n",
      "<class 'PIL.JpegImagePlugin.JpegImageFile'>\n",
      "<class 'PIL.JpegImagePlugin.JpegImageFile'>\n",
      "<class 'PIL.JpegImagePlugin.JpegImageFile'>\n",
      "<class 'PIL.JpegImagePlugin.JpegImageFile'>\n",
      "<class 'PIL.JpegImagePlugin.JpegImageFile'>\n",
      "<class 'PIL.JpegImagePlugin.JpegImageFile'>\n",
      "<class 'PIL.JpegImagePlugin.JpegImageFile'>\n",
      "<class 'PIL.JpegImagePlugin.JpegImageFile'>\n",
      "<class 'PIL.JpegImagePlugin.JpegImageFile'>\n",
      "<class 'PIL.JpegImagePlugin.JpegImageFile'>\n",
      "<class 'PIL.JpegImagePlugin.JpegImageFile'>\n",
      "<class 'PIL.JpegImagePlugin.JpegImageFile'>\n",
      "<class 'PIL.JpegImagePlugin.JpegImageFile'>\n",
      "<class 'PIL.JpegImagePlugin.JpegImageFile'>\n",
      "<class 'PIL.JpegImagePlugin.JpegImageFile'>\n",
      "<class 'PIL.JpegImagePlugin.JpegImageFile'>\n",
      "<class 'PIL.JpegImagePlugin.JpegImageFile'>\n",
      "<class 'PIL.JpegImagePlugin.JpegImageFile'>\n",
      "<class 'PIL.JpegImagePlugin.JpegImageFile'>\n",
      "<class 'PIL.JpegImagePlugin.JpegImageFile'>\n",
      "<class 'PIL.JpegImagePlugin.JpegImageFile'>\n",
      "<class 'PIL.JpegImagePlugin.JpegImageFile'>\n",
      "<class 'PIL.JpegImagePlugin.JpegImageFile'>\n",
      "<class 'PIL.JpegImagePlugin.JpegImageFile'>\n",
      "<class 'PIL.JpegImagePlugin.JpegImageFile'>\n",
      "<class 'PIL.JpegImagePlugin.JpegImageFile'>\n",
      "<class 'PIL.JpegImagePlugin.JpegImageFile'>\n",
      "<class 'PIL.JpegImagePlugin.JpegImageFile'>\n",
      "<class 'PIL.JpegImagePlugin.JpegImageFile'>\n",
      "<class 'PIL.JpegImagePlugin.JpegImageFile'>\n",
      "<class 'PIL.JpegImagePlugin.JpegImageFile'>\n",
      "<class 'PIL.JpegImagePlugin.JpegImageFile'>\n",
      "<class 'PIL.JpegImagePlugin.JpegImageFile'>\n",
      "<class 'PIL.JpegImagePlugin.JpegImageFile'>\n",
      "<class 'PIL.JpegImagePlugin.JpegImageFile'>\n",
      "<class 'PIL.JpegImagePlugin.JpegImageFile'>\n",
      "<class 'PIL.JpegImagePlugin.JpegImageFile'>\n",
      "<class 'PIL.JpegImagePlugin.JpegImageFile'>\n",
      "<class 'PIL.JpegImagePlugin.JpegImageFile'>\n",
      "<class 'PIL.JpegImagePlugin.JpegImageFile'>\n",
      "<class 'PIL.JpegImagePlugin.JpegImageFile'>\n",
      "<class 'PIL.JpegImagePlugin.JpegImageFile'>\n",
      "<class 'PIL.JpegImagePlugin.JpegImageFile'>\n",
      "<class 'PIL.JpegImagePlugin.JpegImageFile'>\n",
      "<class 'PIL.JpegImagePlugin.JpegImageFile'>\n",
      "<class 'PIL.JpegImagePlugin.JpegImageFile'>\n",
      "<class 'PIL.JpegImagePlugin.JpegImageFile'>\n",
      "<class 'PIL.JpegImagePlugin.JpegImageFile'>\n",
      "<class 'PIL.JpegImagePlugin.JpegImageFile'>\n",
      "<class 'PIL.JpegImagePlugin.JpegImageFile'>\n",
      "<class 'PIL.JpegImagePlugin.JpegImageFile'>\n",
      "<class 'PIL.JpegImagePlugin.JpegImageFile'>\n",
      "<class 'PIL.JpegImagePlugin.JpegImageFile'>\n",
      "<class 'PIL.JpegImagePlugin.JpegImageFile'>\n",
      "<class 'PIL.JpegImagePlugin.JpegImageFile'>\n",
      "<class 'PIL.JpegImagePlugin.JpegImageFile'>\n",
      "<class 'PIL.JpegImagePlugin.JpegImageFile'>\n",
      "<class 'PIL.JpegImagePlugin.JpegImageFile'>\n",
      "<class 'PIL.JpegImagePlugin.JpegImageFile'>\n",
      "<class 'PIL.JpegImagePlugin.JpegImageFile'>\n",
      "<class 'PIL.JpegImagePlugin.JpegImageFile'>\n",
      "<class 'PIL.JpegImagePlugin.JpegImageFile'>\n",
      "<class 'PIL.JpegImagePlugin.JpegImageFile'>\n",
      "<class 'PIL.JpegImagePlugin.JpegImageFile'>\n",
      "<class 'PIL.JpegImagePlugin.JpegImageFile'>\n",
      "<class 'PIL.JpegImagePlugin.JpegImageFile'>\n",
      "<class 'PIL.JpegImagePlugin.JpegImageFile'>\n",
      "<class 'PIL.JpegImagePlugin.JpegImageFile'>\n",
      "<class 'PIL.JpegImagePlugin.JpegImageFile'>\n",
      "<class 'PIL.JpegImagePlugin.JpegImageFile'>\n",
      "<class 'PIL.JpegImagePlugin.JpegImageFile'>\n",
      "<class 'PIL.JpegImagePlugin.JpegImageFile'>\n",
      "<class 'PIL.JpegImagePlugin.JpegImageFile'>\n",
      "<class 'PIL.JpegImagePlugin.JpegImageFile'>\n",
      "<class 'PIL.JpegImagePlugin.JpegImageFile'>\n",
      "<class 'PIL.JpegImagePlugin.JpegImageFile'>\n",
      "<class 'PIL.JpegImagePlugin.JpegImageFile'>\n",
      "<class 'PIL.JpegImagePlugin.JpegImageFile'>\n",
      "<class 'PIL.JpegImagePlugin.JpegImageFile'>\n",
      "<class 'PIL.JpegImagePlugin.JpegImageFile'>\n",
      "<class 'PIL.JpegImagePlugin.JpegImageFile'>\n",
      "<class 'PIL.JpegImagePlugin.JpegImageFile'>\n",
      "<class 'PIL.JpegImagePlugin.JpegImageFile'>\n",
      "<class 'PIL.JpegImagePlugin.JpegImageFile'>\n",
      "<class 'PIL.JpegImagePlugin.JpegImageFile'>\n",
      "<class 'PIL.JpegImagePlugin.JpegImageFile'>\n",
      "<class 'PIL.JpegImagePlugin.JpegImageFile'>\n",
      "<class 'PIL.JpegImagePlugin.JpegImageFile'>\n",
      "<class 'PIL.JpegImagePlugin.JpegImageFile'>\n",
      "<class 'PIL.JpegImagePlugin.JpegImageFile'>\n",
      "<class 'PIL.JpegImagePlugin.JpegImageFile'>\n",
      "<class 'PIL.JpegImagePlugin.JpegImageFile'>\n",
      "<class 'PIL.JpegImagePlugin.JpegImageFile'>\n",
      "<class 'PIL.JpegImagePlugin.JpegImageFile'>\n",
      "<class 'PIL.JpegImagePlugin.JpegImageFile'>\n",
      "<class 'PIL.JpegImagePlugin.JpegImageFile'>\n",
      "<class 'PIL.JpegImagePlugin.JpegImageFile'>\n",
      "<class 'PIL.JpegImagePlugin.JpegImageFile'>\n",
      "<class 'PIL.JpegImagePlugin.JpegImageFile'>\n",
      "<class 'PIL.JpegImagePlugin.JpegImageFile'>\n",
      "<class 'PIL.JpegImagePlugin.JpegImageFile'>\n",
      "<class 'PIL.JpegImagePlugin.JpegImageFile'>\n",
      "<class 'PIL.JpegImagePlugin.JpegImageFile'>\n",
      "<class 'PIL.JpegImagePlugin.JpegImageFile'>\n",
      "<class 'PIL.JpegImagePlugin.JpegImageFile'>\n",
      "<class 'PIL.JpegImagePlugin.JpegImageFile'>\n",
      "<class 'PIL.JpegImagePlugin.JpegImageFile'>\n",
      "<class 'PIL.JpegImagePlugin.JpegImageFile'>\n",
      "<class 'PIL.JpegImagePlugin.JpegImageFile'>\n",
      "<class 'PIL.JpegImagePlugin.JpegImageFile'>\n",
      "<class 'PIL.JpegImagePlugin.JpegImageFile'>\n",
      "<class 'PIL.JpegImagePlugin.JpegImageFile'>\n",
      "<class 'PIL.JpegImagePlugin.JpegImageFile'>\n",
      "<class 'PIL.JpegImagePlugin.JpegImageFile'>\n",
      "<class 'PIL.JpegImagePlugin.JpegImageFile'>\n",
      "<class 'PIL.JpegImagePlugin.JpegImageFile'>\n",
      "<class 'PIL.JpegImagePlugin.JpegImageFile'>\n",
      "<class 'PIL.JpegImagePlugin.JpegImageFile'>\n",
      "<class 'PIL.JpegImagePlugin.JpegImageFile'>\n",
      "<class 'PIL.JpegImagePlugin.JpegImageFile'>\n",
      "<class 'PIL.JpegImagePlugin.JpegImageFile'>\n",
      "<class 'PIL.JpegImagePlugin.JpegImageFile'>\n",
      "<class 'PIL.JpegImagePlugin.JpegImageFile'>\n",
      "<class 'PIL.JpegImagePlugin.JpegImageFile'>\n",
      "<class 'PIL.JpegImagePlugin.JpegImageFile'>\n",
      "<class 'PIL.JpegImagePlugin.JpegImageFile'>\n",
      "<class 'PIL.JpegImagePlugin.JpegImageFile'>\n",
      "<class 'PIL.JpegImagePlugin.JpegImageFile'>\n",
      "<class 'PIL.JpegImagePlugin.JpegImageFile'>\n",
      "<class 'PIL.JpegImagePlugin.JpegImageFile'>\n",
      "<class 'PIL.JpegImagePlugin.JpegImageFile'>\n",
      "<class 'PIL.JpegImagePlugin.JpegImageFile'>\n",
      "<class 'PIL.JpegImagePlugin.JpegImageFile'>\n",
      "<class 'PIL.JpegImagePlugin.JpegImageFile'>\n",
      "<class 'PIL.JpegImagePlugin.JpegImageFile'>\n",
      "<class 'PIL.JpegImagePlugin.JpegImageFile'>\n"
     ]
    }
   ],
   "source": [
    "random.seed(0)\n",
    "\n",
    "\n",
    "class_name_to_id_mapping = {\"complete\": 0,\n",
    "                \"incomplete\": 1,\n",
    "                           \"blurry.complete\": 2,\n",
    "                           \"blurry.incomplete\" :3 , \n",
    "                           \"hair\":4\n",
    "                           } # human hair\n",
    "\n",
    "class_id_to_name_mapping = dict(zip(class_name_to_id_mapping.values(), class_name_to_id_mapping.keys()))\n",
    "\n",
    "fnt = ImageFont.truetype(\"Pillow/Tests/fonts/FreeMono.ttf\", 40)\n",
    "\n",
    "\n",
    "\n",
    "def PlotAndSavebounding_box(image_name,image, annotation_list):\n",
    "    annotations = np.array(annotation_list)\n",
    "    w, h = image.size\n",
    "\n",
    "    plotted_image = ImageDraw.Draw(image)\n",
    "\n",
    "    transformed_annotations = np.copy(annotations)\n",
    "    transformed_annotations[:,[1,3]] = annotations[:,[1,3]] * w\n",
    "    transformed_annotations[:,[2,4]] = annotations[:,[2,4]] * h\n",
    "\n",
    "    transformed_annotations[:,1] = transformed_annotations[:,1] - (transformed_annotations[:,3] / 2)\n",
    "    transformed_annotations[:,2] = transformed_annotations[:,2] - (transformed_annotations[:,4] / 2)\n",
    "    transformed_annotations[:,3] = transformed_annotations[:,1] + transformed_annotations[:,3]\n",
    "    transformed_annotations[:,4] = transformed_annotations[:,2] + transformed_annotations[:,4]\n",
    "\n",
    "    for ann in transformed_annotations:\n",
    "        obj_cls, x0, y0, x1, y1 = ann\n",
    "        plotted_image.rectangle(((x0,y0), (x1,y1)),outline =\"red\", width = 3)\n",
    "        plotted_image.text((x0, y0-10), class_id_to_name_mapping[(int(obj_cls))] , fill = (255,0,255,255), font = fnt)\n",
    "    \n",
    "    # covert PIL image to cv2 image\n",
    "    open_cv_image = np.array(image)\n",
    "\n",
    "    # Convert RGB to BGR\n",
    "    open_cv_image = open_cv_image[:, :, ::-1].copy()\n",
    "\n",
    "    print(type(image))\n",
    "\n",
    "\n",
    "    image_name = image_name.replace(\".jpg\", \"_label.jpg\")\n",
    "    \n",
    "    cv2.imwrite( image_name , open_cv_image, [cv2.IMWRITE_JPEG_QUALITY, 100])\n",
    "\n",
    "    #plt.imshow(np.array(image))\n",
    "    #plt.show()\n",
    "\n",
    "\n",
    "# Get any random annotation file\n",
    "#annotation_file = annotations[0]\n",
    "\n",
    "'''\n",
    "with open(annotation_file, \"r\") as file:\n",
    "    annotation_list = file.read().split(\"\\n\")[:-1]\n",
    "    annotation_list = [x.split(\" \") for x in annotation_list]\n",
    "    annotation_list = [[float(y) for y in x ] for x in annotation_list]\n",
    "'''    \n",
    "\n",
    "\n",
    "# use %cd T22Label to locate folder\n",
    "\n",
    "# Plot the Bounding Box\n",
    "# Polt all the Images Labels and annotations\n",
    "for i in range(0,len(annotations)):\n",
    "\n",
    "    annotation_file = annotations[i]\n",
    "\n",
    "    with open(annotation_file, \"r\") as file:\n",
    "        annotation_list = file.read().split(\"\\n\")[:-1]\n",
    "        annotation_list = [x.split(\" \") for x in annotation_list]\n",
    "        annotation_list = [[float(y) for y in x ] for x in annotation_list]\n",
    "\n",
    "    #Get the corresponding image file\n",
    "    image_file = annotation_file.replace(\"txt\", \"jpg\")\n",
    "    \n",
    "    assert os.path.exists(image_file)\n",
    "\n",
    "    #Load the image\n",
    "\n",
    "    image = Image.open(image_file)\n",
    "    PlotAndSavebounding_box(image_file,image, annotation_list)\n",
    "\n"
   ]
  },
  {
   "cell_type": "markdown",
   "metadata": {},
   "source": [
    "### Count all class of images\n",
    "export the csv file of the dataset"
   ]
  },
  {
   "cell_type": "code",
   "execution_count": 40,
   "metadata": {},
   "outputs": [],
   "source": [
    "\n",
    "annotations = [os.path.join('./'+dir_name, x) for x in os.listdir('./' + dir_name) if x[-3:] == \"txt\"]\n",
    "\n",
    "import pandas as pd\n",
    "\n",
    "\n",
    "class_name_to_id_mapping = {\"complete\": 0,\n",
    "                \"incomplete\": 1,\n",
    "                           \"blurry.complete\": 2,\n",
    "                           \"blurry.incomplete\" :3 , \n",
    "                           \"hair\":4\n",
    "                           } # human hair\n",
    "\n",
    "class_id_to_name_mapping = dict(zip(class_name_to_id_mapping.values(), class_name_to_id_mapping.keys()))\n",
    "\n",
    "\n",
    "\n",
    "\n",
    "def CountAndSaveInstance(dic, annotation_list) :\n",
    "    annotations = np.array(annotation_list)\n",
    "    \n",
    "\n",
    "    \n",
    "    transformed_annotations = np.copy(annotations)\n",
    "    \n",
    "    for ann in transformed_annotations:\n",
    "        obj_cls, x0, y0, x1, y1 = ann\n",
    "        dic[\"count\"][int(obj_cls)] += 1\n",
    "    \n",
    "    \n",
    "# Set original  \n",
    "dic = { \"class\" : class_name_to_id_mapping.keys() , \"count\" : [0,0,0,0,0]}\n",
    "\n",
    "\n",
    "\n",
    "for i in range(0,len(annotations)):\n",
    "\n",
    "    annotation_file = annotations[i]\n",
    "\n",
    "    with open(annotation_file, \"r\") as file:\n",
    "        annotation_list = file.read().split(\"\\n\")[:-1]\n",
    "        annotation_list = [x.split(\" \") for x in annotation_list]\n",
    "        annotation_list = [[float(y) for y in x ] for x in annotation_list]\n",
    "\n",
    "    #\n",
    "    CountAndSaveInstance(dic,annotation_list)\n"
   ]
  },
  {
   "cell_type": "code",
   "execution_count": 42,
   "metadata": {},
   "outputs": [
    {
     "data": {
      "text/html": [
       "<div>\n",
       "<style scoped>\n",
       "    .dataframe tbody tr th:only-of-type {\n",
       "        vertical-align: middle;\n",
       "    }\n",
       "\n",
       "    .dataframe tbody tr th {\n",
       "        vertical-align: top;\n",
       "    }\n",
       "\n",
       "    .dataframe thead th {\n",
       "        text-align: right;\n",
       "    }\n",
       "</style>\n",
       "<table border=\"1\" class=\"dataframe\">\n",
       "  <thead>\n",
       "    <tr style=\"text-align: right;\">\n",
       "      <th></th>\n",
       "      <th>class</th>\n",
       "      <th>count</th>\n",
       "    </tr>\n",
       "  </thead>\n",
       "  <tbody>\n",
       "    <tr>\n",
       "      <th>0</th>\n",
       "      <td>complete</td>\n",
       "      <td>862</td>\n",
       "    </tr>\n",
       "    <tr>\n",
       "      <th>1</th>\n",
       "      <td>incomplete</td>\n",
       "      <td>62</td>\n",
       "    </tr>\n",
       "    <tr>\n",
       "      <th>2</th>\n",
       "      <td>blurry.complete</td>\n",
       "      <td>587</td>\n",
       "    </tr>\n",
       "    <tr>\n",
       "      <th>3</th>\n",
       "      <td>blurry.incomplete</td>\n",
       "      <td>120</td>\n",
       "    </tr>\n",
       "    <tr>\n",
       "      <th>4</th>\n",
       "      <td>hair</td>\n",
       "      <td>874</td>\n",
       "    </tr>\n",
       "  </tbody>\n",
       "</table>\n",
       "</div>"
      ],
      "text/plain": [
       "               class  count\n",
       "0           complete    862\n",
       "1         incomplete     62\n",
       "2    blurry.complete    587\n",
       "3  blurry.incomplete    120\n",
       "4               hair    874"
      ]
     },
     "execution_count": 42,
     "metadata": {},
     "output_type": "execute_result"
    }
   ],
   "source": [
    "dic_df = pd.DataFrame(dic)\n",
    "dic_df"
   ]
  },
  {
   "cell_type": "code",
   "execution_count": 43,
   "metadata": {},
   "outputs": [],
   "source": [
    "dic_df.to_csv('T22Count.csv')"
   ]
  },
  {
   "cell_type": "markdown",
   "metadata": {},
   "source": [
    "# Read Image and Annotation\n",
    "###   Split to train datasets and Test data Set"
   ]
  },
  {
   "cell_type": "code",
   "execution_count": 16,
   "metadata": {},
   "outputs": [],
   "source": [
    "# Read images and annotations\n",
    "images = [os.path.join('./' + dir_name, x) for x in os.listdir('./' + dir_name) if x[-3:] == 'jpg' ]\n",
    "annotations = [os.path.join('./' + dir_name, x) for x in os.listdir('./' + dir_name) if x[-3:] == \"txt\"]\n",
    "\n",
    "images.sort()\n",
    "annotations.sort()\n",
    "\n",
    "# Split the dataset into train-valid-test splits\n",
    "train_images, val_images, train_annotations, val_annotations = train_test_split(images, annotations, test_size = 0.2, random_state = 1)\n",
    "val_images, test_images, val_annotations, test_annotations = train_test_split(val_images, val_annotations, test_size = 0.5, random_state = 1)"
   ]
  },
  {
   "cell_type": "markdown",
   "metadata": {},
   "source": [
    "## Create the folders to keep the splits."
   ]
  },
  {
   "cell_type": "code",
   "execution_count": 19,
   "metadata": {},
   "outputs": [],
   "source": [
    "\n",
    "path = './' + dir_name\n",
    "#!mkdir ./T32/images ./T32/labels\n",
    "\n",
    "os.mkdir(path + '/images')\n",
    "os.mkdir(path + '/labels')\n",
    "\n"
   ]
  },
  {
   "cell_type": "code",
   "execution_count": 20,
   "metadata": {},
   "outputs": [],
   "source": [
    "#!mkdir ./T32/images/train ./T32/images/val ./T32/images/test  ./T32/labels/train  ./T32/labels/val  ./T32/labels/test\n",
    "\n",
    "os.mkdir(path + '/images/train')\n",
    "os.mkdir(path + '/images/val')\n",
    "os.mkdir(path + '/images/test')\n",
    "os.mkdir(path + '/labels/train')\n",
    "os.mkdir(path + '/labels/val')\n",
    "os.mkdir(path + '/labels/test')"
   ]
  },
  {
   "cell_type": "markdown",
   "metadata": {},
   "source": [
    "## Move the files to their respective folders"
   ]
  },
  {
   "cell_type": "code",
   "execution_count": 21,
   "metadata": {},
   "outputs": [],
   "source": [
    "#Utility function to move images\n",
    "def move_files_to_folder(list_of_files, destination_folder):\n",
    "    for f in list_of_files:\n",
    "        try:\n",
    "            shutil.move(f, destination_folder)\n",
    "        except:\n",
    "            print(f)\n",
    "            assert False\n",
    "\n",
    "\n",
    "# Move the splits into their folders\n",
    "move_files_to_folder(train_images, path  + '/images/train')\n",
    "move_files_to_folder(val_images, path + '/images/val/')\n",
    "move_files_to_folder(test_images,  path +  '/images/test/')\n",
    "move_files_to_folder(train_annotations, path + '/labels/train/')\n",
    "move_files_to_folder(val_annotations, path + '/labels/val/')\n",
    "move_files_to_folder(test_annotations, path + '/labels/test/')"
   ]
  },
  {
   "cell_type": "markdown",
   "metadata": {},
   "source": [
    "##### Create a new file called road_sign_data.yaml and place it in the yolov5/data folder. Then populate it with the following.\n",
    "\n",
    "train : ./T22/images/train/\n",
    "val : ./T22/images/val/\n",
    "test : ./T22/images/test/\n",
    "\n",
    "\n",
    "##### number of classes\n",
    "nc: 5\n",
    "\n",
    "##### class names\n",
    "names : [\"complete\", \"incomplete\",\"blurry.complete\",\"blurry.incomplete\" , \"hair\"]"
   ]
  },
  {
   "cell_type": "markdown",
   "metadata": {},
   "source": [
    "# Train the Yolov8 Model"
   ]
  },
  {
   "cell_type": "code",
   "execution_count": 9,
   "metadata": {},
   "outputs": [
    {
     "name": "stdout",
     "output_type": "stream",
     "text": [
      "Requirement already satisfied: ultralytics in /home/ray/anaconda3/envs/Yolov8Stomata/lib/python3.10/site-packages (8.0.232)\n",
      "Collecting ultralytics\n",
      "  Downloading ultralytics-8.1.0-py3-none-any.whl.metadata (39 kB)\n",
      "Requirement already satisfied: matplotlib>=3.3.0 in /home/ray/.local/lib/python3.10/site-packages (from ultralytics) (3.8.0)\n",
      "Requirement already satisfied: numpy>=1.22.2 in /home/ray/.local/lib/python3.10/site-packages (from ultralytics) (1.26.1)\n",
      "Requirement already satisfied: opencv-python>=4.6.0 in /home/ray/.local/lib/python3.10/site-packages (from ultralytics) (4.8.1.78)\n",
      "Requirement already satisfied: pillow>=7.1.2 in /home/ray/anaconda3/envs/Yolov8Stomata/lib/python3.10/site-packages (from ultralytics) (10.2.0)\n",
      "Requirement already satisfied: pyyaml>=5.3.1 in /home/ray/anaconda3/envs/Yolov8Stomata/lib/python3.10/site-packages (from ultralytics) (6.0.1)\n",
      "Requirement already satisfied: requests>=2.23.0 in /home/ray/.local/lib/python3.10/site-packages (from ultralytics) (2.31.0)\n",
      "Requirement already satisfied: scipy>=1.4.1 in /home/ray/.local/lib/python3.10/site-packages (from ultralytics) (1.11.3)\n",
      "Requirement already satisfied: torch>=1.8.0 in /home/ray/.local/lib/python3.10/site-packages (from ultralytics) (2.1.0)\n",
      "Requirement already satisfied: torchvision>=0.9.0 in /home/ray/.local/lib/python3.10/site-packages (from ultralytics) (0.16.0)\n",
      "Requirement already satisfied: tqdm>=4.64.0 in /home/ray/.local/lib/python3.10/site-packages (from ultralytics) (4.66.1)\n",
      "Requirement already satisfied: psutil in /home/ray/anaconda3/envs/Yolov8Stomata/lib/python3.10/site-packages (from ultralytics) (5.9.7)\n",
      "Requirement already satisfied: py-cpuinfo in /home/ray/.local/lib/python3.10/site-packages (from ultralytics) (9.0.0)\n",
      "Requirement already satisfied: thop>=0.1.1 in /home/ray/.local/lib/python3.10/site-packages (from ultralytics) (0.1.1.post2209072238)\n",
      "Requirement already satisfied: pandas>=1.1.4 in /home/ray/.local/lib/python3.10/site-packages (from ultralytics) (2.1.1)\n",
      "Requirement already satisfied: seaborn>=0.11.0 in /home/ray/.local/lib/python3.10/site-packages (from ultralytics) (0.13.0)\n",
      "Collecting hub-sdk>=0.0.2 (from ultralytics)\n",
      "  Downloading hub_sdk-0.0.2-py3-none-any.whl.metadata (8.8 kB)\n",
      "Requirement already satisfied: contourpy>=1.0.1 in /home/ray/.local/lib/python3.10/site-packages (from matplotlib>=3.3.0->ultralytics) (1.1.1)\n",
      "Requirement already satisfied: cycler>=0.10 in /home/ray/.local/lib/python3.10/site-packages (from matplotlib>=3.3.0->ultralytics) (0.12.1)\n",
      "Requirement already satisfied: fonttools>=4.22.0 in /home/ray/.local/lib/python3.10/site-packages (from matplotlib>=3.3.0->ultralytics) (4.43.1)\n",
      "Requirement already satisfied: kiwisolver>=1.0.1 in /home/ray/.local/lib/python3.10/site-packages (from matplotlib>=3.3.0->ultralytics) (1.4.5)\n",
      "Requirement already satisfied: packaging>=20.0 in /home/ray/.local/lib/python3.10/site-packages (from matplotlib>=3.3.0->ultralytics) (23.2)\n",
      "Requirement already satisfied: pyparsing>=2.3.1 in /home/ray/anaconda3/envs/Yolov8Stomata/lib/python3.10/site-packages (from matplotlib>=3.3.0->ultralytics) (3.1.1)\n",
      "Requirement already satisfied: python-dateutil>=2.7 in /home/ray/.local/lib/python3.10/site-packages (from matplotlib>=3.3.0->ultralytics) (2.8.2)\n",
      "Requirement already satisfied: pytz>=2020.1 in /home/ray/anaconda3/envs/Yolov8Stomata/lib/python3.10/site-packages (from pandas>=1.1.4->ultralytics) (2023.3.post1)\n",
      "Requirement already satisfied: tzdata>=2022.1 in /home/ray/.local/lib/python3.10/site-packages (from pandas>=1.1.4->ultralytics) (2023.3)\n",
      "Requirement already satisfied: charset-normalizer<4,>=2 in /home/ray/.local/lib/python3.10/site-packages (from requests>=2.23.0->ultralytics) (3.3.0)\n",
      "Requirement already satisfied: idna<4,>=2.5 in /home/ray/anaconda3/envs/Yolov8Stomata/lib/python3.10/site-packages (from requests>=2.23.0->ultralytics) (3.6)\n",
      "Requirement already satisfied: urllib3<3,>=1.21.1 in /home/ray/anaconda3/envs/Yolov8Stomata/lib/python3.10/site-packages (from requests>=2.23.0->ultralytics) (2.1.0)\n",
      "Requirement already satisfied: certifi>=2017.4.17 in /home/ray/anaconda3/envs/Yolov8Stomata/lib/python3.10/site-packages (from requests>=2.23.0->ultralytics) (2023.11.17)\n",
      "Requirement already satisfied: filelock in /home/ray/.local/lib/python3.10/site-packages (from torch>=1.8.0->ultralytics) (3.12.4)\n",
      "Requirement already satisfied: typing-extensions in /home/ray/.local/lib/python3.10/site-packages (from torch>=1.8.0->ultralytics) (4.8.0)\n",
      "Requirement already satisfied: sympy in /home/ray/.local/lib/python3.10/site-packages (from torch>=1.8.0->ultralytics) (1.12)\n",
      "Requirement already satisfied: networkx in /home/ray/.local/lib/python3.10/site-packages (from torch>=1.8.0->ultralytics) (3.1)\n",
      "Requirement already satisfied: jinja2 in /home/ray/.local/lib/python3.10/site-packages (from torch>=1.8.0->ultralytics) (3.1.2)\n",
      "Requirement already satisfied: fsspec in /home/ray/.local/lib/python3.10/site-packages (from torch>=1.8.0->ultralytics) (2023.9.2)\n",
      "Requirement already satisfied: nvidia-cuda-nvrtc-cu12==12.1.105 in /home/ray/.local/lib/python3.10/site-packages (from torch>=1.8.0->ultralytics) (12.1.105)\n",
      "Requirement already satisfied: nvidia-cuda-runtime-cu12==12.1.105 in /home/ray/.local/lib/python3.10/site-packages (from torch>=1.8.0->ultralytics) (12.1.105)\n",
      "Requirement already satisfied: nvidia-cuda-cupti-cu12==12.1.105 in /home/ray/.local/lib/python3.10/site-packages (from torch>=1.8.0->ultralytics) (12.1.105)\n",
      "Requirement already satisfied: nvidia-cudnn-cu12==8.9.2.26 in /home/ray/.local/lib/python3.10/site-packages (from torch>=1.8.0->ultralytics) (8.9.2.26)\n",
      "Requirement already satisfied: nvidia-cublas-cu12==12.1.3.1 in /home/ray/.local/lib/python3.10/site-packages (from torch>=1.8.0->ultralytics) (12.1.3.1)\n",
      "Requirement already satisfied: nvidia-cufft-cu12==11.0.2.54 in /home/ray/.local/lib/python3.10/site-packages (from torch>=1.8.0->ultralytics) (11.0.2.54)\n",
      "Requirement already satisfied: nvidia-curand-cu12==10.3.2.106 in /home/ray/.local/lib/python3.10/site-packages (from torch>=1.8.0->ultralytics) (10.3.2.106)\n",
      "Requirement already satisfied: nvidia-cusolver-cu12==11.4.5.107 in /home/ray/.local/lib/python3.10/site-packages (from torch>=1.8.0->ultralytics) (11.4.5.107)\n",
      "Requirement already satisfied: nvidia-cusparse-cu12==12.1.0.106 in /home/ray/.local/lib/python3.10/site-packages (from torch>=1.8.0->ultralytics) (12.1.0.106)\n",
      "Requirement already satisfied: nvidia-nccl-cu12==2.18.1 in /home/ray/.local/lib/python3.10/site-packages (from torch>=1.8.0->ultralytics) (2.18.1)\n",
      "Requirement already satisfied: nvidia-nvtx-cu12==12.1.105 in /home/ray/.local/lib/python3.10/site-packages (from torch>=1.8.0->ultralytics) (12.1.105)\n",
      "Requirement already satisfied: triton==2.1.0 in /home/ray/.local/lib/python3.10/site-packages (from torch>=1.8.0->ultralytics) (2.1.0)\n",
      "Requirement already satisfied: nvidia-nvjitlink-cu12 in /home/ray/.local/lib/python3.10/site-packages (from nvidia-cusolver-cu12==11.4.5.107->torch>=1.8.0->ultralytics) (12.2.140)\n",
      "Requirement already satisfied: six>=1.5 in /home/ray/anaconda3/envs/Yolov8Stomata/lib/python3.10/site-packages (from python-dateutil>=2.7->matplotlib>=3.3.0->ultralytics) (1.16.0)\n",
      "Requirement already satisfied: MarkupSafe>=2.0 in /home/ray/anaconda3/envs/Yolov8Stomata/lib/python3.10/site-packages (from jinja2->torch>=1.8.0->ultralytics) (2.1.3)\n",
      "Requirement already satisfied: mpmath>=0.19 in /home/ray/.local/lib/python3.10/site-packages (from sympy->torch>=1.8.0->ultralytics) (1.3.0)\n",
      "Downloading ultralytics-8.1.0-py3-none-any.whl (699 kB)\n",
      "\u001b[2K   \u001b[90m━━━━━━━━━━━━━━━━━━━━━━━━━━━━━━━━━━━━━━━━\u001b[0m \u001b[32m699.2/699.2 kB\u001b[0m \u001b[31m6.2 MB/s\u001b[0m eta \u001b[36m0:00:00\u001b[0m00:01\u001b[0m00:01\u001b[0m\n",
      "\u001b[?25hDownloading hub_sdk-0.0.2-py3-none-any.whl (37 kB)\n",
      "Installing collected packages: hub-sdk, ultralytics\n",
      "  Attempting uninstall: ultralytics\n",
      "    Found existing installation: ultralytics 8.0.232\n",
      "    Uninstalling ultralytics-8.0.232:\n",
      "      Successfully uninstalled ultralytics-8.0.232\n",
      "Successfully installed hub-sdk-0.0.2 ultralytics-8.1.0\n"
     ]
    }
   ],
   "source": [
    "!pip install -U ultralytics"
   ]
  },
  {
   "cell_type": "code",
   "execution_count": 1,
   "metadata": {},
   "outputs": [
    {
     "name": "stderr",
     "output_type": "stream",
     "text": [
      "/home/ray/.local/lib/python3.10/site-packages/tqdm/auto.py:21: TqdmWarning: IProgress not found. Please update jupyter and ipywidgets. See https://ipywidgets.readthedocs.io/en/stable/user_install.html\n",
      "  from .autonotebook import tqdm as notebook_tqdm\n"
     ]
    }
   ],
   "source": [
    "from ultralytics import YOLO\n",
    "\n",
    "model = YOLO(\"yolov8m-obb.pt\")\n"
   ]
  },
  {
   "cell_type": "code",
   "execution_count": 22,
   "metadata": {},
   "outputs": [
    {
     "name": "stdout",
     "output_type": "stream",
     "text": [
      "Ultralytics YOLOv8.1.0 🚀 Python-3.10.13 torch-2.1.0+cu121 CUDA:0 (NVIDIA GeForce RTX 4060 Ti, 7937MiB)\n",
      "\u001b[34m\u001b[1mengine/trainer: \u001b[0mtask=detect, mode=train, model=yolov8s.pt, data=data_All.yaml, epochs=250, time=None, patience=50, batch=16, imgsz=640, save=True, save_period=-1, cache=False, device=None, workers=8, project=None, name=train8, exist_ok=False, pretrained=True, optimizer=auto, verbose=True, seed=0, deterministic=True, single_cls=False, rect=False, cos_lr=False, close_mosaic=10, resume=False, amp=True, fraction=1.0, profile=False, freeze=None, multi_scale=False, overlap_mask=True, mask_ratio=4, dropout=0.0, val=True, split=val, save_json=False, save_hybrid=False, conf=None, iou=0.7, max_det=300, half=False, dnn=False, plots=True, source=None, vid_stride=1, stream_buffer=False, visualize=False, augment=False, agnostic_nms=False, classes=None, retina_masks=False, embed=None, show=False, save_frames=False, save_txt=False, save_conf=False, save_crop=False, show_labels=True, show_conf=True, show_boxes=True, line_width=None, format=torchscript, keras=False, optimize=False, int8=False, dynamic=False, simplify=False, opset=None, workspace=4, nms=False, lr0=0.01, lrf=0.01, momentum=0.937, weight_decay=0.0005, warmup_epochs=3.0, warmup_momentum=0.8, warmup_bias_lr=0.1, box=7.5, cls=0.5, dfl=1.5, pose=12.0, kobj=1.0, label_smoothing=0.0, nbs=64, hsv_h=0.015, hsv_s=0.7, hsv_v=0.4, degrees=0.0, translate=0.1, scale=0.5, shear=0.0, perspective=0.0, flipud=0.0, fliplr=0.5, mosaic=1.0, mixup=0.0, copy_paste=0.0, auto_augment=randaugment, erasing=0.4, crop_fraction=1.0, cfg=None, tracker=botsort.yaml, save_dir=/home/ray/runs/detect/train8\n",
      "Overriding model.yaml nc=80 with nc=5\n",
      "\n",
      "                   from  n    params  module                                       arguments                     \n",
      "  0                  -1  1       928  ultralytics.nn.modules.conv.Conv             [3, 32, 3, 2]                 \n",
      "  1                  -1  1     18560  ultralytics.nn.modules.conv.Conv             [32, 64, 3, 2]                \n",
      "  2                  -1  1     29056  ultralytics.nn.modules.block.C2f             [64, 64, 1, True]             \n",
      "  3                  -1  1     73984  ultralytics.nn.modules.conv.Conv             [64, 128, 3, 2]               \n",
      "  4                  -1  2    197632  ultralytics.nn.modules.block.C2f             [128, 128, 2, True]           \n",
      "  5                  -1  1    295424  ultralytics.nn.modules.conv.Conv             [128, 256, 3, 2]              \n",
      "  6                  -1  2    788480  ultralytics.nn.modules.block.C2f             [256, 256, 2, True]           \n",
      "  7                  -1  1   1180672  ultralytics.nn.modules.conv.Conv             [256, 512, 3, 2]              \n",
      "  8                  -1  1   1838080  ultralytics.nn.modules.block.C2f             [512, 512, 1, True]           \n",
      "  9                  -1  1    656896  ultralytics.nn.modules.block.SPPF            [512, 512, 5]                 \n",
      " 10                  -1  1         0  torch.nn.modules.upsampling.Upsample         [None, 2, 'nearest']          \n",
      " 11             [-1, 6]  1         0  ultralytics.nn.modules.conv.Concat           [1]                           \n",
      " 12                  -1  1    591360  ultralytics.nn.modules.block.C2f             [768, 256, 1]                 \n",
      " 13                  -1  1         0  torch.nn.modules.upsampling.Upsample         [None, 2, 'nearest']          \n",
      " 14             [-1, 4]  1         0  ultralytics.nn.modules.conv.Concat           [1]                           \n",
      " 15                  -1  1    148224  ultralytics.nn.modules.block.C2f             [384, 128, 1]                 \n",
      " 16                  -1  1    147712  ultralytics.nn.modules.conv.Conv             [128, 128, 3, 2]              \n",
      " 17            [-1, 12]  1         0  ultralytics.nn.modules.conv.Concat           [1]                           \n",
      " 18                  -1  1    493056  ultralytics.nn.modules.block.C2f             [384, 256, 1]                 \n",
      " 19                  -1  1    590336  ultralytics.nn.modules.conv.Conv             [256, 256, 3, 2]              \n",
      " 20             [-1, 9]  1         0  ultralytics.nn.modules.conv.Concat           [1]                           \n",
      " 21                  -1  1   1969152  ultralytics.nn.modules.block.C2f             [768, 512, 1]                 \n",
      " 22        [15, 18, 21]  1   2117983  ultralytics.nn.modules.head.Detect           [5, [128, 256, 512]]          \n",
      "Model summary: 225 layers, 11137535 parameters, 11137519 gradients, 28.7 GFLOPs\n",
      "\n",
      "Transferred 349/355 items from pretrained weights\n",
      "Freezing layer 'model.22.dfl.conv.weight'\n",
      "\u001b[34m\u001b[1mAMP: \u001b[0mrunning Automatic Mixed Precision (AMP) checks with YOLOv8n...\n",
      "\u001b[34m\u001b[1mAMP: \u001b[0mchecks passed ✅\n"
     ]
    },
    {
     "name": "stderr",
     "output_type": "stream",
     "text": [
      "\u001b[34m\u001b[1mtrain: \u001b[0mScanning /home/ray/datasets/AllData/labels/train... 372 images, 0 backgrounds, 0 corrupt: 100%|██████████| 372/372 [00:00<00:00, 1021.52it/s]"
     ]
    },
    {
     "name": "stdout",
     "output_type": "stream",
     "text": [
      "\u001b[34m\u001b[1mtrain: \u001b[0mNew cache created: /home/ray/datasets/AllData/labels/train.cache\n"
     ]
    },
    {
     "name": "stderr",
     "output_type": "stream",
     "text": [
      "\n",
      "\u001b[34m\u001b[1mval: \u001b[0mScanning /home/ray/datasets/AllData/labels/val... 47 images, 0 backgrounds, 0 corrupt: 100%|██████████| 47/47 [00:00<00:00, 3116.08it/s]"
     ]
    },
    {
     "name": "stdout",
     "output_type": "stream",
     "text": [
      "\u001b[34m\u001b[1mval: \u001b[0mNew cache created: /home/ray/datasets/AllData/labels/val.cache\n"
     ]
    },
    {
     "name": "stderr",
     "output_type": "stream",
     "text": [
      "\n"
     ]
    },
    {
     "name": "stdout",
     "output_type": "stream",
     "text": [
      "Plotting labels to /home/ray/runs/detect/train8/labels.jpg... \n",
      "\u001b[34m\u001b[1moptimizer:\u001b[0m 'optimizer=auto' found, ignoring 'lr0=0.01' and 'momentum=0.937' and determining best 'optimizer', 'lr0' and 'momentum' automatically... \n",
      "\u001b[34m\u001b[1moptimizer:\u001b[0m AdamW(lr=0.001111, momentum=0.9) with parameter groups 57 weight(decay=0.0), 64 weight(decay=0.0005), 63 bias(decay=0.0)\n",
      "250 epochs...\n",
      "\n",
      "      Epoch    GPU_mem   box_loss   cls_loss   dfl_loss  Instances       Size\n"
     ]
    },
    {
     "name": "stderr",
     "output_type": "stream",
     "text": [
      "      1/250      5.47G      2.177      2.909      1.403        266        640: 100%|██████████| 24/24 [00:05<00:00,  4.33it/s]\n",
      "                 Class     Images  Instances      Box(P          R      mAP50  mAP50-95): 100%|██████████| 2/2 [00:00<00:00,  5.36it/s]"
     ]
    },
    {
     "name": "stdout",
     "output_type": "stream",
     "text": [
      "                   all         47       1743      0.328      0.585      0.353      0.208\n"
     ]
    },
    {
     "name": "stderr",
     "output_type": "stream",
     "text": [
      "\n"
     ]
    },
    {
     "name": "stdout",
     "output_type": "stream",
     "text": [
      "\n",
      "      Epoch    GPU_mem   box_loss   cls_loss   dfl_loss  Instances       Size\n"
     ]
    },
    {
     "name": "stderr",
     "output_type": "stream",
     "text": [
      "      2/250      4.89G      1.299      1.257     0.9932        229        640: 100%|██████████| 24/24 [00:04<00:00,  5.61it/s]\n",
      "                 Class     Images  Instances      Box(P          R      mAP50  mAP50-95): 100%|██████████| 2/2 [00:00<00:00,  7.56it/s]"
     ]
    },
    {
     "name": "stdout",
     "output_type": "stream",
     "text": [
      "                   all         47       1743      0.494      0.727      0.557      0.352\n"
     ]
    },
    {
     "name": "stderr",
     "output_type": "stream",
     "text": [
      "\n"
     ]
    },
    {
     "name": "stdout",
     "output_type": "stream",
     "text": [
      "\n",
      "      Epoch    GPU_mem   box_loss   cls_loss   dfl_loss  Instances       Size\n"
     ]
    },
    {
     "name": "stderr",
     "output_type": "stream",
     "text": [
      "      3/250      5.43G      1.209      1.098     0.9637        403        640: 100%|██████████| 24/24 [00:04<00:00,  5.62it/s]\n",
      "                 Class     Images  Instances      Box(P          R      mAP50  mAP50-95): 100%|██████████| 2/2 [00:00<00:00,  8.28it/s]"
     ]
    },
    {
     "name": "stdout",
     "output_type": "stream",
     "text": [
      "                   all         47       1743      0.506      0.726      0.603       0.38\n"
     ]
    },
    {
     "name": "stderr",
     "output_type": "stream",
     "text": [
      "\n"
     ]
    },
    {
     "name": "stdout",
     "output_type": "stream",
     "text": [
      "\n",
      "      Epoch    GPU_mem   box_loss   cls_loss   dfl_loss  Instances       Size\n"
     ]
    },
    {
     "name": "stderr",
     "output_type": "stream",
     "text": [
      "      4/250      4.98G      1.202      1.054     0.9555        208        640: 100%|██████████| 24/24 [00:04<00:00,  5.77it/s]\n",
      "                 Class     Images  Instances      Box(P          R      mAP50  mAP50-95): 100%|██████████| 2/2 [00:00<00:00,  8.71it/s]"
     ]
    },
    {
     "name": "stdout",
     "output_type": "stream",
     "text": [
      "                   all         47       1743      0.605      0.745      0.677      0.461\n"
     ]
    },
    {
     "name": "stderr",
     "output_type": "stream",
     "text": [
      "\n"
     ]
    },
    {
     "name": "stdout",
     "output_type": "stream",
     "text": [
      "\n",
      "      Epoch    GPU_mem   box_loss   cls_loss   dfl_loss  Instances       Size\n"
     ]
    },
    {
     "name": "stderr",
     "output_type": "stream",
     "text": [
      "      5/250      4.89G      1.156     0.9952     0.9601        266        640: 100%|██████████| 24/24 [00:04<00:00,  5.07it/s]\n",
      "                 Class     Images  Instances      Box(P          R      mAP50  mAP50-95): 100%|██████████| 2/2 [00:00<00:00,  7.32it/s]"
     ]
    },
    {
     "name": "stdout",
     "output_type": "stream",
     "text": [
      "                   all         47       1743      0.626      0.733      0.696      0.484\n"
     ]
    },
    {
     "name": "stderr",
     "output_type": "stream",
     "text": [
      "\n"
     ]
    },
    {
     "name": "stdout",
     "output_type": "stream",
     "text": [
      "\n",
      "      Epoch    GPU_mem   box_loss   cls_loss   dfl_loss  Instances       Size\n"
     ]
    },
    {
     "name": "stderr",
     "output_type": "stream",
     "text": [
      "      6/250      5.26G      1.114     0.9624     0.9348        222        640: 100%|██████████| 24/24 [00:05<00:00,  4.78it/s]\n",
      "                 Class     Images  Instances      Box(P          R      mAP50  mAP50-95): 100%|██████████| 2/2 [00:00<00:00,  6.16it/s]"
     ]
    },
    {
     "name": "stdout",
     "output_type": "stream",
     "text": [
      "                   all         47       1743      0.598      0.777      0.698      0.483\n"
     ]
    },
    {
     "name": "stderr",
     "output_type": "stream",
     "text": [
      "\n"
     ]
    },
    {
     "name": "stdout",
     "output_type": "stream",
     "text": [
      "\n",
      "      Epoch    GPU_mem   box_loss   cls_loss   dfl_loss  Instances       Size\n"
     ]
    },
    {
     "name": "stderr",
     "output_type": "stream",
     "text": [
      "      7/250      4.91G      1.077     0.9315      0.935        187        640: 100%|██████████| 24/24 [00:04<00:00,  4.87it/s]\n",
      "                 Class     Images  Instances      Box(P          R      mAP50  mAP50-95): 100%|██████████| 2/2 [00:00<00:00,  5.97it/s]"
     ]
    },
    {
     "name": "stdout",
     "output_type": "stream",
     "text": [
      "                   all         47       1743      0.608       0.77      0.726       0.51\n"
     ]
    },
    {
     "name": "stderr",
     "output_type": "stream",
     "text": [
      "\n"
     ]
    },
    {
     "name": "stdout",
     "output_type": "stream",
     "text": [
      "\n",
      "      Epoch    GPU_mem   box_loss   cls_loss   dfl_loss  Instances       Size\n"
     ]
    },
    {
     "name": "stderr",
     "output_type": "stream",
     "text": [
      "      8/250       5.3G      1.077     0.9143      0.927        226        640: 100%|██████████| 24/24 [00:05<00:00,  4.69it/s]\n",
      "                 Class     Images  Instances      Box(P          R      mAP50  mAP50-95): 100%|██████████| 2/2 [00:00<00:00,  6.00it/s]"
     ]
    },
    {
     "name": "stdout",
     "output_type": "stream",
     "text": [
      "                   all         47       1743      0.593      0.756      0.712       0.48\n"
     ]
    },
    {
     "name": "stderr",
     "output_type": "stream",
     "text": [
      "\n"
     ]
    },
    {
     "name": "stdout",
     "output_type": "stream",
     "text": [
      "\n",
      "      Epoch    GPU_mem   box_loss   cls_loss   dfl_loss  Instances       Size\n"
     ]
    },
    {
     "name": "stderr",
     "output_type": "stream",
     "text": [
      "      9/250      5.33G      1.068     0.8845     0.9269        179        640: 100%|██████████| 24/24 [00:05<00:00,  4.61it/s]\n",
      "                 Class     Images  Instances      Box(P          R      mAP50  mAP50-95): 100%|██████████| 2/2 [00:00<00:00,  7.18it/s]"
     ]
    },
    {
     "name": "stdout",
     "output_type": "stream",
     "text": [
      "                   all         47       1743       0.63      0.752      0.731      0.507\n"
     ]
    },
    {
     "name": "stderr",
     "output_type": "stream",
     "text": [
      "\n"
     ]
    },
    {
     "name": "stdout",
     "output_type": "stream",
     "text": [
      "\n",
      "      Epoch    GPU_mem   box_loss   cls_loss   dfl_loss  Instances       Size\n"
     ]
    },
    {
     "name": "stderr",
     "output_type": "stream",
     "text": [
      "     10/250      5.33G       1.08     0.8815     0.9266        257        640: 100%|██████████| 24/24 [00:05<00:00,  4.79it/s]\n",
      "                 Class     Images  Instances      Box(P          R      mAP50  mAP50-95): 100%|██████████| 2/2 [00:00<00:00,  5.77it/s]"
     ]
    },
    {
     "name": "stdout",
     "output_type": "stream",
     "text": [
      "                   all         47       1743      0.641      0.695      0.698      0.476\n"
     ]
    },
    {
     "name": "stderr",
     "output_type": "stream",
     "text": [
      "\n"
     ]
    },
    {
     "name": "stdout",
     "output_type": "stream",
     "text": [
      "\n",
      "      Epoch    GPU_mem   box_loss   cls_loss   dfl_loss  Instances       Size\n"
     ]
    },
    {
     "name": "stderr",
     "output_type": "stream",
     "text": [
      "     11/250         5G       1.05      0.838     0.9171        233        640: 100%|██████████| 24/24 [00:04<00:00,  4.86it/s]\n",
      "                 Class     Images  Instances      Box(P          R      mAP50  mAP50-95): 100%|██████████| 2/2 [00:00<00:00,  6.44it/s]"
     ]
    },
    {
     "name": "stdout",
     "output_type": "stream",
     "text": [
      "                   all         47       1743      0.666      0.726      0.735      0.492\n"
     ]
    },
    {
     "name": "stderr",
     "output_type": "stream",
     "text": [
      "\n"
     ]
    },
    {
     "name": "stdout",
     "output_type": "stream",
     "text": [
      "\n",
      "      Epoch    GPU_mem   box_loss   cls_loss   dfl_loss  Instances       Size\n"
     ]
    },
    {
     "name": "stderr",
     "output_type": "stream",
     "text": [
      "     12/250      4.44G      1.044     0.8437     0.9212        315        640: 100%|██████████| 24/24 [00:05<00:00,  4.35it/s]\n",
      "                 Class     Images  Instances      Box(P          R      mAP50  mAP50-95): 100%|██████████| 2/2 [00:00<00:00,  7.56it/s]"
     ]
    },
    {
     "name": "stdout",
     "output_type": "stream",
     "text": [
      "                   all         47       1743      0.654      0.778      0.759      0.517\n"
     ]
    },
    {
     "name": "stderr",
     "output_type": "stream",
     "text": [
      "\n"
     ]
    },
    {
     "name": "stdout",
     "output_type": "stream",
     "text": [
      "\n",
      "      Epoch    GPU_mem   box_loss   cls_loss   dfl_loss  Instances       Size\n"
     ]
    },
    {
     "name": "stderr",
     "output_type": "stream",
     "text": [
      "     13/250      5.04G      1.033     0.8266     0.9188        209        640: 100%|██████████| 24/24 [00:05<00:00,  4.74it/s]\n",
      "                 Class     Images  Instances      Box(P          R      mAP50  mAP50-95): 100%|██████████| 2/2 [00:00<00:00,  6.20it/s]"
     ]
    },
    {
     "name": "stdout",
     "output_type": "stream",
     "text": [
      "                   all         47       1743      0.638      0.759      0.743       0.51\n"
     ]
    },
    {
     "name": "stderr",
     "output_type": "stream",
     "text": [
      "\n"
     ]
    },
    {
     "name": "stdout",
     "output_type": "stream",
     "text": [
      "\n",
      "      Epoch    GPU_mem   box_loss   cls_loss   dfl_loss  Instances       Size\n"
     ]
    },
    {
     "name": "stderr",
     "output_type": "stream",
     "text": [
      "     14/250      5.72G      1.034     0.8108     0.9083        242        640: 100%|██████████| 24/24 [00:05<00:00,  4.61it/s]\n",
      "                 Class     Images  Instances      Box(P          R      mAP50  mAP50-95): 100%|██████████| 2/2 [00:00<00:00,  7.62it/s]"
     ]
    },
    {
     "name": "stdout",
     "output_type": "stream",
     "text": [
      "                   all         47       1743      0.617       0.79      0.737      0.508\n"
     ]
    },
    {
     "name": "stderr",
     "output_type": "stream",
     "text": [
      "\n"
     ]
    },
    {
     "name": "stdout",
     "output_type": "stream",
     "text": [
      "\n",
      "      Epoch    GPU_mem   box_loss   cls_loss   dfl_loss  Instances       Size\n"
     ]
    },
    {
     "name": "stderr",
     "output_type": "stream",
     "text": [
      "     15/250      5.17G      1.022     0.8213     0.9135        114        640: 100%|██████████| 24/24 [00:05<00:00,  4.72it/s]\n",
      "                 Class     Images  Instances      Box(P          R      mAP50  mAP50-95): 100%|██████████| 2/2 [00:00<00:00,  6.38it/s]"
     ]
    },
    {
     "name": "stdout",
     "output_type": "stream",
     "text": [
      "                   all         47       1743      0.662      0.725      0.744      0.509\n"
     ]
    },
    {
     "name": "stderr",
     "output_type": "stream",
     "text": [
      "\n"
     ]
    },
    {
     "name": "stdout",
     "output_type": "stream",
     "text": [
      "\n",
      "      Epoch    GPU_mem   box_loss   cls_loss   dfl_loss  Instances       Size\n"
     ]
    },
    {
     "name": "stderr",
     "output_type": "stream",
     "text": [
      "     16/250      5.24G       1.03     0.8057     0.9162        178        640: 100%|██████████| 24/24 [00:05<00:00,  4.54it/s]\n",
      "                 Class     Images  Instances      Box(P          R      mAP50  mAP50-95): 100%|██████████| 2/2 [00:00<00:00,  8.50it/s]"
     ]
    },
    {
     "name": "stdout",
     "output_type": "stream",
     "text": [
      "                   all         47       1743      0.647      0.747      0.715      0.486\n"
     ]
    },
    {
     "name": "stderr",
     "output_type": "stream",
     "text": [
      "\n"
     ]
    },
    {
     "name": "stdout",
     "output_type": "stream",
     "text": [
      "\n",
      "      Epoch    GPU_mem   box_loss   cls_loss   dfl_loss  Instances       Size\n"
     ]
    },
    {
     "name": "stderr",
     "output_type": "stream",
     "text": [
      "     17/250       5.5G      1.021     0.8005     0.9099        379        640: 100%|██████████| 24/24 [00:05<00:00,  4.64it/s]\n",
      "                 Class     Images  Instances      Box(P          R      mAP50  mAP50-95): 100%|██████████| 2/2 [00:00<00:00,  6.27it/s]"
     ]
    },
    {
     "name": "stdout",
     "output_type": "stream",
     "text": [
      "                   all         47       1743      0.633      0.782      0.746      0.526\n"
     ]
    },
    {
     "name": "stderr",
     "output_type": "stream",
     "text": [
      "\n"
     ]
    },
    {
     "name": "stdout",
     "output_type": "stream",
     "text": [
      "\n",
      "      Epoch    GPU_mem   box_loss   cls_loss   dfl_loss  Instances       Size\n"
     ]
    },
    {
     "name": "stderr",
     "output_type": "stream",
     "text": [
      "     18/250      4.46G       1.02     0.7879     0.9127        173        640: 100%|██████████| 24/24 [00:05<00:00,  4.67it/s]\n",
      "                 Class     Images  Instances      Box(P          R      mAP50  mAP50-95): 100%|██████████| 2/2 [00:00<00:00,  6.74it/s]"
     ]
    },
    {
     "name": "stdout",
     "output_type": "stream",
     "text": [
      "                   all         47       1743      0.661      0.761      0.772      0.546\n"
     ]
    },
    {
     "name": "stderr",
     "output_type": "stream",
     "text": [
      "\n"
     ]
    },
    {
     "name": "stdout",
     "output_type": "stream",
     "text": [
      "\n",
      "      Epoch    GPU_mem   box_loss   cls_loss   dfl_loss  Instances       Size\n"
     ]
    },
    {
     "name": "stderr",
     "output_type": "stream",
     "text": [
      "     19/250       5.1G       1.03      0.796      0.908        233        640: 100%|██████████| 24/24 [00:04<00:00,  5.04it/s]\n",
      "                 Class     Images  Instances      Box(P          R      mAP50  mAP50-95): 100%|██████████| 2/2 [00:00<00:00,  8.68it/s]"
     ]
    },
    {
     "name": "stdout",
     "output_type": "stream",
     "text": [
      "                   all         47       1743       0.66      0.765      0.756      0.536\n"
     ]
    },
    {
     "name": "stderr",
     "output_type": "stream",
     "text": [
      "\n"
     ]
    },
    {
     "name": "stdout",
     "output_type": "stream",
     "text": [
      "\n",
      "      Epoch    GPU_mem   box_loss   cls_loss   dfl_loss  Instances       Size\n"
     ]
    },
    {
     "name": "stderr",
     "output_type": "stream",
     "text": [
      "     20/250      5.94G      1.013      0.779     0.9045        331        640: 100%|██████████| 24/24 [00:05<00:00,  4.58it/s]\n",
      "                 Class     Images  Instances      Box(P          R      mAP50  mAP50-95): 100%|██████████| 2/2 [00:00<00:00,  7.12it/s]"
     ]
    },
    {
     "name": "stdout",
     "output_type": "stream",
     "text": [
      "                   all         47       1743      0.647      0.763      0.729      0.507\n"
     ]
    },
    {
     "name": "stderr",
     "output_type": "stream",
     "text": [
      "\n"
     ]
    },
    {
     "name": "stdout",
     "output_type": "stream",
     "text": [
      "\n",
      "      Epoch    GPU_mem   box_loss   cls_loss   dfl_loss  Instances       Size\n"
     ]
    },
    {
     "name": "stderr",
     "output_type": "stream",
     "text": [
      "     21/250      5.35G      1.006      0.765     0.9029        304        640: 100%|██████████| 24/24 [00:05<00:00,  4.75it/s]\n",
      "                 Class     Images  Instances      Box(P          R      mAP50  mAP50-95): 100%|██████████| 2/2 [00:00<00:00,  6.92it/s]"
     ]
    },
    {
     "name": "stdout",
     "output_type": "stream",
     "text": [
      "                   all         47       1743       0.64       0.78      0.737      0.519\n"
     ]
    },
    {
     "name": "stderr",
     "output_type": "stream",
     "text": [
      "\n"
     ]
    },
    {
     "name": "stdout",
     "output_type": "stream",
     "text": [
      "\n",
      "      Epoch    GPU_mem   box_loss   cls_loss   dfl_loss  Instances       Size\n"
     ]
    },
    {
     "name": "stderr",
     "output_type": "stream",
     "text": [
      "     22/250      5.03G      1.014     0.7935     0.9067        314        640: 100%|██████████| 24/24 [00:04<00:00,  4.82it/s]\n",
      "                 Class     Images  Instances      Box(P          R      mAP50  mAP50-95): 100%|██████████| 2/2 [00:00<00:00,  6.25it/s]"
     ]
    },
    {
     "name": "stdout",
     "output_type": "stream",
     "text": [
      "                   all         47       1743      0.634      0.788      0.753      0.525\n"
     ]
    },
    {
     "name": "stderr",
     "output_type": "stream",
     "text": [
      "\n"
     ]
    },
    {
     "name": "stdout",
     "output_type": "stream",
     "text": [
      "\n",
      "      Epoch    GPU_mem   box_loss   cls_loss   dfl_loss  Instances       Size\n"
     ]
    },
    {
     "name": "stderr",
     "output_type": "stream",
     "text": [
      "     23/250      5.58G          1     0.7549     0.9038        162        640: 100%|██████████| 24/24 [00:04<00:00,  5.04it/s]\n",
      "                 Class     Images  Instances      Box(P          R      mAP50  mAP50-95): 100%|██████████| 2/2 [00:00<00:00,  7.31it/s]"
     ]
    },
    {
     "name": "stdout",
     "output_type": "stream",
     "text": [
      "                   all         47       1743      0.661      0.769       0.76      0.528\n"
     ]
    },
    {
     "name": "stderr",
     "output_type": "stream",
     "text": [
      "\n"
     ]
    },
    {
     "name": "stdout",
     "output_type": "stream",
     "text": [
      "\n",
      "      Epoch    GPU_mem   box_loss   cls_loss   dfl_loss  Instances       Size\n"
     ]
    },
    {
     "name": "stderr",
     "output_type": "stream",
     "text": [
      "     24/250      5.01G     0.9721     0.7535     0.8967        149        640: 100%|██████████| 24/24 [00:04<00:00,  4.83it/s]\n",
      "                 Class     Images  Instances      Box(P          R      mAP50  mAP50-95): 100%|██████████| 2/2 [00:00<00:00,  7.42it/s]"
     ]
    },
    {
     "name": "stdout",
     "output_type": "stream",
     "text": [
      "                   all         47       1743      0.685      0.765      0.765      0.538\n"
     ]
    },
    {
     "name": "stderr",
     "output_type": "stream",
     "text": [
      "\n"
     ]
    },
    {
     "name": "stdout",
     "output_type": "stream",
     "text": [
      "\n",
      "      Epoch    GPU_mem   box_loss   cls_loss   dfl_loss  Instances       Size\n"
     ]
    },
    {
     "name": "stderr",
     "output_type": "stream",
     "text": [
      "     25/250      4.54G     0.9994     0.7534      0.903        239        640: 100%|██████████| 24/24 [00:05<00:00,  4.67it/s]\n",
      "                 Class     Images  Instances      Box(P          R      mAP50  mAP50-95): 100%|██████████| 2/2 [00:00<00:00,  9.08it/s]"
     ]
    },
    {
     "name": "stdout",
     "output_type": "stream",
     "text": [
      "                   all         47       1743      0.621      0.775      0.727      0.508\n"
     ]
    },
    {
     "name": "stderr",
     "output_type": "stream",
     "text": [
      "\n"
     ]
    },
    {
     "name": "stdout",
     "output_type": "stream",
     "text": [
      "\n",
      "      Epoch    GPU_mem   box_loss   cls_loss   dfl_loss  Instances       Size\n"
     ]
    },
    {
     "name": "stderr",
     "output_type": "stream",
     "text": [
      "     26/250      4.86G     0.9782     0.7325     0.9015        218        640: 100%|██████████| 24/24 [00:04<00:00,  4.89it/s]\n",
      "                 Class     Images  Instances      Box(P          R      mAP50  mAP50-95): 100%|██████████| 2/2 [00:00<00:00,  6.51it/s]"
     ]
    },
    {
     "name": "stdout",
     "output_type": "stream",
     "text": [
      "                   all         47       1743      0.689      0.741      0.767      0.537\n"
     ]
    },
    {
     "name": "stderr",
     "output_type": "stream",
     "text": [
      "\n"
     ]
    },
    {
     "name": "stdout",
     "output_type": "stream",
     "text": [
      "\n",
      "      Epoch    GPU_mem   box_loss   cls_loss   dfl_loss  Instances       Size\n"
     ]
    },
    {
     "name": "stderr",
     "output_type": "stream",
     "text": [
      "     27/250      4.74G      0.976     0.7478     0.9013        240        640: 100%|██████████| 24/24 [00:04<00:00,  4.87it/s]\n",
      "                 Class     Images  Instances      Box(P          R      mAP50  mAP50-95): 100%|██████████| 2/2 [00:00<00:00,  7.37it/s]"
     ]
    },
    {
     "name": "stdout",
     "output_type": "stream",
     "text": [
      "                   all         47       1743      0.678      0.693      0.743      0.513\n"
     ]
    },
    {
     "name": "stderr",
     "output_type": "stream",
     "text": [
      "\n"
     ]
    },
    {
     "name": "stdout",
     "output_type": "stream",
     "text": [
      "\n",
      "      Epoch    GPU_mem   box_loss   cls_loss   dfl_loss  Instances       Size\n"
     ]
    },
    {
     "name": "stderr",
     "output_type": "stream",
     "text": [
      "     28/250      5.25G     0.9693     0.7423     0.8968        188        640: 100%|██████████| 24/24 [00:04<00:00,  5.03it/s]\n",
      "                 Class     Images  Instances      Box(P          R      mAP50  mAP50-95): 100%|██████████| 2/2 [00:00<00:00,  7.37it/s]"
     ]
    },
    {
     "name": "stdout",
     "output_type": "stream",
     "text": [
      "                   all         47       1743      0.689      0.752      0.773      0.542\n"
     ]
    },
    {
     "name": "stderr",
     "output_type": "stream",
     "text": [
      "\n"
     ]
    },
    {
     "name": "stdout",
     "output_type": "stream",
     "text": [
      "\n",
      "      Epoch    GPU_mem   box_loss   cls_loss   dfl_loss  Instances       Size\n"
     ]
    },
    {
     "name": "stderr",
     "output_type": "stream",
     "text": [
      "     29/250       5.7G     0.9629     0.7229     0.8961        296        640: 100%|██████████| 24/24 [00:04<00:00,  4.89it/s]\n",
      "                 Class     Images  Instances      Box(P          R      mAP50  mAP50-95): 100%|██████████| 2/2 [00:00<00:00,  7.51it/s]"
     ]
    },
    {
     "name": "stdout",
     "output_type": "stream",
     "text": [
      "                   all         47       1743      0.708      0.753      0.787      0.554\n"
     ]
    },
    {
     "name": "stderr",
     "output_type": "stream",
     "text": [
      "\n"
     ]
    },
    {
     "name": "stdout",
     "output_type": "stream",
     "text": [
      "\n",
      "      Epoch    GPU_mem   box_loss   cls_loss   dfl_loss  Instances       Size\n"
     ]
    },
    {
     "name": "stderr",
     "output_type": "stream",
     "text": [
      "     30/250      5.73G     0.9743      0.712     0.8943        249        640: 100%|██████████| 24/24 [00:05<00:00,  4.79it/s]\n",
      "                 Class     Images  Instances      Box(P          R      mAP50  mAP50-95): 100%|██████████| 2/2 [00:00<00:00,  5.90it/s]"
     ]
    },
    {
     "name": "stdout",
     "output_type": "stream",
     "text": [
      "                   all         47       1743      0.698      0.703      0.772      0.535\n"
     ]
    },
    {
     "name": "stderr",
     "output_type": "stream",
     "text": [
      "\n"
     ]
    },
    {
     "name": "stdout",
     "output_type": "stream",
     "text": [
      "\n",
      "      Epoch    GPU_mem   box_loss   cls_loss   dfl_loss  Instances       Size\n"
     ]
    },
    {
     "name": "stderr",
     "output_type": "stream",
     "text": [
      "     31/250      5.08G     0.9665     0.6982     0.9033        250        640: 100%|██████████| 24/24 [00:04<00:00,  4.93it/s]\n",
      "                 Class     Images  Instances      Box(P          R      mAP50  mAP50-95): 100%|██████████| 2/2 [00:00<00:00,  9.19it/s]"
     ]
    },
    {
     "name": "stdout",
     "output_type": "stream",
     "text": [
      "                   all         47       1743      0.745      0.725      0.784      0.556\n"
     ]
    },
    {
     "name": "stderr",
     "output_type": "stream",
     "text": [
      "\n"
     ]
    },
    {
     "name": "stdout",
     "output_type": "stream",
     "text": [
      "\n",
      "      Epoch    GPU_mem   box_loss   cls_loss   dfl_loss  Instances       Size\n"
     ]
    },
    {
     "name": "stderr",
     "output_type": "stream",
     "text": [
      "     32/250      5.27G     0.9359     0.6936     0.8918        123        640: 100%|██████████| 24/24 [00:04<00:00,  4.96it/s]\n",
      "                 Class     Images  Instances      Box(P          R      mAP50  mAP50-95): 100%|██████████| 2/2 [00:00<00:00,  7.42it/s]"
     ]
    },
    {
     "name": "stdout",
     "output_type": "stream",
     "text": [
      "                   all         47       1743      0.749      0.746      0.785      0.552\n"
     ]
    },
    {
     "name": "stderr",
     "output_type": "stream",
     "text": [
      "\n"
     ]
    },
    {
     "name": "stdout",
     "output_type": "stream",
     "text": [
      "\n",
      "      Epoch    GPU_mem   box_loss   cls_loss   dfl_loss  Instances       Size\n"
     ]
    },
    {
     "name": "stderr",
     "output_type": "stream",
     "text": [
      "     33/250      4.89G     0.9741        0.7     0.8953        222        640: 100%|██████████| 24/24 [00:04<00:00,  4.97it/s]\n",
      "                 Class     Images  Instances      Box(P          R      mAP50  mAP50-95): 100%|██████████| 2/2 [00:00<00:00,  7.38it/s]"
     ]
    },
    {
     "name": "stdout",
     "output_type": "stream",
     "text": [
      "                   all         47       1743      0.694       0.72      0.765      0.524\n"
     ]
    },
    {
     "name": "stderr",
     "output_type": "stream",
     "text": [
      "\n"
     ]
    },
    {
     "name": "stdout",
     "output_type": "stream",
     "text": [
      "\n",
      "      Epoch    GPU_mem   box_loss   cls_loss   dfl_loss  Instances       Size\n"
     ]
    },
    {
     "name": "stderr",
     "output_type": "stream",
     "text": [
      "     34/250      4.86G     0.9631     0.6881     0.8924        231        640: 100%|██████████| 24/24 [00:05<00:00,  4.76it/s]\n",
      "                 Class     Images  Instances      Box(P          R      mAP50  mAP50-95): 100%|██████████| 2/2 [00:00<00:00,  6.29it/s]"
     ]
    },
    {
     "name": "stdout",
     "output_type": "stream",
     "text": [
      "                   all         47       1743      0.696      0.784      0.802      0.565\n"
     ]
    },
    {
     "name": "stderr",
     "output_type": "stream",
     "text": [
      "\n"
     ]
    },
    {
     "name": "stdout",
     "output_type": "stream",
     "text": [
      "\n",
      "      Epoch    GPU_mem   box_loss   cls_loss   dfl_loss  Instances       Size\n"
     ]
    },
    {
     "name": "stderr",
     "output_type": "stream",
     "text": [
      "     35/250      5.11G      0.967     0.6857     0.8943        246        640: 100%|██████████| 24/24 [00:05<00:00,  4.74it/s]\n",
      "                 Class     Images  Instances      Box(P          R      mAP50  mAP50-95): 100%|██████████| 2/2 [00:00<00:00,  9.06it/s]"
     ]
    },
    {
     "name": "stdout",
     "output_type": "stream",
     "text": [
      "                   all         47       1743      0.688      0.766      0.762      0.537\n"
     ]
    },
    {
     "name": "stderr",
     "output_type": "stream",
     "text": [
      "\n"
     ]
    },
    {
     "name": "stdout",
     "output_type": "stream",
     "text": [
      "\n",
      "      Epoch    GPU_mem   box_loss   cls_loss   dfl_loss  Instances       Size\n"
     ]
    },
    {
     "name": "stderr",
     "output_type": "stream",
     "text": [
      "     36/250       5.2G      0.957     0.6906     0.8961        140        640: 100%|██████████| 24/24 [00:05<00:00,  4.40it/s]\n",
      "                 Class     Images  Instances      Box(P          R      mAP50  mAP50-95): 100%|██████████| 2/2 [00:00<00:00,  8.44it/s]"
     ]
    },
    {
     "name": "stdout",
     "output_type": "stream",
     "text": [
      "                   all         47       1743      0.669      0.762      0.749      0.527\n"
     ]
    },
    {
     "name": "stderr",
     "output_type": "stream",
     "text": [
      "\n"
     ]
    },
    {
     "name": "stdout",
     "output_type": "stream",
     "text": [
      "\n",
      "      Epoch    GPU_mem   box_loss   cls_loss   dfl_loss  Instances       Size\n"
     ]
    },
    {
     "name": "stderr",
     "output_type": "stream",
     "text": [
      "     37/250      5.54G     0.9428     0.6819     0.8909        288        640: 100%|██████████| 24/24 [00:05<00:00,  4.68it/s]\n",
      "                 Class     Images  Instances      Box(P          R      mAP50  mAP50-95): 100%|██████████| 2/2 [00:00<00:00,  7.33it/s]"
     ]
    },
    {
     "name": "stdout",
     "output_type": "stream",
     "text": [
      "                   all         47       1743      0.675      0.715       0.74      0.527\n"
     ]
    },
    {
     "name": "stderr",
     "output_type": "stream",
     "text": [
      "\n"
     ]
    },
    {
     "name": "stdout",
     "output_type": "stream",
     "text": [
      "\n",
      "      Epoch    GPU_mem   box_loss   cls_loss   dfl_loss  Instances       Size\n"
     ]
    },
    {
     "name": "stderr",
     "output_type": "stream",
     "text": [
      "     38/250      4.87G     0.9522     0.6895      0.894        184        640: 100%|██████████| 24/24 [00:05<00:00,  4.72it/s]\n",
      "                 Class     Images  Instances      Box(P          R      mAP50  mAP50-95): 100%|██████████| 2/2 [00:00<00:00,  7.11it/s]"
     ]
    },
    {
     "name": "stdout",
     "output_type": "stream",
     "text": [
      "                   all         47       1743      0.663      0.773      0.773       0.55\n"
     ]
    },
    {
     "name": "stderr",
     "output_type": "stream",
     "text": [
      "\n"
     ]
    },
    {
     "name": "stdout",
     "output_type": "stream",
     "text": [
      "\n",
      "      Epoch    GPU_mem   box_loss   cls_loss   dfl_loss  Instances       Size\n"
     ]
    },
    {
     "name": "stderr",
     "output_type": "stream",
     "text": [
      "     39/250      5.09G     0.9699     0.6868     0.9028        135        640: 100%|██████████| 24/24 [00:05<00:00,  4.78it/s]\n",
      "                 Class     Images  Instances      Box(P          R      mAP50  mAP50-95): 100%|██████████| 2/2 [00:00<00:00,  7.35it/s]"
     ]
    },
    {
     "name": "stdout",
     "output_type": "stream",
     "text": [
      "                   all         47       1743      0.703      0.754       0.78      0.558\n"
     ]
    },
    {
     "name": "stderr",
     "output_type": "stream",
     "text": [
      "\n"
     ]
    },
    {
     "name": "stdout",
     "output_type": "stream",
     "text": [
      "\n",
      "      Epoch    GPU_mem   box_loss   cls_loss   dfl_loss  Instances       Size\n"
     ]
    },
    {
     "name": "stderr",
     "output_type": "stream",
     "text": [
      "     40/250      5.21G      0.933     0.6482     0.8927        137        640: 100%|██████████| 24/24 [00:05<00:00,  4.45it/s]\n",
      "                 Class     Images  Instances      Box(P          R      mAP50  mAP50-95): 100%|██████████| 2/2 [00:00<00:00,  6.14it/s]"
     ]
    },
    {
     "name": "stdout",
     "output_type": "stream",
     "text": [
      "                   all         47       1743      0.705      0.758       0.77      0.543\n"
     ]
    },
    {
     "name": "stderr",
     "output_type": "stream",
     "text": [
      "\n"
     ]
    },
    {
     "name": "stdout",
     "output_type": "stream",
     "text": [
      "\n",
      "      Epoch    GPU_mem   box_loss   cls_loss   dfl_loss  Instances       Size\n"
     ]
    },
    {
     "name": "stderr",
     "output_type": "stream",
     "text": [
      "     41/250      4.93G      0.924     0.6392     0.8861        210        640: 100%|██████████| 24/24 [00:05<00:00,  4.76it/s]\n",
      "                 Class     Images  Instances      Box(P          R      mAP50  mAP50-95): 100%|██████████| 2/2 [00:00<00:00,  5.74it/s]"
     ]
    },
    {
     "name": "stdout",
     "output_type": "stream",
     "text": [
      "                   all         47       1743      0.699      0.788        0.8       0.56\n"
     ]
    },
    {
     "name": "stderr",
     "output_type": "stream",
     "text": [
      "\n"
     ]
    },
    {
     "name": "stdout",
     "output_type": "stream",
     "text": [
      "\n",
      "      Epoch    GPU_mem   box_loss   cls_loss   dfl_loss  Instances       Size\n"
     ]
    },
    {
     "name": "stderr",
     "output_type": "stream",
     "text": [
      "     42/250      5.82G     0.9391     0.6666     0.8861        237        640: 100%|██████████| 24/24 [00:05<00:00,  4.37it/s]\n",
      "                 Class     Images  Instances      Box(P          R      mAP50  mAP50-95): 100%|██████████| 2/2 [00:00<00:00,  6.25it/s]"
     ]
    },
    {
     "name": "stdout",
     "output_type": "stream",
     "text": [
      "                   all         47       1743      0.686      0.758      0.773      0.545\n"
     ]
    },
    {
     "name": "stderr",
     "output_type": "stream",
     "text": [
      "\n"
     ]
    },
    {
     "name": "stdout",
     "output_type": "stream",
     "text": [
      "\n",
      "      Epoch    GPU_mem   box_loss   cls_loss   dfl_loss  Instances       Size\n"
     ]
    },
    {
     "name": "stderr",
     "output_type": "stream",
     "text": [
      "     43/250      5.22G     0.9414     0.6544     0.8941        198        640: 100%|██████████| 24/24 [00:05<00:00,  4.56it/s]\n",
      "                 Class     Images  Instances      Box(P          R      mAP50  mAP50-95): 100%|██████████| 2/2 [00:00<00:00,  5.75it/s]"
     ]
    },
    {
     "name": "stdout",
     "output_type": "stream",
     "text": [
      "                   all         47       1743      0.701      0.765      0.769      0.544\n"
     ]
    },
    {
     "name": "stderr",
     "output_type": "stream",
     "text": [
      "\n"
     ]
    },
    {
     "name": "stdout",
     "output_type": "stream",
     "text": [
      "\n",
      "      Epoch    GPU_mem   box_loss   cls_loss   dfl_loss  Instances       Size\n"
     ]
    },
    {
     "name": "stderr",
     "output_type": "stream",
     "text": [
      "     44/250      5.48G     0.9294     0.6397     0.8876        208        640: 100%|██████████| 24/24 [00:04<00:00,  4.85it/s]\n",
      "                 Class     Images  Instances      Box(P          R      mAP50  mAP50-95): 100%|██████████| 2/2 [00:00<00:00,  6.26it/s]"
     ]
    },
    {
     "name": "stdout",
     "output_type": "stream",
     "text": [
      "                   all         47       1743      0.693      0.731      0.761      0.543\n"
     ]
    },
    {
     "name": "stderr",
     "output_type": "stream",
     "text": [
      "\n"
     ]
    },
    {
     "name": "stdout",
     "output_type": "stream",
     "text": [
      "\n",
      "      Epoch    GPU_mem   box_loss   cls_loss   dfl_loss  Instances       Size\n"
     ]
    },
    {
     "name": "stderr",
     "output_type": "stream",
     "text": [
      "     45/250      5.09G     0.9388     0.6431     0.8897        225        640: 100%|██████████| 24/24 [00:05<00:00,  4.74it/s]\n",
      "                 Class     Images  Instances      Box(P          R      mAP50  mAP50-95): 100%|██████████| 2/2 [00:00<00:00,  5.95it/s]"
     ]
    },
    {
     "name": "stdout",
     "output_type": "stream",
     "text": [
      "                   all         47       1743      0.702      0.737      0.755      0.531\n"
     ]
    },
    {
     "name": "stderr",
     "output_type": "stream",
     "text": [
      "\n"
     ]
    },
    {
     "name": "stdout",
     "output_type": "stream",
     "text": [
      "\n",
      "      Epoch    GPU_mem   box_loss   cls_loss   dfl_loss  Instances       Size\n"
     ]
    },
    {
     "name": "stderr",
     "output_type": "stream",
     "text": [
      "     46/250      4.84G      0.944     0.6472     0.8874        331        640: 100%|██████████| 24/24 [00:04<00:00,  4.87it/s]\n",
      "                 Class     Images  Instances      Box(P          R      mAP50  mAP50-95): 100%|██████████| 2/2 [00:00<00:00,  6.12it/s]"
     ]
    },
    {
     "name": "stdout",
     "output_type": "stream",
     "text": [
      "                   all         47       1743      0.665      0.775      0.775      0.549\n"
     ]
    },
    {
     "name": "stderr",
     "output_type": "stream",
     "text": [
      "\n"
     ]
    },
    {
     "name": "stdout",
     "output_type": "stream",
     "text": [
      "\n",
      "      Epoch    GPU_mem   box_loss   cls_loss   dfl_loss  Instances       Size\n"
     ]
    },
    {
     "name": "stderr",
     "output_type": "stream",
     "text": [
      "     47/250      4.95G     0.9441     0.6315     0.8844        257        640: 100%|██████████| 24/24 [00:05<00:00,  4.76it/s]\n",
      "                 Class     Images  Instances      Box(P          R      mAP50  mAP50-95): 100%|██████████| 2/2 [00:00<00:00,  7.30it/s]"
     ]
    },
    {
     "name": "stdout",
     "output_type": "stream",
     "text": [
      "                   all         47       1743      0.684       0.77      0.788      0.565\n"
     ]
    },
    {
     "name": "stderr",
     "output_type": "stream",
     "text": [
      "\n"
     ]
    },
    {
     "name": "stdout",
     "output_type": "stream",
     "text": [
      "\n",
      "      Epoch    GPU_mem   box_loss   cls_loss   dfl_loss  Instances       Size\n"
     ]
    },
    {
     "name": "stderr",
     "output_type": "stream",
     "text": [
      "     48/250      4.73G     0.9135      0.613     0.8811        139        640: 100%|██████████| 24/24 [00:04<00:00,  4.97it/s]\n",
      "                 Class     Images  Instances      Box(P          R      mAP50  mAP50-95): 100%|██████████| 2/2 [00:00<00:00,  7.53it/s]"
     ]
    },
    {
     "name": "stdout",
     "output_type": "stream",
     "text": [
      "                   all         47       1743      0.707      0.744      0.779      0.543\n"
     ]
    },
    {
     "name": "stderr",
     "output_type": "stream",
     "text": [
      "\n"
     ]
    },
    {
     "name": "stdout",
     "output_type": "stream",
     "text": [
      "\n",
      "      Epoch    GPU_mem   box_loss   cls_loss   dfl_loss  Instances       Size\n"
     ]
    },
    {
     "name": "stderr",
     "output_type": "stream",
     "text": [
      "     49/250      5.01G      0.927     0.6262     0.8874        196        640: 100%|██████████| 24/24 [00:05<00:00,  4.54it/s]\n",
      "                 Class     Images  Instances      Box(P          R      mAP50  mAP50-95): 100%|██████████| 2/2 [00:00<00:00,  7.49it/s]"
     ]
    },
    {
     "name": "stdout",
     "output_type": "stream",
     "text": [
      "                   all         47       1743      0.688      0.781      0.795      0.567\n"
     ]
    },
    {
     "name": "stderr",
     "output_type": "stream",
     "text": [
      "\n"
     ]
    },
    {
     "name": "stdout",
     "output_type": "stream",
     "text": [
      "\n",
      "      Epoch    GPU_mem   box_loss   cls_loss   dfl_loss  Instances       Size\n"
     ]
    },
    {
     "name": "stderr",
     "output_type": "stream",
     "text": [
      "     50/250      5.11G     0.9169     0.6157     0.8803        269        640: 100%|██████████| 24/24 [00:05<00:00,  4.68it/s]\n",
      "                 Class     Images  Instances      Box(P          R      mAP50  mAP50-95): 100%|██████████| 2/2 [00:00<00:00,  9.29it/s]"
     ]
    },
    {
     "name": "stdout",
     "output_type": "stream",
     "text": [
      "                   all         47       1743        0.7      0.745      0.773      0.548\n"
     ]
    },
    {
     "name": "stderr",
     "output_type": "stream",
     "text": [
      "\n"
     ]
    },
    {
     "name": "stdout",
     "output_type": "stream",
     "text": [
      "\n",
      "      Epoch    GPU_mem   box_loss   cls_loss   dfl_loss  Instances       Size\n"
     ]
    },
    {
     "name": "stderr",
     "output_type": "stream",
     "text": [
      "     51/250      5.89G     0.9215     0.6092     0.8811        240        640: 100%|██████████| 24/24 [00:04<00:00,  4.96it/s]\n",
      "                 Class     Images  Instances      Box(P          R      mAP50  mAP50-95): 100%|██████████| 2/2 [00:00<00:00,  7.17it/s]"
     ]
    },
    {
     "name": "stdout",
     "output_type": "stream",
     "text": [
      "                   all         47       1743      0.686      0.755      0.773      0.546\n"
     ]
    },
    {
     "name": "stderr",
     "output_type": "stream",
     "text": [
      "\n"
     ]
    },
    {
     "name": "stdout",
     "output_type": "stream",
     "text": [
      "\n",
      "      Epoch    GPU_mem   box_loss   cls_loss   dfl_loss  Instances       Size\n"
     ]
    },
    {
     "name": "stderr",
     "output_type": "stream",
     "text": [
      "     52/250      5.53G     0.9182     0.6024     0.8857        302        640: 100%|██████████| 24/24 [00:05<00:00,  4.74it/s]\n",
      "                 Class     Images  Instances      Box(P          R      mAP50  mAP50-95): 100%|██████████| 2/2 [00:00<00:00,  7.52it/s]"
     ]
    },
    {
     "name": "stdout",
     "output_type": "stream",
     "text": [
      "                   all         47       1743      0.748      0.738      0.787      0.561\n"
     ]
    },
    {
     "name": "stderr",
     "output_type": "stream",
     "text": [
      "\n"
     ]
    },
    {
     "name": "stdout",
     "output_type": "stream",
     "text": [
      "\n",
      "      Epoch    GPU_mem   box_loss   cls_loss   dfl_loss  Instances       Size\n"
     ]
    },
    {
     "name": "stderr",
     "output_type": "stream",
     "text": [
      "     53/250      5.66G     0.9168     0.6035     0.8874        301        640: 100%|██████████| 24/24 [00:04<00:00,  4.83it/s]\n",
      "                 Class     Images  Instances      Box(P          R      mAP50  mAP50-95): 100%|██████████| 2/2 [00:00<00:00,  7.37it/s]"
     ]
    },
    {
     "name": "stdout",
     "output_type": "stream",
     "text": [
      "                   all         47       1743      0.711      0.718      0.758      0.539\n"
     ]
    },
    {
     "name": "stderr",
     "output_type": "stream",
     "text": [
      "\n"
     ]
    },
    {
     "name": "stdout",
     "output_type": "stream",
     "text": [
      "\n",
      "      Epoch    GPU_mem   box_loss   cls_loss   dfl_loss  Instances       Size\n"
     ]
    },
    {
     "name": "stderr",
     "output_type": "stream",
     "text": [
      "     54/250      5.46G      0.938     0.6167     0.8871        304        640: 100%|██████████| 24/24 [00:04<00:00,  4.82it/s]\n",
      "                 Class     Images  Instances      Box(P          R      mAP50  mAP50-95): 100%|██████████| 2/2 [00:00<00:00,  5.99it/s]"
     ]
    },
    {
     "name": "stdout",
     "output_type": "stream",
     "text": [
      "                   all         47       1743      0.704       0.75      0.779      0.551\n"
     ]
    },
    {
     "name": "stderr",
     "output_type": "stream",
     "text": [
      "\n"
     ]
    },
    {
     "name": "stdout",
     "output_type": "stream",
     "text": [
      "\n",
      "      Epoch    GPU_mem   box_loss   cls_loss   dfl_loss  Instances       Size\n"
     ]
    },
    {
     "name": "stderr",
     "output_type": "stream",
     "text": [
      "     55/250      4.95G     0.9177     0.5925     0.8849        231        640: 100%|██████████| 24/24 [00:04<00:00,  4.87it/s]\n",
      "                 Class     Images  Instances      Box(P          R      mAP50  mAP50-95): 100%|██████████| 2/2 [00:00<00:00,  7.48it/s]"
     ]
    },
    {
     "name": "stdout",
     "output_type": "stream",
     "text": [
      "                   all         47       1743      0.693      0.759      0.754      0.532\n"
     ]
    },
    {
     "name": "stderr",
     "output_type": "stream",
     "text": [
      "\n"
     ]
    },
    {
     "name": "stdout",
     "output_type": "stream",
     "text": [
      "\n",
      "      Epoch    GPU_mem   box_loss   cls_loss   dfl_loss  Instances       Size\n"
     ]
    },
    {
     "name": "stderr",
     "output_type": "stream",
     "text": [
      "     56/250      5.38G     0.9143     0.5757     0.8828        137        640: 100%|██████████| 24/24 [00:04<00:00,  4.80it/s]\n",
      "                 Class     Images  Instances      Box(P          R      mAP50  mAP50-95): 100%|██████████| 2/2 [00:00<00:00,  9.22it/s]"
     ]
    },
    {
     "name": "stdout",
     "output_type": "stream",
     "text": [
      "                   all         47       1743      0.693      0.742       0.76      0.535\n"
     ]
    },
    {
     "name": "stderr",
     "output_type": "stream",
     "text": [
      "\n"
     ]
    },
    {
     "name": "stdout",
     "output_type": "stream",
     "text": [
      "\n",
      "      Epoch    GPU_mem   box_loss   cls_loss   dfl_loss  Instances       Size\n"
     ]
    },
    {
     "name": "stderr",
     "output_type": "stream",
     "text": [
      "     57/250      5.14G     0.9003     0.5785     0.8781        316        640: 100%|██████████| 24/24 [00:05<00:00,  4.57it/s]\n",
      "                 Class     Images  Instances      Box(P          R      mAP50  mAP50-95): 100%|██████████| 2/2 [00:00<00:00,  7.27it/s]"
     ]
    },
    {
     "name": "stdout",
     "output_type": "stream",
     "text": [
      "                   all         47       1743      0.696      0.737      0.762      0.539\n"
     ]
    },
    {
     "name": "stderr",
     "output_type": "stream",
     "text": [
      "\n"
     ]
    },
    {
     "name": "stdout",
     "output_type": "stream",
     "text": [
      "\n",
      "      Epoch    GPU_mem   box_loss   cls_loss   dfl_loss  Instances       Size\n"
     ]
    },
    {
     "name": "stderr",
     "output_type": "stream",
     "text": [
      "     58/250      5.84G     0.8961     0.5859     0.8819        200        640: 100%|██████████| 24/24 [00:05<00:00,  4.78it/s]\n",
      "                 Class     Images  Instances      Box(P          R      mAP50  mAP50-95): 100%|██████████| 2/2 [00:00<00:00,  9.14it/s]"
     ]
    },
    {
     "name": "stdout",
     "output_type": "stream",
     "text": [
      "                   all         47       1743      0.693      0.751      0.763      0.527\n"
     ]
    },
    {
     "name": "stderr",
     "output_type": "stream",
     "text": [
      "\n"
     ]
    },
    {
     "name": "stdout",
     "output_type": "stream",
     "text": [
      "\n",
      "      Epoch    GPU_mem   box_loss   cls_loss   dfl_loss  Instances       Size\n"
     ]
    },
    {
     "name": "stderr",
     "output_type": "stream",
     "text": [
      "     59/250      5.32G     0.9017     0.5895     0.8759        209        640: 100%|██████████| 24/24 [00:04<00:00,  5.10it/s]\n",
      "                 Class     Images  Instances      Box(P          R      mAP50  mAP50-95): 100%|██████████| 2/2 [00:00<00:00,  7.87it/s]"
     ]
    },
    {
     "name": "stdout",
     "output_type": "stream",
     "text": [
      "                   all         47       1743      0.732      0.734      0.776      0.545\n"
     ]
    },
    {
     "name": "stderr",
     "output_type": "stream",
     "text": [
      "\n"
     ]
    },
    {
     "name": "stdout",
     "output_type": "stream",
     "text": [
      "\n",
      "      Epoch    GPU_mem   box_loss   cls_loss   dfl_loss  Instances       Size\n"
     ]
    },
    {
     "name": "stderr",
     "output_type": "stream",
     "text": [
      "     60/250      5.19G     0.8917     0.5655     0.8829        120        640: 100%|██████████| 24/24 [00:04<00:00,  4.93it/s]\n",
      "                 Class     Images  Instances      Box(P          R      mAP50  mAP50-95): 100%|██████████| 2/2 [00:00<00:00,  9.45it/s]"
     ]
    },
    {
     "name": "stdout",
     "output_type": "stream",
     "text": [
      "                   all         47       1743       0.73      0.762      0.798      0.568\n"
     ]
    },
    {
     "name": "stderr",
     "output_type": "stream",
     "text": [
      "\n"
     ]
    },
    {
     "name": "stdout",
     "output_type": "stream",
     "text": [
      "\n",
      "      Epoch    GPU_mem   box_loss   cls_loss   dfl_loss  Instances       Size\n"
     ]
    },
    {
     "name": "stderr",
     "output_type": "stream",
     "text": [
      "     61/250      4.42G     0.8999     0.5609     0.8795        150        640: 100%|██████████| 24/24 [00:04<00:00,  5.01it/s]\n",
      "                 Class     Images  Instances      Box(P          R      mAP50  mAP50-95): 100%|██████████| 2/2 [00:00<00:00,  6.57it/s]"
     ]
    },
    {
     "name": "stdout",
     "output_type": "stream",
     "text": [
      "                   all         47       1743      0.702      0.767       0.78      0.556\n"
     ]
    },
    {
     "name": "stderr",
     "output_type": "stream",
     "text": [
      "\n"
     ]
    },
    {
     "name": "stdout",
     "output_type": "stream",
     "text": [
      "\n",
      "      Epoch    GPU_mem   box_loss   cls_loss   dfl_loss  Instances       Size\n"
     ]
    },
    {
     "name": "stderr",
     "output_type": "stream",
     "text": [
      "     62/250      4.92G     0.9192     0.5801     0.8784        243        640: 100%|██████████| 24/24 [00:04<00:00,  4.99it/s]\n",
      "                 Class     Images  Instances      Box(P          R      mAP50  mAP50-95): 100%|██████████| 2/2 [00:00<00:00,  9.30it/s]"
     ]
    },
    {
     "name": "stdout",
     "output_type": "stream",
     "text": [
      "                   all         47       1743      0.684      0.767      0.764      0.541\n"
     ]
    },
    {
     "name": "stderr",
     "output_type": "stream",
     "text": [
      "\n"
     ]
    },
    {
     "name": "stdout",
     "output_type": "stream",
     "text": [
      "\n",
      "      Epoch    GPU_mem   box_loss   cls_loss   dfl_loss  Instances       Size\n"
     ]
    },
    {
     "name": "stderr",
     "output_type": "stream",
     "text": [
      "     63/250       5.4G     0.9062     0.5633     0.8793        273        640: 100%|██████████| 24/24 [00:05<00:00,  4.53it/s]\n",
      "                 Class     Images  Instances      Box(P          R      mAP50  mAP50-95): 100%|██████████| 2/2 [00:00<00:00,  7.11it/s]"
     ]
    },
    {
     "name": "stdout",
     "output_type": "stream",
     "text": [
      "                   all         47       1743      0.685      0.743      0.758      0.535\n"
     ]
    },
    {
     "name": "stderr",
     "output_type": "stream",
     "text": [
      "\n"
     ]
    },
    {
     "name": "stdout",
     "output_type": "stream",
     "text": [
      "\n",
      "      Epoch    GPU_mem   box_loss   cls_loss   dfl_loss  Instances       Size\n"
     ]
    },
    {
     "name": "stderr",
     "output_type": "stream",
     "text": [
      "     64/250      5.26G     0.8834     0.5479     0.8766        207        640: 100%|██████████| 24/24 [00:04<00:00,  4.94it/s]\n",
      "                 Class     Images  Instances      Box(P          R      mAP50  mAP50-95): 100%|██████████| 2/2 [00:00<00:00,  6.43it/s]"
     ]
    },
    {
     "name": "stdout",
     "output_type": "stream",
     "text": [
      "                   all         47       1743       0.69      0.742      0.747      0.524\n"
     ]
    },
    {
     "name": "stderr",
     "output_type": "stream",
     "text": [
      "\n"
     ]
    },
    {
     "name": "stdout",
     "output_type": "stream",
     "text": [
      "\n",
      "      Epoch    GPU_mem   box_loss   cls_loss   dfl_loss  Instances       Size\n"
     ]
    },
    {
     "name": "stderr",
     "output_type": "stream",
     "text": [
      "     65/250      4.97G     0.8811     0.5465     0.8752        218        640: 100%|██████████| 24/24 [00:04<00:00,  4.95it/s]\n",
      "                 Class     Images  Instances      Box(P          R      mAP50  mAP50-95): 100%|██████████| 2/2 [00:00<00:00,  7.73it/s]"
     ]
    },
    {
     "name": "stdout",
     "output_type": "stream",
     "text": [
      "                   all         47       1743      0.711      0.763      0.764      0.543\n"
     ]
    },
    {
     "name": "stderr",
     "output_type": "stream",
     "text": [
      "\n"
     ]
    },
    {
     "name": "stdout",
     "output_type": "stream",
     "text": [
      "\n",
      "      Epoch    GPU_mem   box_loss   cls_loss   dfl_loss  Instances       Size\n"
     ]
    },
    {
     "name": "stderr",
     "output_type": "stream",
     "text": [
      "     66/250      5.35G     0.8813     0.5551     0.8731        365        640: 100%|██████████| 24/24 [00:05<00:00,  4.77it/s]\n",
      "                 Class     Images  Instances      Box(P          R      mAP50  mAP50-95): 100%|██████████| 2/2 [00:00<00:00,  7.61it/s]"
     ]
    },
    {
     "name": "stdout",
     "output_type": "stream",
     "text": [
      "                   all         47       1743      0.679      0.777      0.775      0.552\n"
     ]
    },
    {
     "name": "stderr",
     "output_type": "stream",
     "text": [
      "\n"
     ]
    },
    {
     "name": "stdout",
     "output_type": "stream",
     "text": [
      "\n",
      "      Epoch    GPU_mem   box_loss   cls_loss   dfl_loss  Instances       Size\n"
     ]
    },
    {
     "name": "stderr",
     "output_type": "stream",
     "text": [
      "     67/250       5.5G     0.8788     0.5379     0.8775        217        640: 100%|██████████| 24/24 [00:05<00:00,  4.64it/s]\n",
      "                 Class     Images  Instances      Box(P          R      mAP50  mAP50-95): 100%|██████████| 2/2 [00:00<00:00,  7.49it/s]"
     ]
    },
    {
     "name": "stdout",
     "output_type": "stream",
     "text": [
      "                   all         47       1743      0.656      0.729      0.738      0.521\n"
     ]
    },
    {
     "name": "stderr",
     "output_type": "stream",
     "text": [
      "\n"
     ]
    },
    {
     "name": "stdout",
     "output_type": "stream",
     "text": [
      "\n",
      "      Epoch    GPU_mem   box_loss   cls_loss   dfl_loss  Instances       Size\n"
     ]
    },
    {
     "name": "stderr",
     "output_type": "stream",
     "text": [
      "     68/250      4.57G     0.8765     0.5398     0.8717        124        640: 100%|██████████| 24/24 [00:04<00:00,  5.06it/s]\n",
      "                 Class     Images  Instances      Box(P          R      mAP50  mAP50-95): 100%|██████████| 2/2 [00:00<00:00,  9.12it/s]"
     ]
    },
    {
     "name": "stdout",
     "output_type": "stream",
     "text": [
      "                   all         47       1743      0.713      0.736      0.754      0.532\n"
     ]
    },
    {
     "name": "stderr",
     "output_type": "stream",
     "text": [
      "\n"
     ]
    },
    {
     "name": "stdout",
     "output_type": "stream",
     "text": [
      "\n",
      "      Epoch    GPU_mem   box_loss   cls_loss   dfl_loss  Instances       Size\n"
     ]
    },
    {
     "name": "stderr",
     "output_type": "stream",
     "text": [
      "     69/250      4.63G     0.8807     0.5313      0.875        228        640: 100%|██████████| 24/24 [00:04<00:00,  4.83it/s]\n",
      "                 Class     Images  Instances      Box(P          R      mAP50  mAP50-95): 100%|██████████| 2/2 [00:00<00:00,  7.27it/s]"
     ]
    },
    {
     "name": "stdout",
     "output_type": "stream",
     "text": [
      "                   all         47       1743      0.696      0.726      0.741      0.528\n"
     ]
    },
    {
     "name": "stderr",
     "output_type": "stream",
     "text": [
      "\n"
     ]
    },
    {
     "name": "stdout",
     "output_type": "stream",
     "text": [
      "\n",
      "      Epoch    GPU_mem   box_loss   cls_loss   dfl_loss  Instances       Size\n"
     ]
    },
    {
     "name": "stderr",
     "output_type": "stream",
     "text": [
      "     70/250      4.78G     0.8905     0.5473     0.8783        254        640: 100%|██████████| 24/24 [00:04<00:00,  4.87it/s]\n",
      "                 Class     Images  Instances      Box(P          R      mAP50  mAP50-95): 100%|██████████| 2/2 [00:00<00:00,  7.67it/s]"
     ]
    },
    {
     "name": "stdout",
     "output_type": "stream",
     "text": [
      "                   all         47       1743      0.694      0.714      0.733      0.522\n"
     ]
    },
    {
     "name": "stderr",
     "output_type": "stream",
     "text": [
      "\n"
     ]
    },
    {
     "name": "stdout",
     "output_type": "stream",
     "text": [
      "\n",
      "      Epoch    GPU_mem   box_loss   cls_loss   dfl_loss  Instances       Size\n"
     ]
    },
    {
     "name": "stderr",
     "output_type": "stream",
     "text": [
      "     71/250      5.76G     0.8694     0.5314     0.8689        204        640: 100%|██████████| 24/24 [00:04<00:00,  4.85it/s]\n",
      "                 Class     Images  Instances      Box(P          R      mAP50  mAP50-95): 100%|██████████| 2/2 [00:00<00:00,  9.35it/s]"
     ]
    },
    {
     "name": "stdout",
     "output_type": "stream",
     "text": [
      "                   all         47       1743      0.663      0.764      0.744      0.521\n"
     ]
    },
    {
     "name": "stderr",
     "output_type": "stream",
     "text": [
      "\n"
     ]
    },
    {
     "name": "stdout",
     "output_type": "stream",
     "text": [
      "\n",
      "      Epoch    GPU_mem   box_loss   cls_loss   dfl_loss  Instances       Size\n"
     ]
    },
    {
     "name": "stderr",
     "output_type": "stream",
     "text": [
      "     72/250      5.56G     0.8649     0.5208     0.8701        270        640: 100%|██████████| 24/24 [00:04<00:00,  4.87it/s]\n",
      "                 Class     Images  Instances      Box(P          R      mAP50  mAP50-95): 100%|██████████| 2/2 [00:00<00:00,  7.68it/s]"
     ]
    },
    {
     "name": "stdout",
     "output_type": "stream",
     "text": [
      "                   all         47       1743      0.719      0.721      0.762      0.543\n"
     ]
    },
    {
     "name": "stderr",
     "output_type": "stream",
     "text": [
      "\n"
     ]
    },
    {
     "name": "stdout",
     "output_type": "stream",
     "text": [
      "\n",
      "      Epoch    GPU_mem   box_loss   cls_loss   dfl_loss  Instances       Size\n"
     ]
    },
    {
     "name": "stderr",
     "output_type": "stream",
     "text": [
      "     73/250      4.99G     0.8701     0.5263     0.8712        226        640: 100%|██████████| 24/24 [00:04<00:00,  4.96it/s]\n",
      "                 Class     Images  Instances      Box(P          R      mAP50  mAP50-95): 100%|██████████| 2/2 [00:00<00:00,  7.60it/s]"
     ]
    },
    {
     "name": "stdout",
     "output_type": "stream",
     "text": [
      "                   all         47       1743      0.704      0.721      0.754      0.538\n"
     ]
    },
    {
     "name": "stderr",
     "output_type": "stream",
     "text": [
      "\n"
     ]
    },
    {
     "name": "stdout",
     "output_type": "stream",
     "text": [
      "\n",
      "      Epoch    GPU_mem   box_loss   cls_loss   dfl_loss  Instances       Size\n"
     ]
    },
    {
     "name": "stderr",
     "output_type": "stream",
     "text": [
      "     74/250      5.21G     0.8811     0.5304      0.873        183        640: 100%|██████████| 24/24 [00:04<00:00,  4.94it/s]\n",
      "                 Class     Images  Instances      Box(P          R      mAP50  mAP50-95): 100%|██████████| 2/2 [00:00<00:00,  9.50it/s]"
     ]
    },
    {
     "name": "stdout",
     "output_type": "stream",
     "text": [
      "                   all         47       1743      0.676      0.735      0.747      0.531\n"
     ]
    },
    {
     "name": "stderr",
     "output_type": "stream",
     "text": [
      "\n"
     ]
    },
    {
     "name": "stdout",
     "output_type": "stream",
     "text": [
      "\n",
      "      Epoch    GPU_mem   box_loss   cls_loss   dfl_loss  Instances       Size\n"
     ]
    },
    {
     "name": "stderr",
     "output_type": "stream",
     "text": [
      "     75/250         5G      0.867     0.5304     0.8735        240        640: 100%|██████████| 24/24 [00:04<00:00,  4.82it/s]\n",
      "                 Class     Images  Instances      Box(P          R      mAP50  mAP50-95): 100%|██████████| 2/2 [00:00<00:00,  7.52it/s]"
     ]
    },
    {
     "name": "stdout",
     "output_type": "stream",
     "text": [
      "                   all         47       1743      0.675      0.704      0.711      0.502\n"
     ]
    },
    {
     "name": "stderr",
     "output_type": "stream",
     "text": [
      "\n"
     ]
    },
    {
     "name": "stdout",
     "output_type": "stream",
     "text": [
      "\n",
      "      Epoch    GPU_mem   box_loss   cls_loss   dfl_loss  Instances       Size\n"
     ]
    },
    {
     "name": "stderr",
     "output_type": "stream",
     "text": [
      "     76/250      4.97G     0.8632      0.513     0.8726        267        640: 100%|██████████| 24/24 [00:05<00:00,  4.70it/s]\n",
      "                 Class     Images  Instances      Box(P          R      mAP50  mAP50-95): 100%|██████████| 2/2 [00:00<00:00,  7.43it/s]"
     ]
    },
    {
     "name": "stdout",
     "output_type": "stream",
     "text": [
      "                   all         47       1743      0.694      0.713      0.739       0.53\n"
     ]
    },
    {
     "name": "stderr",
     "output_type": "stream",
     "text": [
      "\n"
     ]
    },
    {
     "name": "stdout",
     "output_type": "stream",
     "text": [
      "\n",
      "      Epoch    GPU_mem   box_loss   cls_loss   dfl_loss  Instances       Size\n"
     ]
    },
    {
     "name": "stderr",
     "output_type": "stream",
     "text": [
      "     77/250      5.12G     0.8582     0.5221     0.8698        300        640: 100%|██████████| 24/24 [00:05<00:00,  4.61it/s]\n",
      "                 Class     Images  Instances      Box(P          R      mAP50  mAP50-95): 100%|██████████| 2/2 [00:00<00:00,  9.18it/s]"
     ]
    },
    {
     "name": "stdout",
     "output_type": "stream",
     "text": [
      "                   all         47       1743      0.668      0.761      0.759      0.538\n"
     ]
    },
    {
     "name": "stderr",
     "output_type": "stream",
     "text": [
      "\n"
     ]
    },
    {
     "name": "stdout",
     "output_type": "stream",
     "text": [
      "\n",
      "      Epoch    GPU_mem   box_loss   cls_loss   dfl_loss  Instances       Size\n"
     ]
    },
    {
     "name": "stderr",
     "output_type": "stream",
     "text": [
      "     78/250      4.88G     0.8611     0.5159     0.8707        197        640: 100%|██████████| 24/24 [00:04<00:00,  4.91it/s]\n",
      "                 Class     Images  Instances      Box(P          R      mAP50  mAP50-95): 100%|██████████| 2/2 [00:00<00:00,  7.13it/s]"
     ]
    },
    {
     "name": "stdout",
     "output_type": "stream",
     "text": [
      "                   all         47       1743      0.674       0.77      0.766      0.533\n"
     ]
    },
    {
     "name": "stderr",
     "output_type": "stream",
     "text": [
      "\n"
     ]
    },
    {
     "name": "stdout",
     "output_type": "stream",
     "text": [
      "\n",
      "      Epoch    GPU_mem   box_loss   cls_loss   dfl_loss  Instances       Size\n"
     ]
    },
    {
     "name": "stderr",
     "output_type": "stream",
     "text": [
      "     79/250      5.41G     0.8698     0.5158     0.8688        212        640: 100%|██████████| 24/24 [00:05<00:00,  4.76it/s]\n",
      "                 Class     Images  Instances      Box(P          R      mAP50  mAP50-95): 100%|██████████| 2/2 [00:00<00:00,  9.23it/s]"
     ]
    },
    {
     "name": "stdout",
     "output_type": "stream",
     "text": [
      "                   all         47       1743      0.681      0.747      0.761      0.537\n"
     ]
    },
    {
     "name": "stderr",
     "output_type": "stream",
     "text": [
      "\n"
     ]
    },
    {
     "name": "stdout",
     "output_type": "stream",
     "text": [
      "\n",
      "      Epoch    GPU_mem   box_loss   cls_loss   dfl_loss  Instances       Size\n"
     ]
    },
    {
     "name": "stderr",
     "output_type": "stream",
     "text": [
      "     80/250       4.5G     0.8669     0.5074     0.8732        363        640: 100%|██████████| 24/24 [00:04<00:00,  5.09it/s]\n",
      "                 Class     Images  Instances      Box(P          R      mAP50  mAP50-95): 100%|██████████| 2/2 [00:00<00:00,  9.48it/s]"
     ]
    },
    {
     "name": "stdout",
     "output_type": "stream",
     "text": [
      "                   all         47       1743       0.71       0.73      0.735      0.521\n"
     ]
    },
    {
     "name": "stderr",
     "output_type": "stream",
     "text": [
      "\n"
     ]
    },
    {
     "name": "stdout",
     "output_type": "stream",
     "text": [
      "\n",
      "      Epoch    GPU_mem   box_loss   cls_loss   dfl_loss  Instances       Size\n"
     ]
    },
    {
     "name": "stderr",
     "output_type": "stream",
     "text": [
      "     81/250       5.1G     0.8557     0.5064     0.8671        228        640: 100%|██████████| 24/24 [00:04<00:00,  5.08it/s]\n",
      "                 Class     Images  Instances      Box(P          R      mAP50  mAP50-95): 100%|██████████| 2/2 [00:00<00:00,  7.36it/s]"
     ]
    },
    {
     "name": "stdout",
     "output_type": "stream",
     "text": [
      "                   all         47       1743      0.663       0.72      0.731      0.525\n"
     ]
    },
    {
     "name": "stderr",
     "output_type": "stream",
     "text": [
      "\n"
     ]
    },
    {
     "name": "stdout",
     "output_type": "stream",
     "text": [
      "\n",
      "      Epoch    GPU_mem   box_loss   cls_loss   dfl_loss  Instances       Size\n"
     ]
    },
    {
     "name": "stderr",
     "output_type": "stream",
     "text": [
      "     82/250      5.02G      0.845     0.4922     0.8703        190        640: 100%|██████████| 24/24 [00:04<00:00,  5.13it/s]\n",
      "                 Class     Images  Instances      Box(P          R      mAP50  mAP50-95): 100%|██████████| 2/2 [00:00<00:00,  7.78it/s]"
     ]
    },
    {
     "name": "stdout",
     "output_type": "stream",
     "text": [
      "                   all         47       1743      0.667      0.748      0.738      0.526\n"
     ]
    },
    {
     "name": "stderr",
     "output_type": "stream",
     "text": [
      "\n"
     ]
    },
    {
     "name": "stdout",
     "output_type": "stream",
     "text": [
      "\n",
      "      Epoch    GPU_mem   box_loss   cls_loss   dfl_loss  Instances       Size\n"
     ]
    },
    {
     "name": "stderr",
     "output_type": "stream",
     "text": [
      "     83/250      5.21G      0.848     0.4942     0.8684        228        640: 100%|██████████| 24/24 [00:05<00:00,  4.66it/s]\n",
      "                 Class     Images  Instances      Box(P          R      mAP50  mAP50-95): 100%|██████████| 2/2 [00:00<00:00,  7.58it/s]"
     ]
    },
    {
     "name": "stdout",
     "output_type": "stream",
     "text": [
      "                   all         47       1743      0.714      0.721      0.759      0.548\n"
     ]
    },
    {
     "name": "stderr",
     "output_type": "stream",
     "text": [
      "\n"
     ]
    },
    {
     "name": "stdout",
     "output_type": "stream",
     "text": [
      "\n",
      "      Epoch    GPU_mem   box_loss   cls_loss   dfl_loss  Instances       Size\n"
     ]
    },
    {
     "name": "stderr",
     "output_type": "stream",
     "text": [
      "     84/250      4.91G     0.8451     0.4967      0.871        151        640: 100%|██████████| 24/24 [00:04<00:00,  4.92it/s]\n",
      "                 Class     Images  Instances      Box(P          R      mAP50  mAP50-95): 100%|██████████| 2/2 [00:00<00:00,  9.51it/s]"
     ]
    },
    {
     "name": "stdout",
     "output_type": "stream",
     "text": [
      "                   all         47       1743      0.685      0.728      0.735      0.522\n"
     ]
    },
    {
     "name": "stderr",
     "output_type": "stream",
     "text": [
      "\n"
     ]
    },
    {
     "name": "stdout",
     "output_type": "stream",
     "text": [
      "\n",
      "      Epoch    GPU_mem   box_loss   cls_loss   dfl_loss  Instances       Size\n"
     ]
    },
    {
     "name": "stderr",
     "output_type": "stream",
     "text": [
      "     85/250      4.92G     0.8456     0.4894     0.8642        272        640: 100%|██████████| 24/24 [00:04<00:00,  5.27it/s]\n",
      "                 Class     Images  Instances      Box(P          R      mAP50  mAP50-95): 100%|██████████| 2/2 [00:00<00:00,  9.32it/s]"
     ]
    },
    {
     "name": "stdout",
     "output_type": "stream",
     "text": [
      "                   all         47       1743      0.671      0.768       0.74      0.528\n"
     ]
    },
    {
     "name": "stderr",
     "output_type": "stream",
     "text": [
      "\n"
     ]
    },
    {
     "name": "stdout",
     "output_type": "stream",
     "text": [
      "\n",
      "      Epoch    GPU_mem   box_loss   cls_loss   dfl_loss  Instances       Size\n"
     ]
    },
    {
     "name": "stderr",
     "output_type": "stream",
     "text": [
      "     86/250      5.34G     0.8624      0.504     0.8671        198        640: 100%|██████████| 24/24 [00:05<00:00,  4.72it/s]\n",
      "                 Class     Images  Instances      Box(P          R      mAP50  mAP50-95): 100%|██████████| 2/2 [00:00<00:00,  9.10it/s]"
     ]
    },
    {
     "name": "stdout",
     "output_type": "stream",
     "text": [
      "                   all         47       1743      0.677      0.765      0.746      0.533\n"
     ]
    },
    {
     "name": "stderr",
     "output_type": "stream",
     "text": [
      "\n"
     ]
    },
    {
     "name": "stdout",
     "output_type": "stream",
     "text": [
      "\n",
      "      Epoch    GPU_mem   box_loss   cls_loss   dfl_loss  Instances       Size\n"
     ]
    },
    {
     "name": "stderr",
     "output_type": "stream",
     "text": [
      "     87/250      4.84G      0.827     0.4801     0.8619        177        640: 100%|██████████| 24/24 [00:05<00:00,  4.78it/s]\n",
      "                 Class     Images  Instances      Box(P          R      mAP50  mAP50-95): 100%|██████████| 2/2 [00:00<00:00,  7.59it/s]"
     ]
    },
    {
     "name": "stdout",
     "output_type": "stream",
     "text": [
      "                   all         47       1743      0.677      0.753      0.745      0.533\n"
     ]
    },
    {
     "name": "stderr",
     "output_type": "stream",
     "text": [
      "\n"
     ]
    },
    {
     "name": "stdout",
     "output_type": "stream",
     "text": [
      "\n",
      "      Epoch    GPU_mem   box_loss   cls_loss   dfl_loss  Instances       Size\n"
     ]
    },
    {
     "name": "stderr",
     "output_type": "stream",
     "text": [
      "     88/250      5.15G     0.8272     0.4762     0.8646        121        640: 100%|██████████| 24/24 [00:04<00:00,  5.05it/s]\n",
      "                 Class     Images  Instances      Box(P          R      mAP50  mAP50-95): 100%|██████████| 2/2 [00:00<00:00,  5.84it/s]"
     ]
    },
    {
     "name": "stdout",
     "output_type": "stream",
     "text": [
      "                   all         47       1743      0.687      0.762       0.76      0.542\n"
     ]
    },
    {
     "name": "stderr",
     "output_type": "stream",
     "text": [
      "\n"
     ]
    },
    {
     "name": "stdout",
     "output_type": "stream",
     "text": [
      "\n",
      "      Epoch    GPU_mem   box_loss   cls_loss   dfl_loss  Instances       Size\n"
     ]
    },
    {
     "name": "stderr",
     "output_type": "stream",
     "text": [
      "     89/250      5.14G     0.8234     0.4726     0.8619        200        640: 100%|██████████| 24/24 [00:04<00:00,  5.09it/s]\n",
      "                 Class     Images  Instances      Box(P          R      mAP50  mAP50-95): 100%|██████████| 2/2 [00:00<00:00,  7.73it/s]"
     ]
    },
    {
     "name": "stdout",
     "output_type": "stream",
     "text": [
      "                   all         47       1743      0.698      0.727      0.736       0.52\n"
     ]
    },
    {
     "name": "stderr",
     "output_type": "stream",
     "text": [
      "\n"
     ]
    },
    {
     "name": "stdout",
     "output_type": "stream",
     "text": [
      "\n",
      "      Epoch    GPU_mem   box_loss   cls_loss   dfl_loss  Instances       Size\n"
     ]
    },
    {
     "name": "stderr",
     "output_type": "stream",
     "text": [
      "     90/250      5.18G     0.8351     0.4708     0.8633        131        640: 100%|██████████| 24/24 [00:04<00:00,  5.09it/s]\n",
      "                 Class     Images  Instances      Box(P          R      mAP50  mAP50-95): 100%|██████████| 2/2 [00:00<00:00,  6.51it/s]"
     ]
    },
    {
     "name": "stdout",
     "output_type": "stream",
     "text": [
      "                   all         47       1743      0.704      0.715      0.744      0.526\n"
     ]
    },
    {
     "name": "stderr",
     "output_type": "stream",
     "text": [
      "\n"
     ]
    },
    {
     "name": "stdout",
     "output_type": "stream",
     "text": [
      "\n",
      "      Epoch    GPU_mem   box_loss   cls_loss   dfl_loss  Instances       Size\n"
     ]
    },
    {
     "name": "stderr",
     "output_type": "stream",
     "text": [
      "     91/250      5.48G     0.8192     0.4628     0.8591        269        640: 100%|██████████| 24/24 [00:04<00:00,  4.97it/s]\n",
      "                 Class     Images  Instances      Box(P          R      mAP50  mAP50-95): 100%|██████████| 2/2 [00:00<00:00,  7.58it/s]"
     ]
    },
    {
     "name": "stdout",
     "output_type": "stream",
     "text": [
      "                   all         47       1743        0.7      0.731      0.747      0.532\n"
     ]
    },
    {
     "name": "stderr",
     "output_type": "stream",
     "text": [
      "\n"
     ]
    },
    {
     "name": "stdout",
     "output_type": "stream",
     "text": [
      "\n",
      "      Epoch    GPU_mem   box_loss   cls_loss   dfl_loss  Instances       Size\n"
     ]
    },
    {
     "name": "stderr",
     "output_type": "stream",
     "text": [
      "     92/250         5G     0.8183     0.4646     0.8594        286        640: 100%|██████████| 24/24 [00:04<00:00,  5.03it/s]\n",
      "                 Class     Images  Instances      Box(P          R      mAP50  mAP50-95): 100%|██████████| 2/2 [00:00<00:00,  6.19it/s]"
     ]
    },
    {
     "name": "stdout",
     "output_type": "stream",
     "text": [
      "                   all         47       1743      0.681      0.735      0.735      0.523\n"
     ]
    },
    {
     "name": "stderr",
     "output_type": "stream",
     "text": [
      "\n"
     ]
    },
    {
     "name": "stdout",
     "output_type": "stream",
     "text": [
      "\n",
      "      Epoch    GPU_mem   box_loss   cls_loss   dfl_loss  Instances       Size\n"
     ]
    },
    {
     "name": "stderr",
     "output_type": "stream",
     "text": [
      "     93/250      6.08G     0.8227     0.4703     0.8601        239        640: 100%|██████████| 24/24 [00:05<00:00,  4.64it/s]\n",
      "                 Class     Images  Instances      Box(P          R      mAP50  mAP50-95): 100%|██████████| 2/2 [00:00<00:00,  7.05it/s]"
     ]
    },
    {
     "name": "stdout",
     "output_type": "stream",
     "text": [
      "                   all         47       1743      0.699       0.75      0.739      0.522\n"
     ]
    },
    {
     "name": "stderr",
     "output_type": "stream",
     "text": [
      "\n"
     ]
    },
    {
     "name": "stdout",
     "output_type": "stream",
     "text": [
      "\n",
      "      Epoch    GPU_mem   box_loss   cls_loss   dfl_loss  Instances       Size\n"
     ]
    },
    {
     "name": "stderr",
     "output_type": "stream",
     "text": [
      "     94/250      5.04G      0.826     0.4751       0.86        275        640: 100%|██████████| 24/24 [00:04<00:00,  4.95it/s]\n",
      "                 Class     Images  Instances      Box(P          R      mAP50  mAP50-95): 100%|██████████| 2/2 [00:00<00:00,  7.85it/s]"
     ]
    },
    {
     "name": "stdout",
     "output_type": "stream",
     "text": [
      "                   all         47       1743      0.711      0.738      0.741      0.524\n"
     ]
    },
    {
     "name": "stderr",
     "output_type": "stream",
     "text": [
      "\n"
     ]
    },
    {
     "name": "stdout",
     "output_type": "stream",
     "text": [
      "\n",
      "      Epoch    GPU_mem   box_loss   cls_loss   dfl_loss  Instances       Size\n"
     ]
    },
    {
     "name": "stderr",
     "output_type": "stream",
     "text": [
      "     95/250      6.25G     0.8289     0.4675     0.8658        271        640: 100%|██████████| 24/24 [00:04<00:00,  5.08it/s]\n",
      "                 Class     Images  Instances      Box(P          R      mAP50  mAP50-95): 100%|██████████| 2/2 [00:00<00:00,  7.54it/s]"
     ]
    },
    {
     "name": "stdout",
     "output_type": "stream",
     "text": [
      "                   all         47       1743      0.707      0.739      0.735      0.524\n"
     ]
    },
    {
     "name": "stderr",
     "output_type": "stream",
     "text": [
      "\n"
     ]
    },
    {
     "name": "stdout",
     "output_type": "stream",
     "text": [
      "\n",
      "      Epoch    GPU_mem   box_loss   cls_loss   dfl_loss  Instances       Size\n"
     ]
    },
    {
     "name": "stderr",
     "output_type": "stream",
     "text": [
      "     96/250      5.22G     0.8284     0.4651     0.8607        220        640: 100%|██████████| 24/24 [00:04<00:00,  5.10it/s]\n",
      "                 Class     Images  Instances      Box(P          R      mAP50  mAP50-95): 100%|██████████| 2/2 [00:00<00:00,  6.99it/s]"
     ]
    },
    {
     "name": "stdout",
     "output_type": "stream",
     "text": [
      "                   all         47       1743        0.7      0.718      0.736      0.522\n"
     ]
    },
    {
     "name": "stderr",
     "output_type": "stream",
     "text": [
      "\n"
     ]
    },
    {
     "name": "stdout",
     "output_type": "stream",
     "text": [
      "\n",
      "      Epoch    GPU_mem   box_loss   cls_loss   dfl_loss  Instances       Size\n"
     ]
    },
    {
     "name": "stderr",
     "output_type": "stream",
     "text": [
      "     97/250      5.29G     0.8151     0.4569     0.8558        243        640: 100%|██████████| 24/24 [00:04<00:00,  4.93it/s]\n",
      "                 Class     Images  Instances      Box(P          R      mAP50  mAP50-95): 100%|██████████| 2/2 [00:00<00:00,  5.84it/s]"
     ]
    },
    {
     "name": "stdout",
     "output_type": "stream",
     "text": [
      "                   all         47       1743      0.698      0.752      0.763      0.544\n"
     ]
    },
    {
     "name": "stderr",
     "output_type": "stream",
     "text": [
      "\n"
     ]
    },
    {
     "name": "stdout",
     "output_type": "stream",
     "text": [
      "\n",
      "      Epoch    GPU_mem   box_loss   cls_loss   dfl_loss  Instances       Size\n"
     ]
    },
    {
     "name": "stderr",
     "output_type": "stream",
     "text": [
      "     98/250      4.85G     0.8213     0.4587     0.8602        194        640: 100%|██████████| 24/24 [00:04<00:00,  4.88it/s]\n",
      "                 Class     Images  Instances      Box(P          R      mAP50  mAP50-95): 100%|██████████| 2/2 [00:00<00:00,  7.68it/s]"
     ]
    },
    {
     "name": "stdout",
     "output_type": "stream",
     "text": [
      "                   all         47       1743      0.716      0.743      0.756      0.534\n"
     ]
    },
    {
     "name": "stderr",
     "output_type": "stream",
     "text": [
      "\n"
     ]
    },
    {
     "name": "stdout",
     "output_type": "stream",
     "text": [
      "\n",
      "      Epoch    GPU_mem   box_loss   cls_loss   dfl_loss  Instances       Size\n"
     ]
    },
    {
     "name": "stderr",
     "output_type": "stream",
     "text": [
      "     99/250      5.35G     0.8014     0.4613     0.8562        190        640: 100%|██████████| 24/24 [00:05<00:00,  4.51it/s]\n",
      "                 Class     Images  Instances      Box(P          R      mAP50  mAP50-95): 100%|██████████| 2/2 [00:00<00:00,  7.74it/s]"
     ]
    },
    {
     "name": "stdout",
     "output_type": "stream",
     "text": [
      "                   all         47       1743      0.694       0.76      0.756      0.537\n"
     ]
    },
    {
     "name": "stderr",
     "output_type": "stream",
     "text": [
      "\n"
     ]
    },
    {
     "name": "stdout",
     "output_type": "stream",
     "text": [
      "\n",
      "      Epoch    GPU_mem   box_loss   cls_loss   dfl_loss  Instances       Size\n"
     ]
    },
    {
     "name": "stderr",
     "output_type": "stream",
     "text": [
      "    100/250      5.97G     0.8096     0.4509     0.8548        159        640: 100%|██████████| 24/24 [00:04<00:00,  4.93it/s]\n",
      "                 Class     Images  Instances      Box(P          R      mAP50  mAP50-95): 100%|██████████| 2/2 [00:00<00:00,  7.48it/s]"
     ]
    },
    {
     "name": "stdout",
     "output_type": "stream",
     "text": [
      "                   all         47       1743       0.69      0.717      0.717      0.503\n"
     ]
    },
    {
     "name": "stderr",
     "output_type": "stream",
     "text": [
      "\n"
     ]
    },
    {
     "name": "stdout",
     "output_type": "stream",
     "text": [
      "\n",
      "      Epoch    GPU_mem   box_loss   cls_loss   dfl_loss  Instances       Size\n"
     ]
    },
    {
     "name": "stderr",
     "output_type": "stream",
     "text": [
      "    101/250      5.04G     0.8247     0.4588     0.8581        276        640: 100%|██████████| 24/24 [00:05<00:00,  4.49it/s]\n",
      "                 Class     Images  Instances      Box(P          R      mAP50  mAP50-95): 100%|██████████| 2/2 [00:00<00:00,  9.62it/s]"
     ]
    },
    {
     "name": "stdout",
     "output_type": "stream",
     "text": [
      "                   all         47       1743      0.664      0.766      0.737      0.524\n"
     ]
    },
    {
     "name": "stderr",
     "output_type": "stream",
     "text": [
      "\n"
     ]
    },
    {
     "name": "stdout",
     "output_type": "stream",
     "text": [
      "\n",
      "      Epoch    GPU_mem   box_loss   cls_loss   dfl_loss  Instances       Size\n"
     ]
    },
    {
     "name": "stderr",
     "output_type": "stream",
     "text": [
      "    102/250      5.28G     0.8116     0.4488     0.8574        225        640: 100%|██████████| 24/24 [00:04<00:00,  4.91it/s]\n",
      "                 Class     Images  Instances      Box(P          R      mAP50  mAP50-95): 100%|██████████| 2/2 [00:00<00:00,  6.32it/s]"
     ]
    },
    {
     "name": "stdout",
     "output_type": "stream",
     "text": [
      "                   all         47       1743      0.707      0.715      0.727      0.513\n"
     ]
    },
    {
     "name": "stderr",
     "output_type": "stream",
     "text": [
      "\n"
     ]
    },
    {
     "name": "stdout",
     "output_type": "stream",
     "text": [
      "\n",
      "      Epoch    GPU_mem   box_loss   cls_loss   dfl_loss  Instances       Size\n"
     ]
    },
    {
     "name": "stderr",
     "output_type": "stream",
     "text": [
      "    103/250      5.62G     0.8014     0.4401      0.857        186        640: 100%|██████████| 24/24 [00:04<00:00,  4.80it/s]\n",
      "                 Class     Images  Instances      Box(P          R      mAP50  mAP50-95): 100%|██████████| 2/2 [00:00<00:00,  7.64it/s]"
     ]
    },
    {
     "name": "stdout",
     "output_type": "stream",
     "text": [
      "                   all         47       1743      0.698      0.722      0.726      0.508\n"
     ]
    },
    {
     "name": "stderr",
     "output_type": "stream",
     "text": [
      "\n"
     ]
    },
    {
     "name": "stdout",
     "output_type": "stream",
     "text": [
      "\n",
      "      Epoch    GPU_mem   box_loss   cls_loss   dfl_loss  Instances       Size\n"
     ]
    },
    {
     "name": "stderr",
     "output_type": "stream",
     "text": [
      "    104/250      4.98G     0.7936     0.4385     0.8571        234        640: 100%|██████████| 24/24 [00:04<00:00,  4.96it/s]\n",
      "                 Class     Images  Instances      Box(P          R      mAP50  mAP50-95): 100%|██████████| 2/2 [00:00<00:00,  9.46it/s]"
     ]
    },
    {
     "name": "stdout",
     "output_type": "stream",
     "text": [
      "                   all         47       1743      0.728      0.702      0.745      0.534\n"
     ]
    },
    {
     "name": "stderr",
     "output_type": "stream",
     "text": [
      "\n"
     ]
    },
    {
     "name": "stdout",
     "output_type": "stream",
     "text": [
      "\n",
      "      Epoch    GPU_mem   box_loss   cls_loss   dfl_loss  Instances       Size\n"
     ]
    },
    {
     "name": "stderr",
     "output_type": "stream",
     "text": [
      "    105/250      5.19G     0.8084     0.4526     0.8559        360        640: 100%|██████████| 24/24 [00:04<00:00,  4.89it/s]\n",
      "                 Class     Images  Instances      Box(P          R      mAP50  mAP50-95): 100%|██████████| 2/2 [00:00<00:00,  6.63it/s]"
     ]
    },
    {
     "name": "stdout",
     "output_type": "stream",
     "text": [
      "                   all         47       1743      0.736      0.711      0.738      0.525\n"
     ]
    },
    {
     "name": "stderr",
     "output_type": "stream",
     "text": [
      "\n"
     ]
    },
    {
     "name": "stdout",
     "output_type": "stream",
     "text": [
      "\n",
      "      Epoch    GPU_mem   box_loss   cls_loss   dfl_loss  Instances       Size\n"
     ]
    },
    {
     "name": "stderr",
     "output_type": "stream",
     "text": [
      "    106/250      5.52G     0.7927     0.4432     0.8568        242        640: 100%|██████████| 24/24 [00:04<00:00,  4.91it/s]\n",
      "                 Class     Images  Instances      Box(P          R      mAP50  mAP50-95): 100%|██████████| 2/2 [00:00<00:00,  9.44it/s]"
     ]
    },
    {
     "name": "stdout",
     "output_type": "stream",
     "text": [
      "                   all         47       1743      0.715      0.746      0.755      0.535\n"
     ]
    },
    {
     "name": "stderr",
     "output_type": "stream",
     "text": [
      "\n"
     ]
    },
    {
     "name": "stdout",
     "output_type": "stream",
     "text": [
      "\n",
      "      Epoch    GPU_mem   box_loss   cls_loss   dfl_loss  Instances       Size\n"
     ]
    },
    {
     "name": "stderr",
     "output_type": "stream",
     "text": [
      "    107/250      4.92G     0.7917     0.4404     0.8569        233        640: 100%|██████████| 24/24 [00:04<00:00,  4.87it/s]\n",
      "                 Class     Images  Instances      Box(P          R      mAP50  mAP50-95): 100%|██████████| 2/2 [00:00<00:00,  7.77it/s]"
     ]
    },
    {
     "name": "stdout",
     "output_type": "stream",
     "text": [
      "                   all         47       1743      0.699      0.752      0.745      0.525\n"
     ]
    },
    {
     "name": "stderr",
     "output_type": "stream",
     "text": [
      "\n"
     ]
    },
    {
     "name": "stdout",
     "output_type": "stream",
     "text": [
      "\n",
      "      Epoch    GPU_mem   box_loss   cls_loss   dfl_loss  Instances       Size\n"
     ]
    },
    {
     "name": "stderr",
     "output_type": "stream",
     "text": [
      "    108/250      6.03G     0.8023     0.4504     0.8555        315        640: 100%|██████████| 24/24 [00:04<00:00,  4.84it/s]\n",
      "                 Class     Images  Instances      Box(P          R      mAP50  mAP50-95): 100%|██████████| 2/2 [00:00<00:00,  7.67it/s]"
     ]
    },
    {
     "name": "stdout",
     "output_type": "stream",
     "text": [
      "                   all         47       1743      0.702      0.774       0.76      0.533\n"
     ]
    },
    {
     "name": "stderr",
     "output_type": "stream",
     "text": [
      "\n"
     ]
    },
    {
     "name": "stdout",
     "output_type": "stream",
     "text": [
      "\n",
      "      Epoch    GPU_mem   box_loss   cls_loss   dfl_loss  Instances       Size\n"
     ]
    },
    {
     "name": "stderr",
     "output_type": "stream",
     "text": [
      "    109/250      5.84G     0.8024     0.4404     0.8554        260        640: 100%|██████████| 24/24 [00:05<00:00,  4.72it/s]\n",
      "                 Class     Images  Instances      Box(P          R      mAP50  mAP50-95): 100%|██████████| 2/2 [00:00<00:00,  6.64it/s]"
     ]
    },
    {
     "name": "stdout",
     "output_type": "stream",
     "text": [
      "                   all         47       1743      0.689      0.755      0.744      0.523\n"
     ]
    },
    {
     "name": "stderr",
     "output_type": "stream",
     "text": [
      "\n"
     ]
    },
    {
     "name": "stdout",
     "output_type": "stream",
     "text": [
      "\n",
      "      Epoch    GPU_mem   box_loss   cls_loss   dfl_loss  Instances       Size\n"
     ]
    },
    {
     "name": "stderr",
     "output_type": "stream",
     "text": [
      "    110/250      5.55G     0.7885     0.4376     0.8566        272        640: 100%|██████████| 24/24 [00:05<00:00,  4.75it/s]\n",
      "                 Class     Images  Instances      Box(P          R      mAP50  mAP50-95): 100%|██████████| 2/2 [00:00<00:00,  6.42it/s]"
     ]
    },
    {
     "name": "stdout",
     "output_type": "stream",
     "text": [
      "                   all         47       1743      0.689      0.751      0.735      0.521\n",
      "Stopping training early as no improvement observed in last 50 epochs. Best results observed at epoch 60, best model saved as best.pt.\n",
      "To update EarlyStopping(patience=50) pass a new patience value, i.e. `patience=300` or use `patience=0` to disable EarlyStopping.\n"
     ]
    },
    {
     "name": "stderr",
     "output_type": "stream",
     "text": [
      "\n"
     ]
    },
    {
     "name": "stdout",
     "output_type": "stream",
     "text": [
      "\n",
      "110 epochs completed in 0.185 hours.\n",
      "Optimizer stripped from /home/ray/runs/detect/train8/weights/last.pt, 22.5MB\n",
      "Optimizer stripped from /home/ray/runs/detect/train8/weights/best.pt, 22.5MB\n",
      "\n",
      "Validating /home/ray/runs/detect/train8/weights/best.pt...\n",
      "Ultralytics YOLOv8.1.0 🚀 Python-3.10.13 torch-2.1.0+cu121 CUDA:0 (NVIDIA GeForce RTX 4060 Ti, 7937MiB)\n",
      "Model summary (fused): 168 layers, 11127519 parameters, 0 gradients, 28.4 GFLOPs\n"
     ]
    },
    {
     "name": "stderr",
     "output_type": "stream",
     "text": [
      "                 Class     Images  Instances      Box(P          R      mAP50  mAP50-95): 100%|██████████| 2/2 [00:00<00:00,  6.13it/s]\n"
     ]
    },
    {
     "name": "stdout",
     "output_type": "stream",
     "text": [
      "                   all         47       1743      0.731      0.763      0.798      0.568\n",
      "              complete         47        558      0.813      0.835      0.888      0.752\n",
      "            incomplete         47         51      0.707      0.765      0.802      0.622\n",
      "       blurry.complete         47        442      0.714      0.775      0.786      0.604\n",
      "     blurry.incomplete         47        104      0.648       0.74      0.752      0.506\n",
      "                  hair         47        588      0.773        0.7       0.76      0.359\n",
      "Speed: 0.1ms preprocess, 3.4ms inference, 0.0ms loss, 0.3ms postprocess per image\n",
      "Results saved to \u001b[1m/home/ray/runs/detect/train8\u001b[0m\n",
      "Ultralytics YOLOv8.1.0 🚀 Python-3.10.13 torch-2.1.0+cu121 CUDA:0 (NVIDIA GeForce RTX 4060 Ti, 7937MiB)\n",
      "Model summary (fused): 168 layers, 11127519 parameters, 0 gradients, 28.4 GFLOPs\n"
     ]
    },
    {
     "name": "stderr",
     "output_type": "stream",
     "text": [
      "\u001b[34m\u001b[1mval: \u001b[0mScanning /home/ray/datasets/AllData/labels/val.cache... 47 images, 0 backgrounds, 0 corrupt: 100%|██████████| 47/47 [00:00<?, ?it/s]\n",
      "                 Class     Images  Instances      Box(P          R      mAP50  mAP50-95): 100%|██████████| 3/3 [00:03<00:00,  1.08s/it]\n"
     ]
    },
    {
     "name": "stdout",
     "output_type": "stream",
     "text": [
      "                   all         47       1743      0.732      0.763      0.799      0.566\n",
      "              complete         47        558      0.814      0.833      0.889      0.754\n",
      "            incomplete         47         51      0.707      0.765      0.802      0.609\n",
      "       blurry.complete         47        442      0.713      0.774      0.787      0.602\n",
      "     blurry.incomplete         47        104      0.652       0.74      0.754      0.503\n",
      "                  hair         47        588      0.776      0.701      0.763       0.36\n",
      "Speed: 0.2ms preprocess, 32.9ms inference, 0.0ms loss, 3.3ms postprocess per image\n",
      "Results saved to \u001b[1m/home/ray/runs/detect/train82\u001b[0m\n"
     ]
    }
   ],
   "source": [
    "from ultralytics import YOLO\n",
    "\n",
    "\n",
    "# Load a model\n",
    "model = YOLO(\"yolov8s.pt\")  # load an official model\n",
    "results = model.train(data=\"data_All.yaml\", epochs=250)\n",
    "# Validate the model\n",
    "results = model.val(data=\"data_All.yaml\")  # no arguments needed, dataset and settings remembered"
   ]
  },
  {
   "cell_type": "code",
   "execution_count": 4,
   "metadata": {},
   "outputs": [
    {
     "name": "stdout",
     "output_type": "stream",
     "text": [
      "Ultralytics YOLOv8.0.232 🚀 Python-3.10.13 torch-2.1.0+cu121 CUDA:0 (NVIDIA GeForce RTX 4060 Ti, 7937MiB)\n"
     ]
    },
    {
     "name": "stdout",
     "output_type": "stream",
     "text": [
      "Model summary (fused): 168 layers, 11127519 parameters, 0 gradients, 28.4 GFLOPs\n"
     ]
    },
    {
     "name": "stderr",
     "output_type": "stream",
     "text": [
      "\u001b[34m\u001b[1mval: \u001b[0mScanning /home/ray/datasets/T22+T32/labels/val.cache... 17 images, 0 backgrounds, 0 corrupt: 100%|██████████| 17/17 [00:00<?, ?it/s]\n",
      "                 Class     Images  Instances      Box(P          R      mAP50  mAP50-95): 100%|██████████| 2/2 [00:00<00:00,  2.02it/s]\n"
     ]
    },
    {
     "name": "stdout",
     "output_type": "stream",
     "text": [
      "                   all         17        829      0.775      0.792       0.82      0.603\n",
      "              complete         17        212      0.768      0.882      0.801      0.687\n",
      "            incomplete         17         32      0.753      0.688      0.835      0.614\n",
      "       blurry.complete         17        198      0.811      0.773      0.774      0.643\n",
      "     blurry.incomplete         17         24      0.674      0.792      0.794      0.561\n",
      "                  hair         17        363       0.87      0.826      0.895       0.51\n",
      "Speed: 0.2ms preprocess, 7.6ms inference, 0.0ms loss, 0.5ms postprocess per image\n",
      "Results saved to \u001b[1m/home/ray/runs/detect/val4\u001b[0m\n"
     ]
    }
   ],
   "source": [
    "model = YOLO(\"/home/ray/runs/detect/T22+T32Train/weights/best.pt\")  # load an official model \n",
    "results = model.val(data=\"data_T22T32.yaml\")  # no arguments needed, dataset and settings remembered"
   ]
  },
  {
   "cell_type": "markdown",
   "metadata": {},
   "source": [
    "### Predict"
   ]
  },
  {
   "cell_type": "code",
   "execution_count": 24,
   "metadata": {},
   "outputs": [
    {
     "name": "stdout",
     "output_type": "stream",
     "text": [
      "\n",
      "image 1/300 /home/ray/Downloads/Stomata/All/T16L600_W1_GC1_R2_P100_g103_2.jpg: 480x640 6 completes, 11 blurry.completes, 1 hair, 99.9ms\n",
      "image 2/300 /home/ray/Downloads/Stomata/All/T16L600_W1_GC1_R2_P100_g103_6.jpg: 480x640 10 completes, 21 blurry.completes, 10 hairs, 3.7ms\n",
      "image 3/300 /home/ray/Downloads/Stomata/All/T16L600_W1_GC1_R2_P106_g60_2.jpg: 480x640 18 completes, 14 blurry.completes, 1 hair, 3.6ms\n",
      "image 4/300 /home/ray/Downloads/Stomata/All/T16L600_W1_GC1_R2_P106_g60_8.jpg: 480x640 8 completes, 25 blurry.completes, 5 hairs, 4.1ms\n",
      "image 5/300 /home/ray/Downloads/Stomata/All/T16L600_W1_GC1_R2_P107_g54_4.jpg: 480x640 14 completes, 7 blurry.completes, 3.4ms\n",
      "image 6/300 /home/ray/Downloads/Stomata/All/T16L600_W1_GC1_R2_P107_g54_8.jpg: 480x640 16 completes, 15 blurry.completes, 5 hairs, 3.9ms\n",
      "image 7/300 /home/ray/Downloads/Stomata/All/T16L600_W1_GC1_R2_P110_g88_4.jpg: 480x640 17 completes, 6 blurry.completes, 6 hairs, 3.4ms\n",
      "image 8/300 /home/ray/Downloads/Stomata/All/T16L600_W1_GC1_R2_P110_g88_7.jpg: 480x640 4 completes, 27 blurry.completes, 3 hairs, 4.5ms\n",
      "image 9/300 /home/ray/Downloads/Stomata/All/T16L600_W1_GC1_R2_P111_g31_2.jpg: 480x640 13 completes, 10 blurry.completes, 1 hair, 3.6ms\n",
      "image 10/300 /home/ray/Downloads/Stomata/All/T16L600_W1_GC1_R2_P111_g31_6.jpg: 480x640 14 completes, 17 blurry.completes, 10 hairs, 3.4ms\n",
      "image 11/300 /home/ray/Downloads/Stomata/All/T16L600_W1_GC1_R2_P112_g83_3.jpg: 480x640 12 completes, 14 blurry.completes, 11 hairs, 3.5ms\n",
      "image 12/300 /home/ray/Downloads/Stomata/All/T16L600_W1_GC1_R2_P112_g83_7.jpg: 480x640 29 completes, 5 blurry.completes, 20 hairs, 3.4ms\n",
      "image 13/300 /home/ray/Downloads/Stomata/All/T16L600_W1_GC1_R2_P113_g61_1.jpg: 480x640 5 completes, 15 blurry.completes, 3.4ms\n",
      "image 14/300 /home/ray/Downloads/Stomata/All/T16L600_W1_GC1_R2_P113_g61_7.jpg: 480x640 6 completes, 23 blurry.completes, 12 hairs, 4.2ms\n",
      "image 15/300 /home/ray/Downloads/Stomata/All/T16L600_W1_GC1_R2_P115_g48_3.jpg: 480x640 17 completes, 8 blurry.completes, 3.5ms\n",
      "image 16/300 /home/ray/Downloads/Stomata/All/T16L600_W1_GC1_R2_P115_g48_5.jpg: 480x640 26 blurry.completes, 4 hairs, 3.4ms\n",
      "image 17/300 /home/ray/Downloads/Stomata/All/T16L600_W1_GC1_R2_P116_g44_3.jpg: 480x640 11 completes, 11 blurry.completes, 3.5ms\n",
      "image 18/300 /home/ray/Downloads/Stomata/All/T16L600_W1_GC1_R2_P116_g44_6.jpg: 480x640 36 blurry.completes, 3 hairs, 4.9ms\n",
      "image 19/300 /home/ray/Downloads/Stomata/All/T16L600_W1_GC1_R2_P117_g97_4.jpg: 480x640 11 completes, 8 blurry.completes, 22 hairs, 4.6ms\n",
      "image 20/300 /home/ray/Downloads/Stomata/All/T16L600_W1_GC1_R2_P117_g97_8.jpg: 480x640 5 completes, 25 blurry.completes, 26 hairs, 3.9ms\n",
      "image 21/300 /home/ray/Downloads/Stomata/All/T16L600_W1_GC1_R2_P118_g29_4.jpg: 480x640 16 completes, 18 blurry.completes, 19 hairs, 6.7ms\n",
      "image 22/300 /home/ray/Downloads/Stomata/All/T16L600_W1_GC1_R2_P118_g29_7.jpg: 480x640 10 completes, 30 blurry.completes, 8 hairs, 3.6ms\n",
      "image 23/300 /home/ray/Downloads/Stomata/All/T16L600_W1_GC1_R2_P119_g26_2.jpg: 480x640 8 completes, 10 blurry.completes, 1 hair, 3.7ms\n",
      "image 24/300 /home/ray/Downloads/Stomata/All/T16L600_W1_GC1_R2_P119_g26_5.jpg: 480x640 12 completes, 23 blurry.completes, 1 hair, 3.4ms\n",
      "image 25/300 /home/ray/Downloads/Stomata/All/T16L600_W1_GC1_R2_P121_g105_4.jpg: 480x640 19 completes, 8 blurry.completes, 19 hairs, 3.9ms\n",
      "image 26/300 /home/ray/Downloads/Stomata/All/T16L600_W1_GC1_R2_P121_g105_7.jpg: 480x640 16 completes, 17 blurry.completes, 11 hairs, 3.5ms\n",
      "image 27/300 /home/ray/Downloads/Stomata/All/T16L600_W1_GC1_R2_P123_g35_4.jpg: 480x640 8 completes, 14 blurry.completes, 4 hairs, 4.4ms\n",
      "image 28/300 /home/ray/Downloads/Stomata/All/T16L600_W1_GC1_R2_P123_g35_7.jpg: 480x640 12 completes, 15 blurry.completes, 4 hairs, 50.7ms\n",
      "image 29/300 /home/ray/Downloads/Stomata/All/T16L600_W1_GC1_R2_P127_g16_1.jpg: 480x640 5 completes, 14 blurry.completes, 2 hairs, 4.2ms\n",
      "image 30/300 /home/ray/Downloads/Stomata/All/T16L600_W1_GC1_R2_P127_g16_5.jpg: 480x640 9 completes, 24 blurry.completes, 2 hairs, 4.2ms\n",
      "image 31/300 /home/ray/Downloads/Stomata/All/T16L600_W1_GC1_R2_P129_g90_3.jpg: 480x640 7 completes, 11 blurry.completes, 29 hairs, 3.4ms\n",
      "image 32/300 /home/ray/Downloads/Stomata/All/T16L600_W1_GC1_R2_P129_g90_5.jpg: 480x640 16 completes, 12 blurry.completes, 6 hairs, 3.7ms\n",
      "image 33/300 /home/ray/Downloads/Stomata/All/T16L600_W1_GC1_R2_P132_g87_2.jpg: 480x640 16 completes, 11 blurry.completes, 18 hairs, 3.4ms\n",
      "image 34/300 /home/ray/Downloads/Stomata/All/T16L600_W1_GC1_R2_P132_g87_6.jpg: 480x640 1 complete, 29 blurry.completes, 9 hairs, 4.1ms\n",
      "image 35/300 /home/ray/Downloads/Stomata/All/T16L600_W1_GC1_R2_P74_g55_3.jpg: 480x640 1 complete, 23 blurry.completes, 2 hairs, 3.5ms\n",
      "image 36/300 /home/ray/Downloads/Stomata/All/T16L600_W1_GC1_R2_P74_g55_6.jpg: 480x640 9 completes, 24 blurry.completes, 3.4ms\n",
      "image 37/300 /home/ray/Downloads/Stomata/All/T16L600_W1_GC1_R2_P76_g13_4.jpg: 480x640 7 completes, 13 blurry.completes, 5 hairs, 3.4ms\n",
      "image 38/300 /home/ray/Downloads/Stomata/All/T16L600_W1_GC1_R2_P76_g13_6.jpg: 480x640 22 completes, 9 blurry.completes, 2 hairs, 4.5ms\n",
      "image 39/300 /home/ray/Downloads/Stomata/All/T16L600_W1_GC1_R2_P77_g66_2.jpg: 480x640 8 completes, 10 blurry.completes, 1 hair, 3.5ms\n",
      "image 40/300 /home/ray/Downloads/Stomata/All/T16L600_W1_GC1_R2_P77_g66_6.jpg: 480x640 42 blurry.completes, 2 hairs, 3.6ms\n",
      "image 41/300 /home/ray/Downloads/Stomata/All/T16L600_W1_GC1_R2_P78_g80_1.jpg: 480x640 13 completes, 6 blurry.completes, 3.8ms\n",
      "image 42/300 /home/ray/Downloads/Stomata/All/T16L600_W1_GC1_R2_P78_g80_7.jpg: 480x640 15 completes, 24 blurry.completes, 10 hairs, 3.4ms\n",
      "image 43/300 /home/ray/Downloads/Stomata/All/T16L600_W1_GC1_R2_P80_g100_2.jpg: 480x640 10 completes, 13 blurry.completes, 4 blurry.incompletes, 49.8ms\n",
      "image 44/300 /home/ray/Downloads/Stomata/All/T16L600_W1_GC1_R2_P80_g100_6.jpg: 480x640 13 completes, 21 blurry.completes, 3 hairs, 4.3ms\n",
      "image 45/300 /home/ray/Downloads/Stomata/All/T16L600_W1_GC1_R2_P81_g99_3.jpg: 480x640 5 completes, 12 blurry.completes, 1 hair, 3.5ms\n",
      "image 46/300 /home/ray/Downloads/Stomata/All/T16L600_W1_GC1_R2_P81_g99_6.jpg: 480x640 9 completes, 32 blurry.completes, 8 hairs, 3.4ms\n",
      "image 47/300 /home/ray/Downloads/Stomata/All/T16L600_W1_GC1_R2_P86_g18_1.jpg: 480x640 6 completes, 9 blurry.completes, 4.6ms\n",
      "image 48/300 /home/ray/Downloads/Stomata/All/T16L600_W1_GC1_R2_P86_g18_7.jpg: 480x640 14 completes, 9 blurry.completes, 5 hairs, 3.4ms\n",
      "image 49/300 /home/ray/Downloads/Stomata/All/T16L600_W1_GC1_R2_P89_g92_2.jpg: 480x640 20 completes, 6 blurry.completes, 5 hairs, 3.8ms\n",
      "image 50/300 /home/ray/Downloads/Stomata/All/T16L600_W1_GC1_R2_P89_g92_6.jpg: 480x640 5 completes, 34 blurry.completes, 3 hairs, 4.2ms\n",
      "image 51/300 /home/ray/Downloads/Stomata/All/T16L600_W1_GC1_R2_P90_g67_2.jpg: 480x640 11 completes, 10 blurry.completes, 1 hair, 52.0ms\n",
      "image 52/300 /home/ray/Downloads/Stomata/All/T16L600_W1_GC1_R2_P90_g67_7.jpg: 480x640 7 completes, 28 blurry.completes, 2 hairs, 3.8ms\n",
      "image 53/300 /home/ray/Downloads/Stomata/All/T16L600_W1_GC1_R2_P92_g12_2.jpg: 480x640 7 completes, 19 blurry.completes, 1 hair, 3.5ms\n",
      "image 54/300 /home/ray/Downloads/Stomata/All/T16L600_W1_GC1_R2_P92_g12_6.jpg: 480x640 13 completes, 25 blurry.completes, 1 hair, 3.5ms\n",
      "image 55/300 /home/ray/Downloads/Stomata/All/T16L600_W1_GC1_R2_P93_g49_3.jpg: 480x640 12 completes, 16 blurry.completes, 1 hair, 3.6ms\n",
      "image 56/300 /home/ray/Downloads/Stomata/All/T16L600_W1_GC1_R2_P93_g49_7.jpg: 480x640 5 completes, 32 blurry.completes, 6 hairs, 3.7ms\n",
      "image 57/300 /home/ray/Downloads/Stomata/All/T16L600_W1_GC1_R2_P96_g50_2.jpg: 480x640 14 completes, 10 blurry.completes, 4 hairs, 3.4ms\n",
      "image 58/300 /home/ray/Downloads/Stomata/All/T16L600_W1_GC1_R2_P96_g50_7.jpg: 480x640 14 completes, 15 blurry.completes, 1 hair, 3.6ms\n",
      "image 59/300 /home/ray/Downloads/Stomata/All/T16L600_W1_GC1_R2_P97_g47_3.jpg: 480x640 13 completes, 7 blurry.completes, 1 hair, 3.7ms\n",
      "image 60/300 /home/ray/Downloads/Stomata/All/T16L600_W1_GC1_R2_P97_g47_6.jpg: 480x640 10 completes, 18 blurry.completes, 1 hair, 4.5ms\n",
      "image 61/300 /home/ray/Downloads/Stomata/All/T16L600_W1_GC2_R6_P326_g176_2.jpg: 480x640 12 completes, 12 blurry.completes, 1 hair, 3.6ms\n",
      "image 62/300 /home/ray/Downloads/Stomata/All/T16L600_W1_GC2_R6_P326_g176_5.jpg: 480x640 7 completes, 21 blurry.completes, 1 hair, 4.1ms\n",
      "image 63/300 /home/ray/Downloads/Stomata/All/T16L600_W1_GC2_R6_P327_g108_2.jpg: 480x640 17 completes, 2 blurry.completes, 3.5ms\n",
      "image 64/300 /home/ray/Downloads/Stomata/All/T16L600_W1_GC2_R6_P327_g108_5.jpg: 480x640 22 completes, 9 blurry.completes, 3.6ms\n",
      "image 65/300 /home/ray/Downloads/Stomata/All/T16L600_W1_GC2_R6_P329_g199_4.jpg: 480x640 7 completes, 12 blurry.completes, 3.4ms\n",
      "image 66/300 /home/ray/Downloads/Stomata/All/T16L600_W1_GC2_R6_P329_g199_5.jpg: 480x640 7 completes, 14 blurry.completes, 8 blurry.incompletes, 2 hairs, 4.0ms\n",
      "image 67/300 /home/ray/Downloads/Stomata/All/T16L600_W1_GC2_R6_P330_g161_4.jpg: 480x640 12 completes, 10 blurry.completes, 20 hairs, 4.3ms\n",
      "image 68/300 /home/ray/Downloads/Stomata/All/T16L600_W1_GC2_R6_P330_g161_5.jpg: 480x640 11 completes, 27 blurry.completes, 6 hairs, 39.5ms\n",
      "image 69/300 /home/ray/Downloads/Stomata/All/T16L600_W1_GC2_R6_P333_g134_3.jpg: 480x640 2 completes, 20 blurry.completes, 4 hairs, 4.0ms\n",
      "image 70/300 /home/ray/Downloads/Stomata/All/T16L600_W1_GC2_R6_P333_g134_7.jpg: 480x640 7 completes, 21 blurry.completes, 4 hairs, 3.7ms\n",
      "image 71/300 /home/ray/Downloads/Stomata/All/T16L600_W1_GC2_R6_P335_g229_4.jpg: 480x640 7 completes, 18 blurry.completes, 3.4ms\n",
      "image 72/300 /home/ray/Downloads/Stomata/All/T16L600_W1_GC2_R6_P335_g229_7.jpg: 480x640 9 completes, 30 blurry.completes, 1 hair, 3.4ms\n",
      "image 73/300 /home/ray/Downloads/Stomata/All/T16L600_W1_GC2_R6_P337_g222_4.jpg: 480x640 18 completes, 5 blurry.completes, 1 hair, 3.8ms\n",
      "image 74/300 /home/ray/Downloads/Stomata/All/T16L600_W1_GC2_R6_P337_g222_5.jpg: 480x640 7 completes, 28 blurry.completes, 1 hair, 43.3ms\n",
      "image 75/300 /home/ray/Downloads/Stomata/All/T16L600_W1_GC2_R6_P338_g173_1.jpg: 480x640 8 completes, 11 blurry.completes, 3.4ms\n",
      "image 76/300 /home/ray/Downloads/Stomata/All/T16L600_W1_GC2_R6_P338_g173_7.jpg: 480x640 15 completes, 1 incomplete, 8 blurry.completes, 2 blurry.incompletes, 2 hairs, 3.4ms\n",
      "image 77/300 /home/ray/Downloads/Stomata/All/T16L600_W1_GC2_R6_P339_g178_1.jpg: 480x640 10 completes, 4 blurry.completes, 3.5ms\n",
      "image 78/300 /home/ray/Downloads/Stomata/All/T16L600_W1_GC2_R6_P339_g178_5.jpg: 480x640 13 completes, 14 blurry.completes, 10 hairs, 3.6ms\n",
      "image 79/300 /home/ray/Downloads/Stomata/All/T16L600_W1_GC2_R6_P340_g221_2.jpg: 480x640 11 completes, 9 blurry.completes, 1 hair, 4.2ms\n",
      "image 80/300 /home/ray/Downloads/Stomata/All/T16L600_W1_GC2_R6_P340_g221_6.jpg: 480x640 35 blurry.completes, 7 hairs, 3.6ms\n",
      "image 81/300 /home/ray/Downloads/Stomata/All/T16L600_W1_GC2_R6_P341_g119_2.jpg: 480x640 10 completes, 6 blurry.completes, 3.8ms\n",
      "image 82/300 /home/ray/Downloads/Stomata/All/T16L600_W1_GC2_R6_P341_g119_8.jpg: 480x640 11 completes, 20 blurry.completes, 6 hairs, 3.8ms\n",
      "image 83/300 /home/ray/Downloads/Stomata/All/T16L600_W1_GC2_R6_P342_g203_1.jpg: 480x640 13 completes, 12 blurry.completes, 1 hair, 3.4ms\n",
      "image 84/300 /home/ray/Downloads/Stomata/All/T16L600_W1_GC2_R6_P342_g203_6.jpg: 480x640 12 completes, 15 blurry.completes, 1 hair, 3.9ms\n",
      "image 85/300 /home/ray/Downloads/Stomata/All/T16L600_W1_GC2_R6_P344_g126_4.jpg: 480x640 12 completes, 4 blurry.completes, 1 hair, 3.5ms\n",
      "image 86/300 /home/ray/Downloads/Stomata/All/T16L600_W1_GC2_R6_P344_g126_6.jpg: 480x640 9 completes, 21 blurry.completes, 5 hairs, 4.3ms\n",
      "image 87/300 /home/ray/Downloads/Stomata/All/T16L600_W1_GC2_R6_P346_g209_3.jpg: 480x640 10 completes, 8 blurry.completes, 4.0ms\n",
      "image 88/300 /home/ray/Downloads/Stomata/All/T16L600_W1_GC2_R6_P346_g209_6.jpg: 480x640 8 completes, 21 blurry.completes, 4 hairs, 3.4ms\n",
      "image 89/300 /home/ray/Downloads/Stomata/All/T16L600_W1_GC2_R6_P349_g225_2.jpg: 480x640 8 completes, 11 blurry.completes, 3.8ms\n",
      "image 90/300 /home/ray/Downloads/Stomata/All/T16L600_W1_GC2_R6_P349_g225_5.jpg: 480x640 7 completes, 19 blurry.completes, 1 hair, 3.4ms\n",
      "image 91/300 /home/ray/Downloads/Stomata/All/T16L600_W1_GC2_R6_P352_g193_4.jpg: 480x640 9 completes, 10 blurry.completes, 3.4ms\n",
      "image 92/300 /home/ray/Downloads/Stomata/All/T16L600_W1_GC2_R6_P352_g193_5.jpg: 480x640 27 blurry.completes, 5 hairs, 3.4ms\n",
      "image 93/300 /home/ray/Downloads/Stomata/All/T16L600_W1_GC2_R6_P353_g136_4.jpg: 480x640 11 completes, 10 blurry.completes, 5 hairs, 4.4ms\n",
      "image 94/300 /home/ray/Downloads/Stomata/All/T16L600_W1_GC2_R6_P353_g136_5.jpg: 480x640 3 completes, 22 blurry.completes, 2 hairs, 3.6ms\n",
      "image 95/300 /home/ray/Downloads/Stomata/All/T16L600_W1_GC2_R6_P355_g111_4.jpg: 480x640 9 completes, 8 blurry.completes, 18 hairs, 4.3ms\n",
      "image 96/300 /home/ray/Downloads/Stomata/All/T16L600_W1_GC2_R6_P355_g111_6.jpg: 480x640 12 completes, 19 blurry.completes, 1 hair, 3.4ms\n",
      "image 97/300 /home/ray/Downloads/Stomata/All/T16L600_W1_GC2_R6_P357_g166_2.jpg: 480x640 10 completes, 17 blurry.completes, 3.8ms\n",
      "image 98/300 /home/ray/Downloads/Stomata/All/T16L600_W1_GC2_R6_P357_g166_6.jpg: 480x640 18 completes, 9 blurry.completes, 4 hairs, 3.2ms\n",
      "image 99/300 /home/ray/Downloads/Stomata/All/T16L600_W1_GC2_R6_P358_g150_4.jpg: 480x640 2 completes, 23 blurry.completes, 10 hairs, 4.0ms\n",
      "image 100/300 /home/ray/Downloads/Stomata/All/T16L600_W1_GC2_R6_P358_g150_6.jpg: 480x640 25 blurry.completes, 9 hairs, 45.7ms\n",
      "image 101/300 /home/ray/Downloads/Stomata/All/T16L600_W1_GC2_R6_P365_g109_4.jpg: 480x640 11 completes, 6 blurry.completes, 11 hairs, 3.4ms\n",
      "image 102/300 /home/ray/Downloads/Stomata/All/T16L600_W1_GC2_R6_P365_g109_7.jpg: 480x640 10 completes, 26 blurry.completes, 2 hairs, 3.9ms\n",
      "image 103/300 /home/ray/Downloads/Stomata/All/T16L600_W1_GC2_R6_P366_g212_4.jpg: 480x640 13 completes, 11 blurry.completes, 1 hair, 3.4ms\n",
      "image 104/300 /home/ray/Downloads/Stomata/All/T16L600_W1_GC2_R6_P366_g212_6.jpg: 480x640 13 completes, 22 blurry.completes, 1 hair, 4.4ms\n",
      "image 105/300 /home/ray/Downloads/Stomata/All/T16L600_W1_GC2_R6_P368_g130_1.jpg: 480x640 8 completes, 7 blurry.completes, 3.7ms\n",
      "image 106/300 /home/ray/Downloads/Stomata/All/T16L600_W1_GC2_R6_P368_g130_7.jpg: 480x640 3 completes, 21 blurry.completes, 2 hairs, 4.0ms\n",
      "image 107/300 /home/ray/Downloads/Stomata/All/T16L600_W1_GC2_R6_P369_g118_2.jpg: 480x640 18 completes, 3.9ms\n",
      "image 108/300 /home/ray/Downloads/Stomata/All/T16L600_W1_GC2_R6_P369_g118_6.jpg: 480x640 3 completes, 24 blurry.completes, 12 hairs, 4.7ms\n",
      "image 109/300 /home/ray/Downloads/Stomata/All/T16L600_W1_GC2_R6_P370_g180_1.jpg: 480x640 9 completes, 11 blurry.completes, 5 hairs, 3.4ms\n",
      "image 110/300 /home/ray/Downloads/Stomata/All/T16L600_W1_GC2_R6_P370_g180_5.jpg: 480x640 5 completes, 18 blurry.completes, 2 hairs, 3.4ms\n",
      "image 111/300 /home/ray/Downloads/Stomata/All/T16L600_W1_GC2_R6_P373_g194_2.jpg: 480x640 6 completes, 11 blurry.completes, 5 hairs, 3.4ms\n",
      "image 112/300 /home/ray/Downloads/Stomata/All/T16L600_W1_GC2_R6_P373_g194_8.jpg: 480x640 4 completes, 23 blurry.completes, 7 hairs, 4.5ms\n",
      "image 113/300 /home/ray/Downloads/Stomata/All/T16L600_W1_GC2_R6_P376_g201_4.jpg: 480x640 10 completes, 14 hairs, 4.1ms\n",
      "image 114/300 /home/ray/Downloads/Stomata/All/T16L600_W1_GC2_R6_P376_g201_8.jpg: 480x640 2 completes, 25 blurry.completes, 11 hairs, 3.7ms\n",
      "image 115/300 /home/ray/Downloads/Stomata/All/T16L600_W1_GC2_R6_P378_g213_2.jpg: 480x640 11 completes, 5 blurry.completes, 3.4ms\n",
      "image 116/300 /home/ray/Downloads/Stomata/All/T16L600_W1_GC2_R6_P378_g213_5.jpg: 480x640 5 completes, 19 blurry.completes, 1 hair, 3.1ms\n",
      "image 117/300 /home/ray/Downloads/Stomata/All/T16L600_W1_GC2_R6_P379_g171_4.jpg: 480x640 10 completes, 10 blurry.completes, 4 hairs, 3.6ms\n",
      "image 118/300 /home/ray/Downloads/Stomata/All/T16L600_W1_GC2_R6_P379_g171_7.jpg: 480x640 4 completes, 20 blurry.completes, 8 hairs, 3.4ms\n",
      "image 119/300 /home/ray/Downloads/Stomata/All/T16L600_W1_GC2_R6_P382_g190_4.jpg: 480x640 9 completes, 9 blurry.completes, 1 hair, 3.6ms\n",
      "image 120/300 /home/ray/Downloads/Stomata/All/T16L600_W1_GC2_R6_P382_g190_5.jpg: 480x640 25 blurry.completes, 3 hairs, 3.9ms\n",
      "image 121/300 /home/ray/Downloads/Stomata/All/T16L600_W3_GC1_R2_P100_g103_2.jpg: 480x640 10 completes, 13 blurry.completes, 5 hairs, 3.7ms\n",
      "image 122/300 /home/ray/Downloads/Stomata/All/T16L600_W3_GC1_R2_P100_g103_6.jpg: 480x640 10 completes, 25 blurry.completes, 4 hairs, 3.6ms\n",
      "image 123/300 /home/ray/Downloads/Stomata/All/T16L600_W3_GC1_R2_P106_g60_2.jpg: 480x640 12 completes, 11 blurry.completes, 1 hair, 3.2ms\n",
      "image 124/300 /home/ray/Downloads/Stomata/All/T16L600_W3_GC1_R2_P106_g60_6.jpg: 480x640 12 completes, 21 blurry.completes, 3 hairs, 3.6ms\n",
      "image 125/300 /home/ray/Downloads/Stomata/All/T16L600_W3_GC1_R2_P107_g54_3.jpg: 480x640 15 completes, 6 blurry.completes, 5 hairs, 4.9ms\n",
      "image 126/300 /home/ray/Downloads/Stomata/All/T16L600_W3_GC1_R2_P107_g54_6.jpg: 480x640 32 completes, 1 incomplete, 5 blurry.completes, 10 hairs, 53.8ms\n",
      "image 127/300 /home/ray/Downloads/Stomata/All/T16L600_W3_GC1_R2_P110_g88_2.jpg: 480x640 15 completes, 14 blurry.completes, 2 hairs, 32.9ms\n",
      "image 128/300 /home/ray/Downloads/Stomata/All/T16L600_W3_GC1_R2_P110_g88_7.jpg: 480x640 23 completes, 7 blurry.completes, 3.6ms\n",
      "image 129/300 /home/ray/Downloads/Stomata/All/T16L600_W3_GC1_R2_P111_g31_4.jpg: 480x640 14 completes, 7 blurry.completes, 2 hairs, 4.0ms\n",
      "image 130/300 /home/ray/Downloads/Stomata/All/T16L600_W3_GC1_R2_P111_g31_5.jpg: 480x640 13 completes, 14 blurry.completes, 2 hairs, 3.3ms\n",
      "image 131/300 /home/ray/Downloads/Stomata/All/T16L600_W3_GC1_R2_P112_g83_1.jpg: 480x640 12 completes, 5 blurry.completes, 1 hair, 3.2ms\n",
      "image 132/300 /home/ray/Downloads/Stomata/All/T16L600_W3_GC1_R2_P112_g83_6.jpg: 480x640 16 completes, 25 blurry.completes, 6 hairs, 3.3ms\n",
      "image 133/300 /home/ray/Downloads/Stomata/All/T16L600_W3_GC1_R2_P113_g61_1.jpg: 480x640 11 completes, 7 blurry.completes, 3 hairs, 3.2ms\n",
      "image 134/300 /home/ray/Downloads/Stomata/All/T16L600_W3_GC1_R2_P113_g61_5.jpg: 480x640 24 completes, 11 blurry.completes, 4 hairs, 4.1ms\n",
      "image 135/300 /home/ray/Downloads/Stomata/All/T16L600_W3_GC1_R2_P115_g48_2.jpg: 480x640 16 completes, 6 blurry.completes, 2 hairs, 3.5ms\n",
      "image 136/300 /home/ray/Downloads/Stomata/All/T16L600_W3_GC1_R2_P115_g48_7.jpg: 480x640 21 completes, 9 blurry.completes, 16 hairs, 6.1ms\n",
      "image 137/300 /home/ray/Downloads/Stomata/All/T16L600_W3_GC1_R2_P116_g44_2.jpg: 480x640 8 completes, 24 blurry.completes, 2 hairs, 3.5ms\n",
      "image 138/300 /home/ray/Downloads/Stomata/All/T16L600_W3_GC1_R2_P116_g44_5.jpg: 480x640 9 completes, 25 blurry.completes, 2 hairs, 3.6ms\n",
      "image 139/300 /home/ray/Downloads/Stomata/All/T16L600_W3_GC1_R2_P117_g97_3.jpg: 480x640 17 completes, 2 blurry.completes, 27 hairs, 3.4ms\n",
      "image 140/300 /home/ray/Downloads/Stomata/All/T16L600_W3_GC1_R2_P117_g97_8.jpg: 480x640 13 completes, 9 blurry.completes, 21 hairs, 3.5ms\n",
      "image 141/300 /home/ray/Downloads/Stomata/All/T16L600_W3_GC1_R2_P118_g29_1.jpg: 480x640 27 completes, 3.3ms\n",
      "image 142/300 /home/ray/Downloads/Stomata/All/T16L600_W3_GC1_R2_P118_g29_5.jpg: 480x640 7 completes, 33 blurry.completes, 7 hairs, 3.4ms\n",
      "image 143/300 /home/ray/Downloads/Stomata/All/T16L600_W3_GC1_R2_P119_g26_2.jpg: 480x640 13 completes, 5 blurry.completes, 1 hair, 3.6ms\n",
      "image 144/300 /home/ray/Downloads/Stomata/All/T16L600_W3_GC1_R2_P119_g26_6.jpg: 480x640 16 completes, 21 blurry.completes, 2 hairs, 3.8ms\n",
      "image 145/300 /home/ray/Downloads/Stomata/All/T16L600_W3_GC1_R2_P121_g105_2.jpg: 480x640 19 completes, 9 blurry.completes, 15 hairs, 3.5ms\n",
      "image 146/300 /home/ray/Downloads/Stomata/All/T16L600_W3_GC1_R2_P121_g105_5.jpg: 480x640 31 completes, 6 hairs, 3.3ms\n",
      "image 147/300 /home/ray/Downloads/Stomata/All/T16L600_W3_GC1_R2_P123_g35_4.jpg: 480x640 13 completes, 10 blurry.completes, 33 hairs, 3.5ms\n",
      "image 148/300 /home/ray/Downloads/Stomata/All/T16L600_W3_GC1_R2_P123_g35_8.jpg: 480x640 14 completes, 18 blurry.completes, 15 hairs, 4.3ms\n",
      "image 149/300 /home/ray/Downloads/Stomata/All/T16L600_W3_GC1_R2_P127_g16_3.jpg: 480x640 19 completes, 4 blurry.completes, 1 hair, 4.0ms\n",
      "image 150/300 /home/ray/Downloads/Stomata/All/T16L600_W3_GC1_R2_P127_g16_7.jpg: 480x640 18 completes, 17 blurry.completes, 3 hairs, 3.7ms\n",
      "image 151/300 /home/ray/Downloads/Stomata/All/T16L600_W3_GC1_R2_P129_g90_2.jpg: 480x640 18 completes, 6 blurry.completes, 16 hairs, 3.5ms\n",
      "image 152/300 /home/ray/Downloads/Stomata/All/T16L600_W3_GC1_R2_P129_g90_5.jpg: 480x640 8 completes, 24 blurry.completes, 7 hairs, 3.4ms\n",
      "image 153/300 /home/ray/Downloads/Stomata/All/T16L600_W3_GC1_R2_P132_g87_2.jpg: 480x640 20 completes, 5 blurry.completes, 22 hairs, 3.6ms\n",
      "image 154/300 /home/ray/Downloads/Stomata/All/T16L600_W3_GC1_R2_P132_g87_8.jpg: 480x640 25 completes, 12 blurry.completes, 20 hairs, 4.6ms\n",
      "image 155/300 /home/ray/Downloads/Stomata/All/T16L600_W3_GC1_R2_P74_g55_4.jpg: 480x640 17 completes, 5 blurry.completes, 35 hairs, 3.8ms\n",
      "image 156/300 /home/ray/Downloads/Stomata/All/T16L600_W3_GC1_R2_P74_g55_5.jpg: 480x640 26 blurry.completes, 1 hair, 54.5ms\n",
      "image 157/300 /home/ray/Downloads/Stomata/All/T16L600_W3_GC1_R2_P76_g13_1.jpg: 480x640 7 completes, 14 blurry.completes, 3.8ms\n",
      "image 158/300 /home/ray/Downloads/Stomata/All/T16L600_W3_GC1_R2_P76_g13_7.jpg: 480x640 12 completes, 16 blurry.completes, 5 hairs, 3.8ms\n",
      "image 159/300 /home/ray/Downloads/Stomata/All/T16L600_W3_GC1_R2_P77_g66_2.jpg: 480x640 14 completes, 5 blurry.completes, 2 hairs, 3.4ms\n",
      "image 160/300 /home/ray/Downloads/Stomata/All/T16L600_W3_GC1_R2_P77_g66_8.jpg: 480x640 15 completes, 18 blurry.completes, 16 hairs, 4.7ms\n",
      "image 161/300 /home/ray/Downloads/Stomata/All/T16L600_W3_GC1_R2_P78_g80_4.jpg: 480x640 13 completes, 5 blurry.completes, 25 hairs, 4.2ms\n",
      "image 162/300 /home/ray/Downloads/Stomata/All/T16L600_W3_GC1_R2_P78_g80_8.jpg: 480x640 26 blurry.completes, 12 hairs, 3.5ms\n",
      "image 163/300 /home/ray/Downloads/Stomata/All/T16L600_W3_GC1_R2_P80_g100_2.jpg: 480x640 14 completes, 7 blurry.completes, 2 hairs, 3.6ms\n",
      "image 164/300 /home/ray/Downloads/Stomata/All/T16L600_W3_GC1_R2_P80_g100_7.jpg: 480x640 5 completes, 24 blurry.completes, 16 hairs, 3.4ms\n",
      "image 165/300 /home/ray/Downloads/Stomata/All/T16L600_W3_GC1_R2_P81_g99_2.jpg: 480x640 16 completes, 10 blurry.completes, 2 hairs, 3.5ms\n",
      "image 166/300 /home/ray/Downloads/Stomata/All/T16L600_W3_GC1_R2_P81_g99_8.jpg: 480x640 9 completes, 30 blurry.completes, 3 hairs, 4.6ms\n",
      "image 167/300 /home/ray/Downloads/Stomata/All/T16L600_W3_GC1_R2_P86_g18_2.jpg: 480x640 7 completes, 13 blurry.completes, 3 hairs, 3.4ms\n",
      "image 168/300 /home/ray/Downloads/Stomata/All/T16L600_W3_GC1_R2_P86_g18_6.jpg: 480x640 16 completes, 12 blurry.completes, 9 hairs, 3.4ms\n",
      "image 169/300 /home/ray/Downloads/Stomata/All/T16L600_W3_GC1_R2_P89_g92_1.jpg: 480x640 12 completes, 9 blurry.completes, 1 hair, 3.4ms\n",
      "image 170/300 /home/ray/Downloads/Stomata/All/T16L600_W3_GC1_R2_P89_g92_8.jpg: 480x640 22 completes, 4 blurry.completes, 6 hairs, 3.4ms\n",
      "image 171/300 /home/ray/Downloads/Stomata/All/T16L600_W3_GC1_R2_P90_g67_4.jpg: 480x640 17 completes, 7 blurry.completes, 8 hairs, 4.0ms\n",
      "image 172/300 /home/ray/Downloads/Stomata/All/T16L600_W3_GC1_R2_P90_g67_8.jpg: 480x640 18 completes, 27 blurry.completes, 8 hairs, 3.4ms\n",
      "image 173/300 /home/ray/Downloads/Stomata/All/T16L600_W3_GC1_R2_P92_g12_3.jpg: 480x640 19 completes, 6 blurry.completes, 3 hairs, 3.4ms\n",
      "image 174/300 /home/ray/Downloads/Stomata/All/T16L600_W3_GC1_R2_P92_g12_6.jpg: 480x640 24 completes, 5 blurry.completes, 2 hairs, 3.3ms\n",
      "image 175/300 /home/ray/Downloads/Stomata/All/T16L600_W3_GC1_R2_P93_g49_2.jpg: 480x640 21 completes, 3 blurry.completes, 5 hairs, 3.4ms\n",
      "image 176/300 /home/ray/Downloads/Stomata/All/T16L600_W3_GC1_R2_P93_g49_5.jpg: 480x640 16 completes, 22 blurry.completes, 2 hairs, 3.6ms\n",
      "image 177/300 /home/ray/Downloads/Stomata/All/T16L600_W3_GC1_R2_P96_g50_2.jpg: 480x640 19 completes, 1 blurry.complete, 5 hairs, 3.6ms\n",
      "image 178/300 /home/ray/Downloads/Stomata/All/T16L600_W3_GC1_R2_P96_g50_5.jpg: 480x640 19 completes, 15 blurry.completes, 7 hairs, 3.3ms\n",
      "image 179/300 /home/ray/Downloads/Stomata/All/T16L600_W3_GC1_R2_P97_g47_1.jpg: 480x640 9 completes, 13 blurry.completes, 6 hairs, 3.9ms\n",
      "image 180/300 /home/ray/Downloads/Stomata/All/T16L600_W3_GC1_R2_P97_g47_6.jpg: 480x640 22 completes, 15 blurry.completes, 3 hairs, 3.8ms\n",
      "image 181/300 /home/ray/Downloads/Stomata/All/T16L600_W3_GC2_R6_P326_g176_1.jpg: 480x640 16 completes, 5 blurry.completes, 3.5ms\n",
      "image 182/300 /home/ray/Downloads/Stomata/All/T16L600_W3_GC2_R6_P326_g176_6.jpg: 480x640 21 completes, 11 blurry.completes, 7 hairs, 3.5ms\n",
      "image 183/300 /home/ray/Downloads/Stomata/All/T16L600_W3_GC2_R6_P327_g108_1.jpg: 480x640 13 completes, 6 blurry.completes, 3 hairs, 4.4ms\n",
      "image 184/300 /home/ray/Downloads/Stomata/All/T16L600_W3_GC2_R6_P327_g108_5.jpg: 480x640 26 completes, 4 hairs, 3.7ms\n",
      "image 185/300 /home/ray/Downloads/Stomata/All/T16L600_W3_GC2_R6_P329_g199_4.jpg: 480x640 10 completes, 5 blurry.completes, 2 hairs, 3.4ms\n",
      "image 186/300 /home/ray/Downloads/Stomata/All/T16L600_W3_GC2_R6_P329_g199_5.jpg: 480x640 18 completes, 2 blurry.completes, 4 hairs, 3.4ms\n",
      "image 187/300 /home/ray/Downloads/Stomata/All/T16L600_W3_GC2_R6_P330_g161_3.jpg: 480x640 12 completes, 13 blurry.completes, 5 hairs, 3.4ms\n",
      "image 188/300 /home/ray/Downloads/Stomata/All/T16L600_W3_GC2_R6_P330_g161_5.jpg: 480x640 21 completes, 16 blurry.completes, 8 hairs, 3.5ms\n",
      "image 189/300 /home/ray/Downloads/Stomata/All/T16L600_W3_GC2_R6_P333_g134_1.jpg: 480x640 13 completes, 5 blurry.completes, 3 hairs, 3.8ms\n",
      "image 190/300 /home/ray/Downloads/Stomata/All/T16L600_W3_GC2_R6_P333_g134_5.jpg: 480x640 16 completes, 24 blurry.completes, 3 hairs, 4.7ms\n",
      "image 191/300 /home/ray/Downloads/Stomata/All/T16L600_W3_GC2_R6_P335_g229_1.jpg: 480x640 11 completes, 14 blurry.completes, 1 hair, 47.9ms\n",
      "image 192/300 /home/ray/Downloads/Stomata/All/T16L600_W3_GC2_R6_P335_g229_7.jpg: 480x640 13 completes, 17 blurry.completes, 6 hairs, 3.5ms\n",
      "image 193/300 /home/ray/Downloads/Stomata/All/T16L600_W3_GC2_R6_P337_g222_2.jpg: 480x640 10 completes, 14 blurry.completes, 3.3ms\n",
      "image 194/300 /home/ray/Downloads/Stomata/All/T16L600_W3_GC2_R6_P337_g222_8.jpg: 480x640 8 completes, 24 blurry.completes, 2 hairs, 3.4ms\n",
      "image 195/300 /home/ray/Downloads/Stomata/All/T16L600_W3_GC2_R6_P338_g173_1.jpg: 480x640 13 completes, 7 blurry.completes, 4.1ms\n",
      "image 196/300 /home/ray/Downloads/Stomata/All/T16L600_W3_GC2_R6_P338_g173_6.jpg: 480x640 19 completes, 1 incomplete, 5 blurry.completes, 3 hairs, 3.4ms\n",
      "image 197/300 /home/ray/Downloads/Stomata/All/T16L600_W3_GC2_R6_P339_g178_2.jpg: 480x640 7 completes, 3 blurry.completes, 4 hairs, 3.4ms\n",
      "image 198/300 /home/ray/Downloads/Stomata/All/T16L600_W3_GC2_R6_P339_g178_5.jpg: 480x640 12 completes, 18 blurry.completes, 6 hairs, 4.2ms\n",
      "image 199/300 /home/ray/Downloads/Stomata/All/T16L600_W3_GC2_R6_P340_g221_1.jpg: 480x640 19 completes, 7 blurry.completes, 6 hairs, 3.2ms\n",
      "image 200/300 /home/ray/Downloads/Stomata/All/T16L600_W3_GC2_R6_P340_g221_8.jpg: 480x640 23 completes, 7 blurry.completes, 4 hairs, 3.7ms\n",
      "image 201/300 /home/ray/Downloads/Stomata/All/T16L600_W3_GC2_R6_P341_g119_3.jpg: 480x640 16 completes, 2 hairs, 3.4ms\n",
      "image 202/300 /home/ray/Downloads/Stomata/All/T16L600_W3_GC2_R6_P341_g119_5.jpg: 480x640 18 completes, 6 blurry.completes, 6 hairs, 4.0ms\n",
      "image 203/300 /home/ray/Downloads/Stomata/All/T16L600_W3_GC2_R6_P342_g203_1.jpg: 480x640 11 completes, 5 blurry.completes, 3 hairs, 4.0ms\n",
      "image 204/300 /home/ray/Downloads/Stomata/All/T16L600_W3_GC2_R6_P342_g203_7.jpg: 480x640 15 completes, 10 blurry.completes, 5 hairs, 3.4ms\n",
      "image 205/300 /home/ray/Downloads/Stomata/All/T16L600_W3_GC2_R6_P344_g126_1.jpg: 480x640 15 completes, 6 blurry.completes, 2 hairs, 3.6ms\n",
      "image 206/300 /home/ray/Downloads/Stomata/All/T16L600_W3_GC2_R6_P344_g126_8.jpg: 480x640 22 completes, 6 blurry.completes, 15 hairs, 4.7ms\n",
      "image 207/300 /home/ray/Downloads/Stomata/All/T16L600_W3_GC2_R6_P346_g209_1.jpg: 480x640 17 completes, 38.3ms\n",
      "image 208/300 /home/ray/Downloads/Stomata/All/T16L600_W3_GC2_R6_P346_g209_8.jpg: 480x640 21 completes, 4 blurry.completes, 14 hairs, 3.7ms\n",
      "image 209/300 /home/ray/Downloads/Stomata/All/T16L600_W3_GC2_R6_P349_g225_3.jpg: 480x640 19 completes, 4 blurry.completes, 2 hairs, 3.2ms\n",
      "image 210/300 /home/ray/Downloads/Stomata/All/T16L600_W3_GC2_R6_P349_g225_8.jpg: 480x640 21 completes, 10 blurry.completes, 15 hairs, 3.6ms\n",
      "image 211/300 /home/ray/Downloads/Stomata/All/T16L600_W3_GC2_R6_P352_g193_4.jpg: 480x640 14 completes, 5 blurry.completes, 16 hairs, 3.6ms\n",
      "image 212/300 /home/ray/Downloads/Stomata/All/T16L600_W3_GC2_R6_P352_g193_8.jpg: 480x640 15 completes, 17 blurry.completes, 34 hairs, 3.4ms\n",
      "image 213/300 /home/ray/Downloads/Stomata/All/T16L600_W3_GC2_R6_P353_g136_2.jpg: 480x640 15 completes, 1 blurry.complete, 3 hairs, 4.6ms\n",
      "image 214/300 /home/ray/Downloads/Stomata/All/T16L600_W3_GC2_R6_P353_g136_6.jpg: 480x640 23 completes, 1 blurry.complete, 2 hairs, 3.3ms\n",
      "image 215/300 /home/ray/Downloads/Stomata/All/T16L600_W3_GC2_R6_P355_g111_1.jpg: 480x640 14 completes, 4 blurry.completes, 2 hairs, 3.4ms\n",
      "image 216/300 /home/ray/Downloads/Stomata/All/T16L600_W3_GC2_R6_P355_g111_8.jpg: 480x640 23 completes, 2 blurry.completes, 11 hairs, 3.6ms\n",
      "image 217/300 /home/ray/Downloads/Stomata/All/T16L600_W3_GC2_R6_P357_g166_2.jpg: 480x640 19 completes, 2 blurry.completes, 3.2ms\n",
      "image 218/300 /home/ray/Downloads/Stomata/All/T16L600_W3_GC2_R6_P357_g166_7.jpg: 480x640 14 completes, 20 blurry.completes, 7 hairs, 3.5ms\n",
      "image 219/300 /home/ray/Downloads/Stomata/All/T16L600_W3_GC2_R6_P358_g150_4.jpg: 480x640 17 completes, 4 blurry.completes, 6 hairs, 3.6ms\n",
      "image 220/300 /home/ray/Downloads/Stomata/All/T16L600_W3_GC2_R6_P358_g150_5.jpg: 480x640 21 completes, 9 blurry.completes, 1 hair, 3.4ms\n",
      "image 221/300 /home/ray/Downloads/Stomata/All/T16L600_W3_GC2_R6_P365_g109_1.jpg: 480x640 19 completes, 6 blurry.completes, 1 hair, 3.4ms\n",
      "image 222/300 /home/ray/Downloads/Stomata/All/T16L600_W3_GC2_R6_P365_g109_6.jpg: 480x640 9 completes, 27 blurry.completes, 5 hairs, 3.6ms\n",
      "image 223/300 /home/ray/Downloads/Stomata/All/T16L600_W3_GC2_R6_P366_g212_4.jpg: 480x640 8 completes, 8 blurry.completes, 12 hairs, 3.5ms\n",
      "image 224/300 /home/ray/Downloads/Stomata/All/T16L600_W3_GC2_R6_P366_g212_5.jpg: 480x640 17 completes, 17 blurry.completes, 6 hairs, 4.2ms\n",
      "image 225/300 /home/ray/Downloads/Stomata/All/T16L600_W3_GC2_R6_P368_g130_1.jpg: 480x640 10 completes, 8 blurry.completes, 1 hair, 3.5ms\n",
      "image 226/300 /home/ray/Downloads/Stomata/All/T16L600_W3_GC2_R6_P368_g130_7.jpg: 480x640 14 completes, 12 blurry.completes, 7 hairs, 3.6ms\n",
      "image 227/300 /home/ray/Downloads/Stomata/All/T16L600_W3_GC2_R6_P369_g118_2.jpg: 480x640 14 completes, 9 blurry.completes, 4 hairs, 4.0ms\n",
      "image 228/300 /home/ray/Downloads/Stomata/All/T16L600_W3_GC2_R6_P369_g118_7.jpg: 480x640 6 completes, 30 blurry.completes, 5 hairs, 3.5ms\n",
      "image 229/300 /home/ray/Downloads/Stomata/All/T16L600_W3_GC2_R6_P370_g180_4.jpg: 480x640 12 completes, 2 blurry.completes, 5 hairs, 3.3ms\n",
      "image 230/300 /home/ray/Downloads/Stomata/All/T16L600_W3_GC2_R6_P370_g180_5.jpg: 480x640 10 completes, 25 blurry.completes, 2 hairs, 3.3ms\n",
      "image 231/300 /home/ray/Downloads/Stomata/All/T16L600_W3_GC2_R6_P373_g194_2.jpg: 480x640 16 completes, 7 blurry.completes, 5 hairs, 4.0ms\n",
      "image 232/300 /home/ray/Downloads/Stomata/All/T16L600_W3_GC2_R6_P373_g194_5.jpg: 480x640 20 completes, 13 blurry.completes, 1 hair, 3.4ms\n",
      "image 233/300 /home/ray/Downloads/Stomata/All/T16L600_W3_GC2_R6_P376_g201_2.jpg: 480x640 17 completes, 6 hairs, 3.5ms\n",
      "image 234/300 /home/ray/Downloads/Stomata/All/T16L600_W3_GC2_R6_P376_g201_6.jpg: 480x640 4 completes, 25 blurry.completes, 3 hairs, 3.5ms\n",
      "image 235/300 /home/ray/Downloads/Stomata/All/T16L600_W3_GC2_R6_P378_g213_1.jpg: 480x640 14 completes, 2 blurry.completes, 6 hairs, 41.5ms\n",
      "image 236/300 /home/ray/Downloads/Stomata/All/T16L600_W3_GC2_R6_P378_g213_5.jpg: 480x640 15 completes, 13 blurry.completes, 4 hairs, 4.0ms\n",
      "image 237/300 /home/ray/Downloads/Stomata/All/T16L600_W3_GC2_R6_P379_g171_1.jpg: 480x640 10 completes, 9 blurry.completes, 4 hairs, 3.6ms\n",
      "image 238/300 /home/ray/Downloads/Stomata/All/T16L600_W3_GC2_R6_P379_g171_6.jpg: 480x640 8 completes, 9 blurry.completes, 1 hair, 3.4ms\n",
      "image 239/300 /home/ray/Downloads/Stomata/All/T16L600_W3_GC2_R6_P382_g190_1.jpg: 480x640 11 completes, 7 blurry.completes, 3 hairs, 4.8ms\n",
      "image 240/300 /home/ray/Downloads/Stomata/All/T16L600_W3_GC2_R6_P382_g190_6.jpg: 480x640 17 completes, 18 blurry.completes, 4 hairs, 3.6ms\n",
      "image 241/300 /home/ray/Downloads/Stomata/All/T22L600_W1_A4_R4_P206_g225_2.jpg: 480x640 11 completes, 10 blurry.completes, 4 hairs, 3.6ms\n",
      "image 242/300 /home/ray/Downloads/Stomata/All/T22L600_W1_A4_R4_P206_g225_6.jpg: 480x640 21 completes, 13 blurry.completes, 5 hairs, 3.4ms\n",
      "image 243/300 /home/ray/Downloads/Stomata/All/T22L600_W1_A4_R4_P207_g134_4.jpg: 480x640 26 completes, 2 blurry.completes, 22 hairs, 4.2ms\n",
      "image 244/300 /home/ray/Downloads/Stomata/All/T22L600_W1_A4_R4_P207_g134_6.jpg: 480x640 11 completes, 22 blurry.completes, 20 hairs, 3.8ms\n",
      "image 245/300 /home/ray/Downloads/Stomata/All/T22L600_W1_A4_R4_P211_g213_2.jpg: 480x640 5 completes, 24 hairs, 4.3ms\n",
      "image 246/300 /home/ray/Downloads/Stomata/All/T22L600_W1_A4_R4_P211_g213_7.jpg: 480x640 8 completes, 13 blurry.completes, 12 hairs, 3.8ms\n",
      "image 247/300 /home/ray/Downloads/Stomata/All/T22L600_W1_A4_R4_P212_g166_2.jpg: 480x640 9 completes, 30 hairs, 3.5ms\n",
      "image 248/300 /home/ray/Downloads/Stomata/All/T22L600_W1_A4_R4_P212_g166_8.jpg: 480x640 11 completes, 29 blurry.completes, 20 hairs, 3.5ms\n",
      "image 249/300 /home/ray/Downloads/Stomata/All/T22L600_W1_A4_R4_P214_g203_4.jpg: 480x640 10 completes, 17 blurry.completes, 3 hairs, 3.5ms\n",
      "image 250/300 /home/ray/Downloads/Stomata/All/T22L600_W1_A4_R4_P214_g203_8.jpg: 480x640 6 completes, 35 blurry.completes, 5 hairs, 3.4ms\n",
      "image 251/300 /home/ray/Downloads/Stomata/All/T22L600_W1_A4_R4_P215_g199_4.jpg: 480x640 22 completes, 3 blurry.completes, 7 hairs, 3.6ms\n",
      "image 252/300 /home/ray/Downloads/Stomata/All/T22L600_W1_A4_R4_P215_g199_5.jpg: 480x640 8 completes, 23 blurry.completes, 3 hairs, 3.8ms\n",
      "image 253/300 /home/ray/Downloads/Stomata/All/T22L600_W1_A4_R4_P217_g173_4.jpg: 480x640 17 completes, 4 blurry.completes, 35 hairs, 3.3ms\n",
      "image 254/300 /home/ray/Downloads/Stomata/All/T22L600_W1_A4_R4_P217_g173_8.jpg: 480x640 14 completes, 3 blurry.completes, 6 hairs, 3.4ms\n",
      "image 255/300 /home/ray/Downloads/Stomata/All/T22L600_W1_A4_R4_P218_g229_4.jpg: 480x640 18 completes, 5 blurry.completes, 31 hairs, 3.5ms\n",
      "image 256/300 /home/ray/Downloads/Stomata/All/T22L600_W1_A4_R4_P218_g229_6.jpg: 480x640 17 completes, 14 blurry.completes, 4 hairs, 3.5ms\n",
      "image 257/300 /home/ray/Downloads/Stomata/All/T22L600_W1_A4_R4_P221_g201_4.jpg: 480x640 14 completes, 5 blurry.completes, 57 hairs, 3.6ms\n",
      "image 258/300 /home/ray/Downloads/Stomata/All/T22L600_W1_A4_R4_P221_g201_7.jpg: 480x640 44 completes, 5 blurry.completes, 17 hairs, 4.4ms\n",
      "image 259/300 /home/ray/Downloads/Stomata/All/T22L600_W1_A4_R4_P222_g180_1.jpg: 480x640 10 completes, 8 blurry.completes, 12 hairs, 3.4ms\n",
      "image 260/300 /home/ray/Downloads/Stomata/All/T22L600_W1_A4_R4_P222_g180_7.jpg: 480x640 21 completes, 21 blurry.completes, 20 hairs, 3.5ms\n",
      "image 261/300 /home/ray/Downloads/Stomata/All/T22L600_W1_A4_R4_P224_g109_1.jpg: 480x640 22 completes, 36 hairs, 3.4ms\n",
      "image 262/300 /home/ray/Downloads/Stomata/All/T22L600_W1_A4_R4_P224_g109_8.jpg: 480x640 14 completes, 13 blurry.completes, 1 blurry.incomplete, 17 hairs, 3.4ms\n",
      "image 263/300 /home/ray/Downloads/Stomata/All/T22L600_W1_A4_R4_P225_g221_3.jpg: 480x640 20 completes, 5 blurry.completes, 34 hairs, 3.1ms\n",
      "image 264/300 /home/ray/Downloads/Stomata/All/T22L600_W1_A4_R4_P225_g221_5.jpg: 480x640 7 completes, 13 blurry.completes, 18 hairs, 3.4ms\n",
      "image 265/300 /home/ray/Downloads/Stomata/All/T22L600_W1_A4_R4_P226_g130_4.jpg: 480x640 11 completes, 2 blurry.completes, 27 hairs, 3.7ms\n",
      "image 266/300 /home/ray/Downloads/Stomata/All/T22L600_W1_A4_R4_P226_g130_6.jpg: 480x640 12 completes, 8 blurry.completes, 5 hairs, 3.6ms\n",
      "image 267/300 /home/ray/Downloads/Stomata/All/T22L600_W1_A4_R4_P228_g209_4.jpg: 480x640 23 completes, 8 blurry.completes, 36 hairs, 3.7ms\n",
      "image 268/300 /home/ray/Downloads/Stomata/All/T22L600_W1_A4_R4_P228_g209_5.jpg: 480x640 18 completes, 6 blurry.completes, 27 hairs, 3.5ms\n",
      "image 269/300 /home/ray/Downloads/Stomata/All/T22L600_W1_A4_R4_P229_g161_2.jpg: 480x640 14 completes, 2 blurry.completes, 32 hairs, 3.4ms\n",
      "image 270/300 /home/ray/Downloads/Stomata/All/T22L600_W1_A4_R4_P229_g161_6.jpg: 480x640 19 completes, 10 blurry.completes, 7 hairs, 3.4ms\n",
      "image 271/300 /home/ray/Downloads/Stomata/All/T22L600_W1_A4_R4_P261_g193_3.jpg: 480x640 16 completes, 37 hairs, 3.4ms\n",
      "image 272/300 /home/ray/Downloads/Stomata/All/T22L600_W1_A4_R4_P261_g193_7.jpg: 480x640 17 completes, 19 blurry.completes, 10 hairs, 3.6ms\n",
      "image 273/300 /home/ray/Downloads/Stomata/All/T22L600_W1_A4_R4_P263_g118_1.jpg: 480x640 9 completes, 1 blurry.complete, 26 hairs, 3.5ms\n",
      "image 274/300 /home/ray/Downloads/Stomata/All/T22L600_W1_A4_R4_P263_g118_5.jpg: 480x640 15 completes, 8 blurry.completes, 9 hairs, 3.6ms\n",
      "image 275/300 /home/ray/Downloads/Stomata/All/T22L600_W1_A4_R7_P405_g26_2.jpg: 480x640 15 completes, 5 blurry.completes, 20 hairs, 3.4ms\n",
      "image 276/300 /home/ray/Downloads/Stomata/All/T22L600_W1_A4_R7_P405_g26_7.jpg: 480x640 20 completes, 11 blurry.completes, 10 hairs, 3.4ms\n",
      "image 277/300 /home/ray/Downloads/Stomata/All/T22L600_W1_GC1_R2_P74_g66_1.jpg: 480x640 10 completes, 6 blurry.completes, 19 hairs, 3.8ms\n",
      "image 278/300 /home/ray/Downloads/Stomata/All/T22L600_W1_GC1_R2_P74_g66_5.jpg: 480x640 14 completes, 11 blurry.completes, 1 hair, 3.7ms\n",
      "image 279/300 /home/ray/Downloads/Stomata/All/T22L600_W1_GC1_R2_P75_g61_1.jpg: 480x640 9 completes, 7 blurry.completes, 24 hairs, 5.1ms\n",
      "image 280/300 /home/ray/Downloads/Stomata/All/T22L600_W1_GC1_R2_P75_g61_8.jpg: 480x640 28 completes, 1 incomplete, 10 blurry.completes, 1 blurry.incomplete, 15 hairs, 50.6ms\n",
      "image 281/300 /home/ray/Downloads/Stomata/All/T22L600_W1_GC1_R2_P77_g92_3.jpg: 480x640 13 completes, 6 blurry.completes, 52 hairs, 3.9ms\n",
      "image 282/300 /home/ray/Downloads/Stomata/All/T22L600_W1_GC1_R2_P77_g92_5.jpg: 480x640 22 completes, 3 blurry.completes, 30 hairs, 35.2ms\n",
      "image 283/300 /home/ray/Downloads/Stomata/All/T22L600_W1_GC1_R2_P78_g12_3.jpg: 480x640 9 completes, 13 blurry.completes, 11 hairs, 3.4ms\n",
      "image 284/300 /home/ray/Downloads/Stomata/All/T22L600_W1_GC1_R2_P78_g12_6.jpg: 480x640 10 completes, 19 blurry.completes, 7 hairs, 4.1ms\n",
      "image 285/300 /home/ray/Downloads/Stomata/All/T22L600_W1_GC1_R2_P79_g44_3.jpg: 480x640 12 completes, 4 blurry.completes, 23 hairs, 3.7ms\n",
      "image 286/300 /home/ray/Downloads/Stomata/All/T22L600_W1_GC1_R2_P79_g44_5.jpg: 480x640 19 completes, 9 blurry.completes, 31 hairs, 4.6ms\n",
      "image 287/300 /home/ray/Downloads/Stomata/All/T22L600_W1_GC1_R2_P88_g90_2.jpg: 480x640 10 completes, 8 blurry.completes, 30 hairs, 3.9ms\n",
      "image 288/300 /home/ray/Downloads/Stomata/All/T22L600_W1_GC1_R2_P88_g90_7.jpg: 480x640 20 completes, 20 blurry.completes, 14 hairs, 3.5ms\n",
      "image 289/300 /home/ray/Downloads/Stomata/All/T22L600_W1_GC1_R2_P90_g26_3.jpg: 480x640 17 completes, 2 blurry.completes, 38 hairs, 4.3ms\n",
      "image 290/300 /home/ray/Downloads/Stomata/All/T22L600_W1_GC1_R2_P90_g26_7.jpg: 480x640 23 completes, 7 blurry.completes, 12 hairs, 4.1ms\n",
      "image 291/300 /home/ray/Downloads/Stomata/All/T22L600_W1_GC1_R2_P92_g99_2.jpg: 480x640 13 completes, 1 blurry.complete, 15 hairs, 3.7ms\n",
      "image 292/300 /home/ray/Downloads/Stomata/All/T22L600_W1_GC1_R2_P92_g99_8.jpg: 480x640 27 completes, 2 incompletes, 1 blurry.complete, 7 hairs, 3.1ms\n",
      "image 293/300 /home/ray/Downloads/Stomata/All/T22L600_W1_GC1_R2_P95_g18_1.jpg: 480x640 11 completes, 6 blurry.completes, 8 hairs, 3.5ms\n",
      "image 294/300 /home/ray/Downloads/Stomata/All/T22L600_W1_GC1_R2_P95_g18_7.jpg: 480x640 15 completes, 8 blurry.completes, 2 hairs, 4.4ms\n",
      "image 295/300 /home/ray/Downloads/Stomata/All/T22L600_W1_GC1_R2_P96_g80_1.jpg: 480x640 17 completes, 3 blurry.completes, 9 hairs, 3.4ms\n",
      "image 296/300 /home/ray/Downloads/Stomata/All/T22L600_W1_GC1_R2_P96_g80_5.jpg: 480x640 14 completes, 15 blurry.completes, 5 hairs, 4.0ms\n",
      "image 297/300 /home/ray/Downloads/Stomata/All/T22L600_W1_GC1_R2_P98_g16_2.jpg: 480x640 4 completes, 6 blurry.completes, 7 hairs, 3.4ms\n",
      "image 298/300 /home/ray/Downloads/Stomata/All/T22L600_W1_GC1_R2_P98_g16_7.jpg: 480x640 19 completes, 12 blurry.completes, 10 hairs, 3.3ms\n",
      "image 299/300 /home/ray/Downloads/Stomata/All/T22L600_W1_GC1_R2_P99_g47_4.jpg: 480x640 14 completes, 10 blurry.completes, 38 hairs, 7.9ms\n",
      "image 300/300 /home/ray/Downloads/Stomata/All/T22L600_W1_GC1_R2_P99_g47_5.jpg: 480x640 7 completes, 23 blurry.completes, 2 hairs, 3.6ms\n",
      "Speed: 6.1ms preprocess, 6.0ms inference, 1.5ms postprocess per image at shape (1, 3, 480, 640)\n",
      "Results saved to \u001b[1m/home/ray/runs/detect/predict3\u001b[0m\n",
      "300 labels saved to /home/ray/runs/detect/predict3/labels\n"
     ]
    }
   ],
   "source": [
    "from ultralytics import YOLO\n",
    "\n",
    "model = YOLO(\"/home/ray/runs/detect/T16T22T32Train/weights/best.pt\")  # load a custom model\n",
    "\n",
    "# Predict with the model\n",
    "results = model.predict( '/home/ray/Downloads/Stomata/All',save=True,save_crop = False,save_txt = True,save_conf = True)  # predict on an image"
   ]
  },
  {
   "cell_type": "markdown",
   "metadata": {},
   "source": [
    "##### Analysis Yolov8n  and Groundtruth predict  \n",
    "\n",
    "Compare all classes count"
   ]
  },
  {
   "cell_type": "code",
   "execution_count": 10,
   "metadata": {},
   "outputs": [
    {
     "data": {
      "text/html": [
       "<div>\n",
       "<style scoped>\n",
       "    .dataframe tbody tr th:only-of-type {\n",
       "        vertical-align: middle;\n",
       "    }\n",
       "\n",
       "    .dataframe tbody tr th {\n",
       "        vertical-align: top;\n",
       "    }\n",
       "\n",
       "    .dataframe thead th {\n",
       "        text-align: right;\n",
       "    }\n",
       "</style>\n",
       "<table border=\"1\" class=\"dataframe\">\n",
       "  <thead>\n",
       "    <tr style=\"text-align: right;\">\n",
       "      <th></th>\n",
       "      <th>class</th>\n",
       "      <th>count</th>\n",
       "    </tr>\n",
       "  </thead>\n",
       "  <tbody>\n",
       "    <tr>\n",
       "      <th>0</th>\n",
       "      <td>complete</td>\n",
       "      <td>2044</td>\n",
       "    </tr>\n",
       "    <tr>\n",
       "      <th>1</th>\n",
       "      <td>incomplete</td>\n",
       "      <td>7</td>\n",
       "    </tr>\n",
       "    <tr>\n",
       "      <th>2</th>\n",
       "      <td>blurry.complete</td>\n",
       "      <td>1173</td>\n",
       "    </tr>\n",
       "    <tr>\n",
       "      <th>3</th>\n",
       "      <td>blurry.incomplete</td>\n",
       "      <td>19</td>\n",
       "    </tr>\n",
       "    <tr>\n",
       "      <th>4</th>\n",
       "      <td>hair</td>\n",
       "      <td>2809</td>\n",
       "    </tr>\n",
       "  </tbody>\n",
       "</table>\n",
       "</div>"
      ],
      "text/plain": [
       "               class  count\n",
       "0           complete   2044\n",
       "1         incomplete      7\n",
       "2    blurry.complete   1173\n",
       "3  blurry.incomplete     19\n",
       "4               hair   2809"
      ]
     },
     "execution_count": 10,
     "metadata": {},
     "output_type": "execute_result"
    }
   ],
   "source": [
    "import pandas as pd\n",
    "import os\n",
    "import numpy as np\n",
    "\n",
    "class_name_to_id_mapping = {\"complete\": 0,\n",
    "                \"incomplete\": 1,\n",
    "                           \"blurry.complete\": 2,\n",
    "                           \"blurry.incomplete\" :3 , \n",
    "                           \"hair\":4\n",
    "                           } # human hair\n",
    "\n",
    "class_id_to_name_mapping = dict(zip(class_name_to_id_mapping.values(), class_name_to_id_mapping.keys()))\n",
    "\n",
    "#get predicts data\n",
    "predicts = [os.path.join('/home/ray/runs/detect/predict2/labels', x) for x in os.listdir('/home/ray/runs/detect/predict2/labels') if x[-3:] == 'txt' ]\n",
    "\n",
    "\n",
    "def GetPredictResults(predicts,dic):\n",
    "\n",
    "    \n",
    "    for i in range(0,len(predicts)):\n",
    "        predict_file = predicts[i]\n",
    "        with open(predict_file, \"r\") as file:\n",
    "                predict_list = file.read().split(\"\\n\")[:-1]\n",
    "                predict_list = [x.split(\" \") for x in predict_list]\n",
    "                predict_list = [[float(y) for y in x ] for x in predict_list]\n",
    "\n",
    "        \n",
    "        predict_list = np.array(predict_list)\n",
    "    \n",
    "\n",
    "        for ann in predict_list:\n",
    "            obj_cls, x0, y0, x1, y1 , conf = ann\n",
    "            dic[\"count\"][int(obj_cls)] += 1\n",
    "        \n",
    "        \n",
    "\n",
    "dic = { \"class\" : class_name_to_id_mapping.keys() , \"count\" : [0,0,0,0,0]}\n",
    "\n",
    "GetPredictResults(predicts,dic)\n",
    "\n",
    "dic_df = pd.DataFrame(dic)\n",
    "\n",
    "dic_df.to_csv('T32PredictResults.csv')\n",
    "\n",
    "dic_df\n",
    "\n"
   ]
  }
 ],
 "metadata": {
  "kernelspec": {
   "display_name": "StomataYolov8",
   "language": "python",
   "name": "python3"
  },
  "language_info": {
   "codemirror_mode": {
    "name": "ipython",
    "version": 3
   },
   "file_extension": ".py",
   "mimetype": "text/x-python",
   "name": "python",
   "nbconvert_exporter": "python",
   "pygments_lexer": "ipython3",
   "version": "3.10.13"
  }
 },
 "nbformat": 4,
 "nbformat_minor": 2
}
